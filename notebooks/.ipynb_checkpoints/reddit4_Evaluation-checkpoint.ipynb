{
 "cells": [
  {
   "cell_type": "markdown",
   "metadata": {},
   "source": [
    "# The \"Most Epic\" Data-Science Project\n",
    "# Notebook-4 (Model Evaluation)\n",
    "### Perry Shyr"
   ]
  },
  {
   "cell_type": "markdown",
   "metadata": {},
   "source": [
    "### This notebook covers the two best models found in the previous notebook.  I use confusion matrices and run new unseen data through my models to generate direct comparisons.  I also look at the misclassified posts from the new test data to glean differences between the logistic regression and random-forests models. "
   ]
  },
  {
   "cell_type": "markdown",
   "metadata": {},
   "source": [
    "## Load libraries"
   ]
  },
  {
   "cell_type": "code",
   "execution_count": 76,
   "metadata": {},
   "outputs": [],
   "source": [
    "import numpy as np\n",
    "import pandas as pd\n",
    "import json\n",
    "import pickle\n",
    "import matplotlib.pyplot as plt\n",
    "import seaborn as sns\n",
    "import time\n",
    "\n",
    "from sklearn.model_selection import train_test_split, cross_val_score\n",
    "from sklearn.feature_extraction.text import TfidfVectorizer\n",
    "from sklearn.linear_model import LogisticRegression\n",
    "from sklearn.naive_bayes import MultinomialNB\n",
    "from sklearn.neighbors import KNeighborsClassifier\n",
    "from sklearn.ensemble import RandomForestClassifier\n",
    "from sklearn.grid_search import GridSearchCV\n",
    "from sklearn import svm, linear_model, datasets\n",
    "\n",
    "from sklearn.decomposition import TruncatedSVD\n",
    "from sklearn.metrics.pairwise import cosine_similarity\n",
    "from sklearn.metrics import confusion_matrix\n",
    "from sklearn.metrics import recall_score, make_scorer, f1_score, precision_score\n",
    "from sklearn.metrics import classification_report, roc_curve\n",
    "\n",
    "np.random.seed(42)\n",
    "\n",
    "%matplotlib inline"
   ]
  },
  {
   "cell_type": "markdown",
   "metadata": {},
   "source": [
    "## Load data"
   ]
  },
  {
   "cell_type": "code",
   "execution_count": 77,
   "metadata": {},
   "outputs": [],
   "source": [
    "data =        pd.read_csv('../data/combined_no_star.csv')           #  Original dataset from both subreddits\n",
    "new_test_df = pd.read_csv('../data/combined_new_test_no_star.csv')  #  New posts collected from both subreddits"
   ]
  },
  {
   "cell_type": "code",
   "execution_count": 78,
   "metadata": {},
   "outputs": [
    {
     "data": {
      "text/html": [
       "<div>\n",
       "<style scoped>\n",
       "    .dataframe tbody tr th:only-of-type {\n",
       "        vertical-align: middle;\n",
       "    }\n",
       "\n",
       "    .dataframe tbody tr th {\n",
       "        vertical-align: top;\n",
       "    }\n",
       "\n",
       "    .dataframe thead th {\n",
       "        text-align: right;\n",
       "    }\n",
       "</style>\n",
       "<table border=\"1\" class=\"dataframe\">\n",
       "  <thead>\n",
       "    <tr style=\"text-align: right;\">\n",
       "      <th></th>\n",
       "      <th>text</th>\n",
       "      <th>title</th>\n",
       "      <th>is_trek</th>\n",
       "    </tr>\n",
       "  </thead>\n",
       "  <tbody>\n",
       "    <tr>\n",
       "      <th>1824</th>\n",
       "      <td>NaN</td>\n",
       "      <td>Kate Mulgrew panel at the 2018 Trek Convention...</td>\n",
       "      <td>1</td>\n",
       "    </tr>\n",
       "    <tr>\n",
       "      <th>1825</th>\n",
       "      <td>How about show that the reason he never marrie...</td>\n",
       "      <td>Brilliant Idea for Trek: Picard</td>\n",
       "      <td>1</td>\n",
       "    </tr>\n",
       "    <tr>\n",
       "      <th>1826</th>\n",
       "      <td>NaN</td>\n",
       "      <td>The Trek Family Photo</td>\n",
       "      <td>1</td>\n",
       "    </tr>\n",
       "    <tr>\n",
       "      <th>1827</th>\n",
       "      <td>NaN</td>\n",
       "      <td>My inner thoughts when I heard the news</td>\n",
       "      <td>1</td>\n",
       "    </tr>\n",
       "    <tr>\n",
       "      <th>1828</th>\n",
       "      <td>http://i.imgur.com/Pf3HWEp.gifv\\n\\n/r/startrek...</td>\n",
       "      <td>When Patrick Stewart thought he was done with ...</td>\n",
       "      <td>1</td>\n",
       "    </tr>\n",
       "  </tbody>\n",
       "</table>\n",
       "</div>"
      ],
      "text/plain": [
       "                                                   text  \\\n",
       "1824                                                NaN   \n",
       "1825  How about show that the reason he never marrie...   \n",
       "1826                                                NaN   \n",
       "1827                                                NaN   \n",
       "1828  http://i.imgur.com/Pf3HWEp.gifv\\n\\n/r/startrek...   \n",
       "\n",
       "                                                  title  is_trek  \n",
       "1824  Kate Mulgrew panel at the 2018 Trek Convention...        1  \n",
       "1825                    Brilliant Idea for Trek: Picard        1  \n",
       "1826                              The Trek Family Photo        1  \n",
       "1827            My inner thoughts when I heard the news        1  \n",
       "1828  When Patrick Stewart thought he was done with ...        1  "
      ]
     },
     "execution_count": 78,
     "metadata": {},
     "output_type": "execute_result"
    }
   ],
   "source": [
    "data.tail()"
   ]
  },
  {
   "cell_type": "code",
   "execution_count": 79,
   "metadata": {},
   "outputs": [
    {
     "data": {
      "text/html": [
       "<div>\n",
       "<style scoped>\n",
       "    .dataframe tbody tr th:only-of-type {\n",
       "        vertical-align: middle;\n",
       "    }\n",
       "\n",
       "    .dataframe tbody tr th {\n",
       "        vertical-align: top;\n",
       "    }\n",
       "\n",
       "    .dataframe thead th {\n",
       "        text-align: right;\n",
       "    }\n",
       "</style>\n",
       "<table border=\"1\" class=\"dataframe\">\n",
       "  <thead>\n",
       "    <tr style=\"text-align: right;\">\n",
       "      <th></th>\n",
       "      <th>test_titles</th>\n",
       "      <th>target</th>\n",
       "    </tr>\n",
       "  </thead>\n",
       "  <tbody>\n",
       "    <tr>\n",
       "      <th>436</th>\n",
       "      <td>\"Trek V: The Final Frontier\" (1989): God only ...</td>\n",
       "      <td>1</td>\n",
       "    </tr>\n",
       "    <tr>\n",
       "      <th>437</th>\n",
       "      <td>Random DS9 questions</td>\n",
       "      <td>1</td>\n",
       "    </tr>\n",
       "    <tr>\n",
       "      <th>438</th>\n",
       "      <td>[video] \"Matters of internal security. The age...</td>\n",
       "      <td>1</td>\n",
       "    </tr>\n",
       "    <tr>\n",
       "      <th>439</th>\n",
       "      <td>Starting TOS for the very first time</td>\n",
       "      <td>1</td>\n",
       "    </tr>\n",
       "    <tr>\n",
       "      <th>440</th>\n",
       "      <td>Jammer:Pondering Patrick Stewart’s return to t...</td>\n",
       "      <td>1</td>\n",
       "    </tr>\n",
       "  </tbody>\n",
       "</table>\n",
       "</div>"
      ],
      "text/plain": [
       "                                           test_titles  target\n",
       "436  \"Trek V: The Final Frontier\" (1989): God only ...       1\n",
       "437                               Random DS9 questions       1\n",
       "438  [video] \"Matters of internal security. The age...       1\n",
       "439               Starting TOS for the very first time       1\n",
       "440  Jammer:Pondering Patrick Stewart’s return to t...       1"
      ]
     },
     "execution_count": 79,
     "metadata": {},
     "output_type": "execute_result"
    }
   ],
   "source": [
    "new_test_df.tail()"
   ]
  },
  {
   "cell_type": "markdown",
   "metadata": {},
   "source": [
    "## Load sparse-matrices and models:"
   ]
  },
  {
   "cell_type": "code",
   "execution_count": 80,
   "metadata": {},
   "outputs": [],
   "source": [
    "with open('../data/tfidf.pkl', 'rb') as f:                 #  Vectorized data.\n",
    "    tfidf = pickle.load(f)"
   ]
  },
  {
   "cell_type": "code",
   "execution_count": 81,
   "metadata": {},
   "outputs": [],
   "source": [
    "with open('../data/p3_xtrain_transform.pkl', 'rb') as f:      #  Training-split data in sparse matrix.\n",
    "    X_train_transform = pickle.load(f)"
   ]
  },
  {
   "cell_type": "code",
   "execution_count": 82,
   "metadata": {},
   "outputs": [],
   "source": [
    "with open('../data/p3_xtest_transform.pkl', 'rb') as f:       #  Test-split data in sparse matrix.\n",
    "    X_test_transform = pickle.load(f)"
   ]
  },
  {
   "cell_type": "code",
   "execution_count": 83,
   "metadata": {},
   "outputs": [],
   "source": [
    "with open('../data/p3_log_reg_MinDF2.pkl', 'rb') as f:            #  Logistic-regression model.     \n",
    "    model_logreg = pickle.load(f)"
   ]
  },
  {
   "cell_type": "code",
   "execution_count": 84,
   "metadata": {},
   "outputs": [],
   "source": [
    "with open('../data/p3_randomforests.pkl', 'rb') as f:      #  Random-forests model.\n",
    "    model_rf = pickle.load(f)"
   ]
  },
  {
   "cell_type": "markdown",
   "metadata": {},
   "source": [
    "### Split data:"
   ]
  },
  {
   "cell_type": "code",
   "execution_count": 85,
   "metadata": {},
   "outputs": [],
   "source": [
    "X=data['title']\n",
    "y=data['is_trek']"
   ]
  },
  {
   "cell_type": "code",
   "execution_count": 86,
   "metadata": {},
   "outputs": [],
   "source": [
    "X_train, X_test, y_train, y_test = train_test_split(X,\n",
    "                                                    y, \n",
    "                                                    random_state = 42)"
   ]
  },
  {
   "cell_type": "code",
   "execution_count": null,
   "metadata": {},
   "outputs": [],
   "source": []
  },
  {
   "cell_type": "markdown",
   "metadata": {},
   "source": [
    "### Confusion Matrices:"
   ]
  },
  {
   "cell_type": "markdown",
   "metadata": {},
   "source": [
    "#### (Logistic-regression)"
   ]
  },
  {
   "cell_type": "code",
   "execution_count": 87,
   "metadata": {},
   "outputs": [],
   "source": [
    "predictions_logreg = model_logreg.predict(X_test_transform)"
   ]
  },
  {
   "cell_type": "code",
   "execution_count": 88,
   "metadata": {},
   "outputs": [
    {
     "data": {
      "text/plain": [
       "array([[198,  16],\n",
       "       [ 36, 208]])"
      ]
     },
     "execution_count": 88,
     "metadata": {},
     "output_type": "execute_result"
    }
   ],
   "source": [
    "confusion_matrix(y_test, predictions_logreg)"
   ]
  },
  {
   "cell_type": "code",
   "execution_count": 89,
   "metadata": {},
   "outputs": [],
   "source": [
    "df_cm1 = pd.DataFrame(confusion_matrix(y_test, predictions_logreg), columns=[\"\",\"True Star-Trek\"])"
   ]
  },
  {
   "cell_type": "code",
   "execution_count": 90,
   "metadata": {},
   "outputs": [
    {
     "data": {
      "text/plain": [
       "<matplotlib.axes._subplots.AxesSubplot at 0x10acef0f0>"
      ]
     },
     "execution_count": 90,
     "metadata": {},
     "output_type": "execute_result"
    },
    {
     "data": {
      "image/png": "[encoded data removed]",
      "text/plain": [
       "<Figure size 504x504 with 1 Axes>"
      ]
     },
     "metadata": {},
     "output_type": "display_data"
    }
   ],
   "source": [
    "fig, ax = plt.subplots(figsize=(7,7))\n",
    "title= \"Confusion Matrix - LogReg (Score=.886)\"\n",
    "plt.title(title, fontsize=18)\n",
    "sns.heatmap(df_cm1, \n",
    "            annot=True, \n",
    "            annot_kws={\"size\": 30}, \n",
    "            linewidths=.5, \n",
    "            fmt=\"g\", \n",
    "            cmap=\"YlGnBu\", \n",
    "            cbar=False,\n",
    "            xticklabels=False,\n",
    "            yticklabels=False)"
   ]
  },
  {
   "cell_type": "code",
   "execution_count": null,
   "metadata": {},
   "outputs": [],
   "source": []
  },
  {
   "cell_type": "markdown",
   "metadata": {},
   "source": [
    "#### (Random-forests model)"
   ]
  },
  {
   "cell_type": "code",
   "execution_count": 91,
   "metadata": {},
   "outputs": [],
   "source": [
    "predictions_rf = model_rf.predict(X_test_transform)"
   ]
  },
  {
   "cell_type": "code",
   "execution_count": 92,
   "metadata": {},
   "outputs": [
    {
     "data": {
      "text/plain": [
       "array([[163,  51],\n",
       "       [ 26, 218]])"
      ]
     },
     "execution_count": 92,
     "metadata": {},
     "output_type": "execute_result"
    }
   ],
   "source": [
    "confusion_matrix(y_test, predictions_rf)"
   ]
  },
  {
   "cell_type": "code",
   "execution_count": 93,
   "metadata": {},
   "outputs": [],
   "source": [
    "df_cm2 = pd.DataFrame(confusion_matrix(y_test, predictions_rf), columns=[\"\",\"True Star-Trek\"])"
   ]
  },
  {
   "cell_type": "code",
   "execution_count": 94,
   "metadata": {},
   "outputs": [
    {
     "data": {
      "text/plain": [
       "<matplotlib.axes._subplots.AxesSubplot at 0x10acd2780>"
      ]
     },
     "execution_count": 94,
     "metadata": {},
     "output_type": "execute_result"
    },
    {
     "data": {
      "image/png": "[encoded data removed]",
      "text/plain": [
       "<Figure size 504x504 with 1 Axes>"
      ]
     },
     "metadata": {},
     "output_type": "display_data"
    }
   ],
   "source": [
    "fig, ax = plt.subplots(figsize=(7,7))\n",
    "title= \"Confusion Matrix - RanFor (Score=.832)\"\n",
    "plt.title(title, fontsize=18)\n",
    "sns.heatmap(df_cm2, \n",
    "            annot=True, \n",
    "            annot_kws={\"size\": 30}, \n",
    "            linewidths=.5, \n",
    "            fmt=\"g\", \n",
    "            cmap=\"BuGn\", \n",
    "            cbar=False,\n",
    "            xticklabels=False,\n",
    "            yticklabels=False)"
   ]
  },
  {
   "cell_type": "code",
   "execution_count": null,
   "metadata": {},
   "outputs": [],
   "source": []
  },
  {
   "cell_type": "markdown",
   "metadata": {},
   "source": [
    "## Features importances:"
   ]
  },
  {
   "cell_type": "markdown",
   "metadata": {},
   "source": [
    "#### (Logistic-regression)"
   ]
  },
  {
   "cell_type": "code",
   "execution_count": 95,
   "metadata": {},
   "outputs": [
    {
     "data": {
      "text/html": [
       "<div>\n",
       "<style scoped>\n",
       "    .dataframe tbody tr th:only-of-type {\n",
       "        vertical-align: middle;\n",
       "    }\n",
       "\n",
       "    .dataframe tbody tr th {\n",
       "        vertical-align: top;\n",
       "    }\n",
       "\n",
       "    .dataframe thead th {\n",
       "        text-align: right;\n",
       "    }\n",
       "</style>\n",
       "<table border=\"1\" class=\"dataframe\">\n",
       "  <thead>\n",
       "    <tr style=\"text-align: right;\">\n",
       "      <th></th>\n",
       "      <th>is_trek_loading</th>\n",
       "    </tr>\n",
       "  </thead>\n",
       "  <tbody>\n",
       "    <tr>\n",
       "      <th>trek</th>\n",
       "      <td>6.108114</td>\n",
       "    </tr>\n",
       "    <tr>\n",
       "      <th>picard</th>\n",
       "      <td>3.271791</td>\n",
       "    </tr>\n",
       "    <tr>\n",
       "      <th>tng</th>\n",
       "      <td>2.953499</td>\n",
       "    </tr>\n",
       "    <tr>\n",
       "      <th>discovery</th>\n",
       "      <td>2.691126</td>\n",
       "    </tr>\n",
       "    <tr>\n",
       "      <th>ds9</th>\n",
       "      <td>2.342044</td>\n",
       "    </tr>\n",
       "  </tbody>\n",
       "</table>\n",
       "</div>"
      ],
      "text/plain": [
       "           is_trek_loading\n",
       "trek              6.108114\n",
       "picard            3.271791\n",
       "tng               2.953499\n",
       "discovery         2.691126\n",
       "ds9               2.342044"
      ]
     },
     "execution_count": 95,
     "metadata": {},
     "output_type": "execute_result"
    }
   ],
   "source": [
    "df_loadings = pd.DataFrame(model_logreg.coef_, columns=tfidf.get_feature_names(), index=['is_trek_loading']).T\n",
    "feat_st = df_loadings.sort_values('is_trek_loading',ascending=False).head()\n",
    "feat_st"
   ]
  },
  {
   "cell_type": "code",
   "execution_count": 96,
   "metadata": {},
   "outputs": [
    {
     "data": {
      "text/html": [
       "<div>\n",
       "<style scoped>\n",
       "    .dataframe tbody tr th:only-of-type {\n",
       "        vertical-align: middle;\n",
       "    }\n",
       "\n",
       "    .dataframe tbody tr th {\n",
       "        vertical-align: top;\n",
       "    }\n",
       "\n",
       "    .dataframe thead th {\n",
       "        text-align: right;\n",
       "    }\n",
       "</style>\n",
       "<table border=\"1\" class=\"dataframe\">\n",
       "  <thead>\n",
       "    <tr style=\"text-align: right;\">\n",
       "      <th></th>\n",
       "      <th>is_trek_loading</th>\n",
       "    </tr>\n",
       "  </thead>\n",
       "  <tbody>\n",
       "    <tr>\n",
       "      <th>vader</th>\n",
       "      <td>-1.418155</td>\n",
       "    </tr>\n",
       "    <tr>\n",
       "      <th>luke</th>\n",
       "      <td>-1.465894</td>\n",
       "    </tr>\n",
       "    <tr>\n",
       "      <th>force</th>\n",
       "      <td>-1.504496</td>\n",
       "    </tr>\n",
       "    <tr>\n",
       "      <th>jedi</th>\n",
       "      <td>-2.402390</td>\n",
       "    </tr>\n",
       "    <tr>\n",
       "      <th>wars</th>\n",
       "      <td>-4.349937</td>\n",
       "    </tr>\n",
       "  </tbody>\n",
       "</table>\n",
       "</div>"
      ],
      "text/plain": [
       "       is_trek_loading\n",
       "vader        -1.418155\n",
       "luke         -1.465894\n",
       "force        -1.504496\n",
       "jedi         -2.402390\n",
       "wars         -4.349937"
      ]
     },
     "execution_count": 96,
     "metadata": {},
     "output_type": "execute_result"
    }
   ],
   "source": [
    "feat_sw = df_loadings.sort_values('is_trek_loading',ascending=False).tail()\n",
    "feat_sw"
   ]
  },
  {
   "cell_type": "code",
   "execution_count": null,
   "metadata": {},
   "outputs": [],
   "source": []
  },
  {
   "cell_type": "code",
   "execution_count": 97,
   "metadata": {},
   "outputs": [
    {
     "data": {
      "image/png": "[encoded data removed]",
      "text/plain": [
       "<Figure size 720x432 with 1 Axes>"
      ]
     },
     "metadata": {},
     "output_type": "display_data"
    }
   ],
   "source": [
    "plt.figure(figsize=(10,6))\n",
    "locs, labels = plt.xticks(fontsize=15)\n",
    "plt.setp(labels, rotation=0)\n",
    "plt.title('End-member LogReg-Model Features')\n",
    "plt.bar(feat_st.index, \n",
    "        feat_st[['is_trek_loading']].T.values[0], \n",
    "        alpha=1, align='center', width=-.6, ec='k', color='olive')\n",
    "plt.bar(feat_sw.index, \n",
    "        feat_sw[['is_trek_loading']].T.values[0], \n",
    "        alpha=1, align='center', width=.6, ec='k', color='pink')\n",
    "plt.legend(['ln(Star Trek)','ln(Star Wars)'])\n",
    "plt.tight_layout();"
   ]
  },
  {
   "cell_type": "markdown",
   "metadata": {},
   "source": [
    "#### (Random-forests model)"
   ]
  },
  {
   "cell_type": "code",
   "execution_count": 98,
   "metadata": {},
   "outputs": [
    {
     "data": {
      "text/html": [
       "<div>\n",
       "<style scoped>\n",
       "    .dataframe tbody tr th:only-of-type {\n",
       "        vertical-align: middle;\n",
       "    }\n",
       "\n",
       "    .dataframe tbody tr th {\n",
       "        vertical-align: top;\n",
       "    }\n",
       "\n",
       "    .dataframe thead th {\n",
       "        text-align: right;\n",
       "    }\n",
       "</style>\n",
       "<table border=\"1\" class=\"dataframe\">\n",
       "  <thead>\n",
       "    <tr style=\"text-align: right;\">\n",
       "      <th></th>\n",
       "      <th>is_trek_loading</th>\n",
       "    </tr>\n",
       "  </thead>\n",
       "  <tbody>\n",
       "    <tr>\n",
       "      <th>trek</th>\n",
       "      <td>0.103428</td>\n",
       "    </tr>\n",
       "    <tr>\n",
       "      <th>wars</th>\n",
       "      <td>0.052620</td>\n",
       "    </tr>\n",
       "    <tr>\n",
       "      <th>picard</th>\n",
       "      <td>0.031138</td>\n",
       "    </tr>\n",
       "    <tr>\n",
       "      <th>tng</th>\n",
       "      <td>0.026870</td>\n",
       "    </tr>\n",
       "    <tr>\n",
       "      <th>discovery</th>\n",
       "      <td>0.023037</td>\n",
       "    </tr>\n",
       "    <tr>\n",
       "      <th>jedi</th>\n",
       "      <td>0.019217</td>\n",
       "    </tr>\n",
       "    <tr>\n",
       "      <th>ds9</th>\n",
       "      <td>0.016794</td>\n",
       "    </tr>\n",
       "    <tr>\n",
       "      <th>enterprise</th>\n",
       "      <td>0.015647</td>\n",
       "    </tr>\n",
       "    <tr>\n",
       "      <th>series</th>\n",
       "      <td>0.014122</td>\n",
       "    </tr>\n",
       "    <tr>\n",
       "      <th>voyager</th>\n",
       "      <td>0.012567</td>\n",
       "    </tr>\n",
       "  </tbody>\n",
       "</table>\n",
       "</div>"
      ],
      "text/plain": [
       "            is_trek_loading\n",
       "trek               0.103428\n",
       "wars               0.052620\n",
       "picard             0.031138\n",
       "tng                0.026870\n",
       "discovery          0.023037\n",
       "jedi               0.019217\n",
       "ds9                0.016794\n",
       "enterprise         0.015647\n",
       "series             0.014122\n",
       "voyager            0.012567"
      ]
     },
     "execution_count": 98,
     "metadata": {},
     "output_type": "execute_result"
    }
   ],
   "source": [
    "df_loads = pd.DataFrame(model_rf.feature_importances_.reshape(model_rf.feature_importances_.shape[0],-1).T, \n",
    "                           columns=tfidf.get_feature_names(), index=['is_trek_loading']).T\n",
    "df_loads = df_loads.sort_values('is_trek_loading',ascending=False).head(10)\n",
    "df_loads"
   ]
  },
  {
   "cell_type": "code",
   "execution_count": 99,
   "metadata": {},
   "outputs": [
    {
     "data": {
      "image/png": "[encoded data removed]",
      "text/plain": [
       "<Figure size 720x432 with 1 Axes>"
      ]
     },
     "metadata": {},
     "output_type": "display_data"
    }
   ],
   "source": [
    "plt.figure(figsize=(10,6))\n",
    "locs, labels = plt.xticks(fontsize=15)\n",
    "plt.setp(labels, rotation=0)\n",
    "plt.title('Top Random-Forests Model Features')\n",
    "plt.bar(df_loads.index, \n",
    "        df_loads[['is_trek_loading']].T.values[0], \n",
    "        alpha=1, align='center', width=.6, ec='k', color='gray')\n",
    "plt.tight_layout();"
   ]
  },
  {
   "cell_type": "code",
   "execution_count": null,
   "metadata": {},
   "outputs": [],
   "source": []
  },
  {
   "cell_type": "markdown",
   "metadata": {},
   "source": [
    "## Prediction on New Data:\n",
    "\n",
    "### 441 posts collected on Sep-06 included 289 Star-wars and 152 Star-Trek unique posts not found in the training data."
   ]
  },
  {
   "cell_type": "markdown",
   "metadata": {},
   "source": [
    "#### (Logistic regression)"
   ]
  },
  {
   "cell_type": "code",
   "execution_count": 100,
   "metadata": {},
   "outputs": [],
   "source": [
    "X_new = new_test_df['test_titles']\n",
    "y_new=new_test_df['target']"
   ]
  },
  {
   "cell_type": "code",
   "execution_count": 101,
   "metadata": {},
   "outputs": [],
   "source": [
    "X_new_transform = tfidf.transform(X_new)"
   ]
  },
  {
   "cell_type": "code",
   "execution_count": 102,
   "metadata": {},
   "outputs": [
    {
     "data": {
      "text/plain": [
       "0.8934240362811792"
      ]
     },
     "execution_count": 102,
     "metadata": {},
     "output_type": "execute_result"
    }
   ],
   "source": [
    "model_logreg.score(X_new_transform, y_new)"
   ]
  },
  {
   "cell_type": "code",
   "execution_count": 103,
   "metadata": {},
   "outputs": [],
   "source": [
    "predictions_logreg_new = model_logreg.predict(X_new_transform)"
   ]
  },
  {
   "cell_type": "code",
   "execution_count": 104,
   "metadata": {},
   "outputs": [
    {
     "data": {
      "text/plain": [
       "array([[261,  28],\n",
       "       [ 19, 133]])"
      ]
     },
     "execution_count": 104,
     "metadata": {},
     "output_type": "execute_result"
    }
   ],
   "source": [
    "confusion_matrix(y_new, predictions_logreg_new)"
   ]
  },
  {
   "cell_type": "code",
   "execution_count": 116,
   "metadata": {},
   "outputs": [
    {
     "name": "stdout",
     "output_type": "stream",
     "text": [
      "             precision    recall  f1-score   support\n",
      "\n",
      "          0       0.93      0.90      0.92       289\n",
      "          1       0.83      0.88      0.85       152\n",
      "\n",
      "avg / total       0.90      0.89      0.89       441\n",
      "\n"
     ]
    }
   ],
   "source": [
    "tn, fp, fn, tp = confusion_matrix(y_new, predictions_logreg_new).ravel()\n",
    "print(classification_report(y_new, predictions_logreg_new))"
   ]
  },
  {
   "cell_type": "code",
   "execution_count": 105,
   "metadata": {},
   "outputs": [],
   "source": [
    "df_cm3 = pd.DataFrame(confusion_matrix(y_new, predictions_logreg_new), columns=[\"\",\"True Star-Trek\"])"
   ]
  },
  {
   "cell_type": "code",
   "execution_count": 106,
   "metadata": {},
   "outputs": [
    {
     "data": {
      "text/plain": [
       "<matplotlib.axes._subplots.AxesSubplot at 0x1a1f4870b8>"
      ]
     },
     "execution_count": 106,
     "metadata": {},
     "output_type": "execute_result"
    },
    {
     "data": {
      "image/png": "[encoded data removed]",
      "text/plain": [
       "<Figure size 504x504 with 1 Axes>"
      ]
     },
     "metadata": {},
     "output_type": "display_data"
    }
   ],
   "source": [
    "fig, ax = plt.subplots(figsize=(7,7))\n",
    "title= \"Confusion Matrix - LogReg_test (Score=.893)\"\n",
    "plt.title(title, fontsize=18)\n",
    "sns.heatmap(df_cm3, \n",
    "            annot=True, \n",
    "            annot_kws={\"size\": 30}, \n",
    "            linewidths=.5, \n",
    "            fmt=\"g\", \n",
    "            cmap=\"YlGnBu\", \n",
    "            cbar=False,\n",
    "            xticklabels=False,\n",
    "            yticklabels=False)"
   ]
  },
  {
   "cell_type": "markdown",
   "metadata": {},
   "source": [
    "### Misclassified posts (about 10.7% for logistic-regression):"
   ]
  },
  {
   "cell_type": "code",
   "execution_count": 107,
   "metadata": {},
   "outputs": [
    {
     "name": "stdout",
     "output_type": "stream",
     "text": [
      "1 false-Trek Fulfill your destiny\n",
      "2 false-Trek Any good books set in the OT without any of the main characters\n",
      "3 false-Trek Hailfire droid vs AT-AT: Which would win?\n",
      "4 false-Trek Is there anyone that knows the name of this ship?\n",
      "5 false-Trek Episodes I-VI Bonus Features\n",
      "6 false-Trek Was watching Evolution on Amazon when I saw a trivia popup about David Duchovny. Big mistake David.\n",
      "7 false-Trek Box set for episodes 7-9? (See text) (Movies)\n",
      "8 false-Trek I was rewatching season 1 of Rebels and a line from Tarken stood out to me\n",
      "9 false-Trek This label maker knows what it’s doing\n",
      "10 false-Trek Are there any intelligent aquatic species that can't breathe on land?\n",
      "11 false-Trek 1000 Storm Troopers vs 2000 Nazi Zombies - Ultimate epic simulator\n",
      "12 false-Trek What should I read or watch before reading Timothy Zahn Thrawn ?\n",
      "13 false-Trek Can lightning be summoned in space?\n",
      "14 false-Trek Just traveling through Dingle, Ireland and found this masterpiece.\n",
      "15 false-Trek Married my forever nerd last week\n",
      "16 false-Trek Lightsabers You Can Hug: An Interview with Softsabers Creator Michelle Sharp\n",
      "17 false-Trek The guy who plays jeremiah in gotham would make a really good young thrawn\n",
      "18 false-Trek All the hate for BFII aside - I REALLY enjoyed..\n",
      "19 false-Trek My husband suggested we should remove Admiral Akbar from the toilet seat when we renovated our bathroom. But I’d already designed the entire space taking the good Admiral’s bold black and white silhouette as the main inspiration and focal point.\n",
      "20 false-Trek Come to the dark side, we have cookies.\n",
      "21 false-Trek Who would you spend 3 hours with alone in a room?\n",
      "22 false-Trek Just a small sample of 70’s and 80’s figures I sell\n",
      "23 false-Trek [ThePruld] Ewok (0:33, make sure you turn the subtitles on!)\n",
      "24 false-Trek Never too late to learn!\n",
      "25 false-Trek Let’s talk cross fire. Why isn’t it really an issue in any of the live action or animated series?\n",
      "26 false-Trek I couldn’t resist...\n",
      "27 false-Trek Need a pepakura file!\n",
      "28 false-Trek Just trying to help...\n",
      "29 false-Wars How a scene in “Bloodlines” should have gone\n",
      "30 false-Wars I just thought of a great idea (I think so, at least)\n",
      "31 false-Wars How did you fall in love?\n",
      "32 false-Wars Is there something that a show or movie did wrong, but you don't think could've ever been done right?\n",
      "33 false-Wars Shop LLAP is having a Labor Day sale.\n",
      "34 false-Wars Taking Memory Beta out of context is fun\n",
      "35 false-Wars Here's a thought: what would they keep in their pockets? (If they had them?)\n",
      "36 false-Wars I made this dumb little thing a while back. Maybe you guys will like it and get a chuckle.\n",
      "37 false-Wars Wolf 359\n",
      "38 false-Wars Trival Pursuit commercial with McCoy\n",
      "39 false-Wars What would Quark think if he saw The Wolf of Wall Street?\n",
      "40 false-Wars Anyone for a good old sing-song?\n",
      "41 false-Wars I am wondering if the \"Short Treks\" are starting this month\n",
      "42 false-Wars Has there been any word on when the Short Treks show is supposed to premiere?\n",
      "43 false-Wars Bloopers\n",
      "44 false-Wars What are your favorite Enterprises?\n",
      "45 false-Wars Which movie had the best (and worst) music?\n",
      "46 false-Wars Unsettling/Creepy Episode Reccomendations\n",
      "47 false-Wars [video] \"Matters of internal security. The age-old cry of the Oppressor\"\n"
     ]
    }
   ],
   "source": [
    "ct_logreg=0\n",
    "for i in range(len(X_new)):\n",
    "    if list(predictions_logreg_new)[i] != y_new[i]:\n",
    "        ct_logreg += 1\n",
    "        if list(predictions_logreg_new)[i] == 0:\n",
    "            print(ct_logreg, 'false-Wars',X_new[i])\n",
    "        else:\n",
    "            print(ct_logreg, 'false-Trek',X_new[i])"
   ]
  },
  {
   "cell_type": "code",
   "execution_count": null,
   "metadata": {},
   "outputs": [],
   "source": []
  },
  {
   "cell_type": "markdown",
   "metadata": {},
   "source": [
    "#### (Random-forests)"
   ]
  },
  {
   "cell_type": "code",
   "execution_count": 108,
   "metadata": {},
   "outputs": [
    {
     "data": {
      "text/plain": [
       "0.81859410430839"
      ]
     },
     "execution_count": 108,
     "metadata": {},
     "output_type": "execute_result"
    }
   ],
   "source": [
    "model_rf.score(X_new_transform, y_new)"
   ]
  },
  {
   "cell_type": "code",
   "execution_count": 109,
   "metadata": {},
   "outputs": [],
   "source": [
    "predictions_rf_new = model_rf.predict(X_new_transform)"
   ]
  },
  {
   "cell_type": "code",
   "execution_count": 110,
   "metadata": {},
   "outputs": [
    {
     "data": {
      "text/plain": [
       "array([[227,  62],\n",
       "       [ 18, 134]])"
      ]
     },
     "execution_count": 110,
     "metadata": {},
     "output_type": "execute_result"
    }
   ],
   "source": [
    "confusion_matrix(y_new, predictions_rf_new)"
   ]
  },
  {
   "cell_type": "code",
   "execution_count": 115,
   "metadata": {},
   "outputs": [
    {
     "name": "stdout",
     "output_type": "stream",
     "text": [
      "             precision    recall  f1-score   support\n",
      "\n",
      "          0       0.93      0.79      0.85       289\n",
      "          1       0.68      0.88      0.77       152\n",
      "\n",
      "avg / total       0.84      0.82      0.82       441\n",
      "\n"
     ]
    }
   ],
   "source": [
    "tn, fp, fn, tp = confusion_matrix(y_new, predictions_rf_new).ravel()\n",
    "print(classification_report(y_new, predictions_rf_new))"
   ]
  },
  {
   "cell_type": "code",
   "execution_count": 111,
   "metadata": {},
   "outputs": [],
   "source": [
    "df_cm4 = pd.DataFrame(confusion_matrix(y_new, predictions_rf_new), columns=[\"\",\"True Star-Trek\"])"
   ]
  },
  {
   "cell_type": "code",
   "execution_count": 112,
   "metadata": {},
   "outputs": [
    {
     "data": {
      "text/plain": [
       "<matplotlib.axes._subplots.AxesSubplot at 0x1a1f0f8dd8>"
      ]
     },
     "execution_count": 112,
     "metadata": {},
     "output_type": "execute_result"
    },
    {
     "data": {
      "image/png": "[encoded data removed]",
      "text/plain": [
       "<Figure size 504x504 with 1 Axes>"
      ]
     },
     "metadata": {},
     "output_type": "display_data"
    }
   ],
   "source": [
    "fig, ax = plt.subplots(figsize=(7,7))\n",
    "title= \"Confusion Matrix - RanFor_test (Score=.819)\"\n",
    "plt.title(title, fontsize=18)\n",
    "sns.heatmap(df_cm4, \n",
    "            annot=True, \n",
    "            annot_kws={\"size\": 30}, \n",
    "            linewidths=.5, \n",
    "            fmt=\"g\", \n",
    "            cmap=\"BuGn\", \n",
    "            cbar=False,\n",
    "            xticklabels=False,\n",
    "            yticklabels=False)"
   ]
  },
  {
   "cell_type": "markdown",
   "metadata": {},
   "source": [
    "### Misclassified posts (about 18% for random-forests):"
   ]
  },
  {
   "cell_type": "code",
   "execution_count": 113,
   "metadata": {},
   "outputs": [
    {
     "name": "stdout",
     "output_type": "stream",
     "text": [
      "1 false-Trek Fulfill your destiny\n",
      "2 false-Trek Sweet cufflinks I found at Fan Expo\n",
      "3 false-Trek 🤦🏼‍♂️\n",
      "4 false-Trek Any good books set in the OT without any of the main characters\n",
      "5 false-Trek Hailfire droid vs AT-AT: Which would win?\n",
      "6 false-Trek Amazing looking shoretrooper at Dragon con in Atlanta.\n",
      "7 false-Trek Jyn Erso, by Tomas Overbai\n",
      "8 false-Trek Jeremy Bulloch Grabs Leia?\n",
      "9 false-Trek Grandma Tarkin\n",
      "10 false-Trek You have to believe...\n",
      "11 false-Trek Was the prequel government a theocracy?\n",
      "12 false-Trek Is there anyone that knows the name of this ship?\n",
      "13 false-Trek LoL\n",
      "14 false-Trek Episodes I-VI Bonus Features\n",
      "15 false-Trek In the description of the sub \"subreddit\" is written \"sub reddit\", why?\n",
      "16 false-Trek Was watching Evolution on Amazon when I saw a trivia popup about David Duchovny. Big mistake David.\n",
      "17 false-Trek Box set for episodes 7-9? (See text) (Movies)\n",
      "18 false-Trek Rian Johnson subverted the expectations of mathematics.\n",
      "19 false-Trek Smooth Criminal\n",
      "20 false-Trek So I was in the Space Mountain gift shop...\n",
      "21 false-Trek I was rewatching season 1 of Rebels and a line from Tarken stood out to me\n",
      "22 false-Trek Was there ever an explanation why noone noticed for 10 years the production of the GAR and especially the equipment?\n",
      "23 false-Trek Theory: Ben \"Lies\"\n",
      "24 false-Trek ST scale comparison from BB-8 to the Supremacy\n",
      "25 false-Trek Fetch!\n",
      "26 false-Trek Are there any intelligent aquatic species that can't breathe on land?\n",
      "27 false-Trek First set I bought in months\n",
      "28 false-Trek This is the first time I've seen Amazon packed book like this...With a little big box.\n",
      "29 false-Trek Someone at the DHS is one of us.\n",
      "30 false-Trek 1000 Storm Troopers vs 2000 Nazi Zombies - Ultimate epic simulator\n",
      "31 false-Trek My Mara Jade Skywalker from DragonCon\n",
      "32 false-Trek TIE Silencer variants by Matty Devin Brown\n",
      "33 false-Trek No, Leave them to me, I will deal with them myself..\n",
      "34 false-Trek What should I read or watch before reading Timothy Zahn Thrawn ?\n",
      "35 false-Trek There should be a messenger app stylized like opening text crawl\n",
      "36 false-Trek My pride and joy.\n",
      "37 false-Trek My headcanon theory on the Nebulon B frigate\n",
      "38 false-Trek Hope for the Galaxy.\n",
      "39 false-Trek Can lightning be summoned in space?\n",
      "40 false-Trek Scoundrels\n",
      "41 false-Trek Bail Organa\n",
      "42 false-Trek Unexpected Naboo N-1 Starfighter in a physics textbook\n",
      "43 false-Trek Married my forever nerd last week\n",
      "44 false-Trek Lightsabers You Can Hug: An Interview with Softsabers Creator Michelle Sharp\n",
      "45 false-Trek Outnumbered.\n",
      "46 false-Trek The guy who plays jeremiah in gotham would make a really good young thrawn\n",
      "47 false-Trek All the hate for BFII aside - I REALLY enjoyed..\n",
      "48 false-Trek My husband suggested we should remove Admiral Akbar from the toilet seat when we renovated our bathroom. But I’d already designed the entire space taking the good Admiral’s bold black and white silhouette as the main inspiration and focal point.\n",
      "49 false-Trek Wookiee cookies\n",
      "50 false-Trek Inoo shatta bonka shada mooli raaa\n",
      "51 false-Trek On hold until Thanksgiving. Also here for 2 karma\n",
      "52 false-Trek Who would you spend 3 hours with alone in a room?\n",
      "53 false-Trek Sweet Airbrushed T-Shirt?\n",
      "54 false-Trek [ThePruld] Ewok (0:33, make sure you turn the subtitles on!)\n",
      "55 false-Trek Our General Grievous (x-post r/WhatsWrongWithYourDog)\n",
      "56 false-Trek Two of my band mates released this with their other project. Had no idea where to post it, but I thought it might have you guys' interest. Enjoy!\n",
      "57 false-Trek Never too late to learn!\n",
      "58 false-Trek Let’s talk cross fire. Why isn’t it really an issue in any of the live action or animated series?\n",
      "59 false-Trek I couldn’t resist...\n",
      "60 false-Trek Hmmm\n",
      "61 false-Trek Youtuber CaptainShack recreated a classic.\n",
      "62 false-Trek Need a pepakura file!\n",
      "63 false-Wars Spore drive: dumb idea, or dumbest idea?\n",
      "64 false-Wars Which quadrant would you prefer a new show take place in?\n",
      "65 false-Wars How a scene in “Bloodlines” should have gone\n",
      "66 false-Wars I just thought of a great idea (I think so, at least)\n",
      "67 false-Wars How did you fall in love?\n",
      "68 false-Wars Is there something that a show or movie did wrong, but you don't think could've ever been done right?\n",
      "69 false-Wars Shop LLAP is having a Labor Day sale.\n",
      "70 false-Wars Taking Memory Beta out of context is fun\n",
      "71 false-Wars Recommendations on NX-01 model? What company is making the best models lately or in the past?\n",
      "72 false-Wars Here's a thought: what would they keep in their pockets? (If they had them?)\n",
      "73 false-Wars Watching \"Time Squared\" for the upteenth time, and I'm still confused as balls.\n",
      "74 false-Wars What would Quark think if he saw The Wolf of Wall Street?\n",
      "75 false-Wars Anyone for a good old sing-song?\n",
      "76 false-Wars What are your favorite Enterprises?\n",
      "77 false-Wars Okudagrams Part 1: How one man designed the future we all love\n",
      "78 false-Wars Which movie had the best (and worst) music?\n",
      "79 false-Wars Unsettling/Creepy Episode Reccomendations\n",
      "80 false-Wars [video] \"Matters of internal security. The age-old cry of the Oppressor\"\n"
     ]
    }
   ],
   "source": [
    "ct_rf=0\n",
    "for i in range(len(X_new)):\n",
    "    if list(predictions_rf_new)[i] != y_new[i]:\n",
    "        ct_rf += 1\n",
    "        if list(predictions_rf_new)[i] == 0:\n",
    "            print(ct_rf, 'false-Wars',X_new[i])\n",
    "        else:\n",
    "            print(ct_rf, 'false-Trek',X_new[i])"
   ]
  },
  {
   "cell_type": "code",
   "execution_count": null,
   "metadata": {},
   "outputs": [],
   "source": []
  },
  {
   "cell_type": "markdown",
   "metadata": {},
   "source": [
    "# Conclusion"
   ]
  },
  {
   "cell_type": "markdown",
   "metadata": {},
   "source": [
    "### Based on the lower misclassification rate and higher accuracy, the logistic-regression model appears to be the superior classifier.  The logistic-regression model also seems to slightly more accurate in generalizing Star-Wars posts, while the random-forests model is somewhat more accurate for predicting Star-Trek posts.\n",
    "\n",
    "### Based on the marked improvement from using \"min_df\" equal to 1 for the TF-IDF vectorization, it makes sense that training with more data would only improve the accuracy of the model."
   ]
  },
  {
   "cell_type": "code",
   "execution_count": null,
   "metadata": {},
   "outputs": [],
   "source": []
  },
  {
   "cell_type": "markdown",
   "metadata": {},
   "source": [
    "# Executive Summary"
   ]
  },
  {
   "cell_type": "markdown",
   "metadata": {},
   "source": [
    "###  The Social-Justice Warriors are taking a bashing among fans of the post-Lucas Star-Wars-Extended-Universe.  On the other hand, all is relatively quiet on the Star-Trek-Extended-Universe front.  The average Sci-Fi enthusiast would do well to avoid the toxic tension of the former fandom in the media.\n",
    "\n",
    "### There’s a huge bummer associated with encountering a spoiler.  Whether it be in sports of movies, wouldn’t it be great to avoid that algorithmicly?  We need a reliable way to identify if a post or media article is talking about Star Wars and what are the most important words to look for to make that identification.\n",
    "\n",
    "### My model can generalize new posts for the source and thereby the expected level of tameness in the contents.  Trained from the titles of about 900 posts, one can be almost 90% sure which flavor of the galactic genres one is about to read.\n",
    "\n",
    "### There are distinct collections of words that make the separation between the two subjects possible, such that only 10-15% of posts are truly ambiguous.  This can be done using one for two classifier models.\n",
    "\n",
    "### Don’t wait.  Subscribe to our filtering guide today and save yourself the aggravation of reading another SJW-battering comment.  Get out of the Dark Side, once and for all."
   ]
  },
  {
   "cell_type": "markdown",
   "metadata": {},
   "source": [
    "## Thank you"
   ]
  }
 ],
 "metadata": {
  "kernelspec": {
   "display_name": "Python 3",
   "language": "python",
   "name": "python3"
  },
  "language_info": {
   "codemirror_mode": {
    "name": "ipython",
    "version": 3
   },
   "file_extension": ".py",
   "mimetype": "text/x-python",
   "name": "python",
   "nbconvert_exporter": "python",
   "pygments_lexer": "ipython3",
   "version": "3.6.5"
  }
 },
 "nbformat": 4,
 "nbformat_minor": 2
}
