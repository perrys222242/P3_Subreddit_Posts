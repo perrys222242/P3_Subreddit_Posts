{
 "cells": [
  {
   "cell_type": "markdown",
   "metadata": {},
   "source": [
    "# Predict the Epic Sci-Fi Universe\n",
    "# Notebook-1 (Data Collection)\n",
    "### Perry Shyr"
   ]
  },
  {
   "cell_type": "markdown",
   "metadata": {},
   "source": [
    "# Problem Statement:"
   ]
  },
  {
   "cell_type": "markdown",
   "metadata": {},
   "source": [
    "### The natural-language problem explored asks whether or not Star-Trek post-titles can be identified from a set of science-fiction franchise posts.  The subreddits from which the post-titles originated, were 'StarWars' and startrek.' "
   ]
  },
  {
   "cell_type": "markdown",
   "metadata": {},
   "source": [
    "# Executive Summary"
   ]
  },
  {
   "cell_type": "markdown",
   "metadata": {},
   "source": [
    "###  The Social-Justice Warriors are taking a bashing among fans of the post-Lucas Star-Wars-Extended-Universe.  On the other hand, all is relatively quiet on the Star-Trek-Extended-Universe front.  The average Sci-Fi enthusiast would do well to avoid the toxic tension of the former fandom in the media.\n",
    "\n",
    "### There’s a huge bummer associated with encountering a spoiler.  Whether it be in sports of movies, wouldn’t it be great to avoid that algorithmicly?  We need a reliable way to identify if a post or media article is talking about Star Wars and what are the most important words to look for to make that identification.\n",
    "\n",
    "### My model can generalize new posts for the source and thereby the expected level of tameness in the contents.  Trained from the titles of about 900 posts, one can be almost 90% sure which flavor of the galactic genres one is about to read.\n",
    "\n",
    "### There are distinct collections of words that make the separation between the two subjects possible, such that only 10-15% of posts are truly ambiguous.  This can be done using one for two classifier models.\n",
    "\n",
    "### Don’t wait.  Subscribe to our filtering guide today and save yourself the aggravation of reading another SJW-battering comment.  Get out of the Dark Side, once and for all.\n"
   ]
  },
  {
   "cell_type": "markdown",
   "metadata": {
    "focus": false,
    "id": "a948d79c-5527-4c0d-ab23-f5d43ce72056"
   },
   "source": [
    "# The Data Gathering."
   ]
  },
  {
   "cell_type": "markdown",
   "metadata": {},
   "source": [
    "### First, import the necessary tool libraries to start the collecting the data."
   ]
  },
  {
   "cell_type": "code",
   "execution_count": 2,
   "metadata": {},
   "outputs": [],
   "source": [
    "import requests\n",
    "import json\n",
    "import time\n",
    "import pandas as pd\n",
    "\n",
    "import pickle"
   ]
  },
  {
   "cell_type": "markdown",
   "metadata": {},
   "source": [
    "## Use API requests:"
   ]
  },
  {
   "cell_type": "code",
   "execution_count": 6,
   "metadata": {},
   "outputs": [],
   "source": [
    "URL_w = \"http://www.reddit.com/r/StarWars.json\"\n",
    "URL_t = \"http://www.reddit.com/r/startrek.json\""
   ]
  },
  {
   "cell_type": "code",
   "execution_count": 7,
   "metadata": {},
   "outputs": [],
   "source": [
    "headers_w = { 'User-agent' : 'Bleep-bot 0.1' }\n",
    "headers_t = { 'User-agent' : 'Bleep-bot 0.2' }"
   ]
  },
  {
   "cell_type": "code",
   "execution_count": 8,
   "metadata": {},
   "outputs": [],
   "source": [
    "res_w = requests.get(URL_w, headers=headers_w)\n",
    "res_t = requests.get(URL_t, headers=headers_t)"
   ]
  },
  {
   "cell_type": "code",
   "execution_count": 9,
   "metadata": {},
   "outputs": [],
   "source": [
    "json_sw = res_w.json()     "
   ]
  },
  {
   "cell_type": "markdown",
   "metadata": {},
   "source": [
    "### Look at the data.  Are there signs of promotional ads?"
   ]
  },
  {
   "cell_type": "code",
   "execution_count": 12,
   "metadata": {
    "scrolled": true
   },
   "outputs": [
    {
     "data": {
      "text/plain": [
       "{'kind': 't3',\n",
       " 'data': {'approved_at_utc': None,\n",
       "  'subreddit': 'StarWars',\n",
       "  'selftext': \"Things are getting out of hand when it comes to people, toxicity and opinions, and this sub's reputation is suffering because of it. Loving a movie is fine, disliking a movie is also fine. As long as you voice your opinion in a civilized manner then all will be cool. What's not cool is being a dick to someone that doesn't share your opinion. Billy Joe hates TLJ, he has a right to hate it if he wants, that doesn't give you a pass to be a dick to Billy Joe just because you think TLJ should be a multi Oscar winner. But that door swings both ways, Billy Joe has no right to be a dick to others for disagreeing with him, as long as the disagreeing is done in a civilized way.\\n\\nThe toxicity ends now. If you can't converse in a civilized manner, then we don't want you here.\\n\\n\\nSo in short, keep criticism constructive and keep responses to criticism constructive. \\n\\n\\n\\nOn a more positive note, we passed 900K subscribers recently. Next stop One Million ~~dollars~~ Subscribers!\\n\\n\\n\\nEdit: putting this back at the top of the sub, since people are already forgetting about it. \",\n",
       "  'author_fullname': 't2_4hcv3',\n",
       "  'saved': False,\n",
       "  'mod_reason_title': None,\n",
       "  'gilded': 0,\n",
       "  'clicked': False,\n",
       "  'title': 'On opinions.',\n",
       "  'link_flair_richtext': [],\n",
       "  'subreddit_name_prefixed': 'r/StarWars',\n",
       "  'hidden': False,\n",
       "  'pwls': 6,\n",
       "  'link_flair_css_class': None,\n",
       "  'downs': 0,\n",
       "  'thumbnail_height': None,\n",
       "  'parent_whitelist_status': 'all_ads',\n",
       "  'hide_score': False,\n",
       "  'name': 't3_8xy3c2',\n",
       "  'quarantine': False,\n",
       "  'link_flair_text_color': 'dark',\n",
       "  'author_flair_background_color': '',\n",
       "  'subreddit_type': 'public',\n",
       "  'ups': 3355,\n",
       "  'domain': 'self.StarWars',\n",
       "  'media_embed': {},\n",
       "  'thumbnail_width': None,\n",
       "  'author_flair_template_id': None,\n",
       "  'is_original_content': False,\n",
       "  'user_reports': [],\n",
       "  'secure_media': None,\n",
       "  'is_reddit_media_domain': False,\n",
       "  'is_meta': False,\n",
       "  'category': None,\n",
       "  'secure_media_embed': {},\n",
       "  'link_flair_text': None,\n",
       "  'can_mod_post': False,\n",
       "  'score': 3355,\n",
       "  'approved_by': None,\n",
       "  'thumbnail': 'self',\n",
       "  'edited': 1533460870.0,\n",
       "  'author_flair_css_class': '21 thisFlairHasText',\n",
       "  'author_flair_richtext': [],\n",
       "  'content_categories': ['entertainment'],\n",
       "  'is_self': True,\n",
       "  'mod_note': None,\n",
       "  'created': 1531329798.0,\n",
       "  'link_flair_type': 'text',\n",
       "  'wls': 6,\n",
       "  'banned_by': None,\n",
       "  'author_flair_type': 'text',\n",
       "  'contest_mode': False,\n",
       "  'selftext_html': '&lt;!-- SC_OFF --&gt;&lt;div class=\"md\"&gt;&lt;p&gt;Things are getting out of hand when it comes to people, toxicity and opinions, and this sub&amp;#39;s reputation is suffering because of it. Loving a movie is fine, disliking a movie is also fine. As long as you voice your opinion in a civilized manner then all will be cool. What&amp;#39;s not cool is being a dick to someone that doesn&amp;#39;t share your opinion. Billy Joe hates TLJ, he has a right to hate it if he wants, that doesn&amp;#39;t give you a pass to be a dick to Billy Joe just because you think TLJ should be a multi Oscar winner. But that door swings both ways, Billy Joe has no right to be a dick to others for disagreeing with him, as long as the disagreeing is done in a civilized way.&lt;/p&gt;\\n\\n&lt;p&gt;The toxicity ends now. If you can&amp;#39;t converse in a civilized manner, then we don&amp;#39;t want you here.&lt;/p&gt;\\n\\n&lt;p&gt;So in short, keep criticism constructive and keep responses to criticism constructive. &lt;/p&gt;\\n\\n&lt;p&gt;On a more positive note, we passed 900K subscribers recently. Next stop One Million &lt;del&gt;dollars&lt;/del&gt; Subscribers!&lt;/p&gt;\\n\\n&lt;p&gt;Edit: putting this back at the top of the sub, since people are already forgetting about it. &lt;/p&gt;\\n&lt;/div&gt;&lt;!-- SC_ON --&gt;',\n",
       "  'likes': None,\n",
       "  'suggested_sort': None,\n",
       "  'banned_at_utc': None,\n",
       "  'view_count': None,\n",
       "  'archived': False,\n",
       "  'no_follow': False,\n",
       "  'is_crosspostable': False,\n",
       "  'pinned': False,\n",
       "  'over_18': False,\n",
       "  'media_only': False,\n",
       "  'link_flair_template_id': None,\n",
       "  'can_gild': False,\n",
       "  'spoiler': False,\n",
       "  'locked': True,\n",
       "  'author_flair_text': 'Jedi Knight',\n",
       "  'visited': False,\n",
       "  'num_reports': None,\n",
       "  'distinguished': 'moderator',\n",
       "  'subreddit_id': 't5_2qi4s',\n",
       "  'mod_reason_by': None,\n",
       "  'removal_reason': None,\n",
       "  'link_flair_background_color': '',\n",
       "  'id': '8xy3c2',\n",
       "  'report_reasons': None,\n",
       "  'author': 'Yunners',\n",
       "  'num_crossposts': 0,\n",
       "  'num_comments': 740,\n",
       "  'send_replies': False,\n",
       "  'mod_reports': [],\n",
       "  'author_flair_text_color': 'dark',\n",
       "  'permalink': '/r/StarWars/comments/8xy3c2/on_opinions/',\n",
       "  'whitelist_status': 'all_ads',\n",
       "  'stickied': True,\n",
       "  'url': 'https://www.reddit.com/r/StarWars/comments/8xy3c2/on_opinions/',\n",
       "  'subreddit_subscribers': 926607,\n",
       "  'created_utc': 1531300998.0,\n",
       "  'media': None,\n",
       "  'is_video': False}}"
      ]
     },
     "execution_count": 12,
     "metadata": {},
     "output_type": "execute_result"
    }
   ],
   "source": [
    "json_sw['data']['children'][0]         # The first post is displayed from the JSON-file in the Reddit response."
   ]
  },
  {
   "cell_type": "code",
   "execution_count": 14,
   "metadata": {},
   "outputs": [
    {
     "data": {
      "text/plain": [
       "['approved_at_utc',\n",
       " 'subreddit',\n",
       " 'selftext',\n",
       " 'author_fullname',\n",
       " 'saved',\n",
       " 'mod_reason_title',\n",
       " 'gilded',\n",
       " 'clicked',\n",
       " 'title',\n",
       " 'link_flair_richtext',\n",
       " 'subreddit_name_prefixed',\n",
       " 'hidden',\n",
       " 'pwls',\n",
       " 'link_flair_css_class',\n",
       " 'downs',\n",
       " 'thumbnail_height',\n",
       " 'parent_whitelist_status',\n",
       " 'hide_score',\n",
       " 'name',\n",
       " 'quarantine',\n",
       " 'link_flair_text_color',\n",
       " 'author_flair_background_color',\n",
       " 'subreddit_type',\n",
       " 'ups',\n",
       " 'domain',\n",
       " 'media_embed',\n",
       " 'thumbnail_width',\n",
       " 'author_flair_template_id',\n",
       " 'is_original_content',\n",
       " 'user_reports',\n",
       " 'secure_media',\n",
       " 'is_reddit_media_domain',\n",
       " 'is_meta',\n",
       " 'category',\n",
       " 'secure_media_embed',\n",
       " 'link_flair_text',\n",
       " 'can_mod_post',\n",
       " 'score',\n",
       " 'approved_by',\n",
       " 'thumbnail',\n",
       " 'edited',\n",
       " 'author_flair_css_class',\n",
       " 'author_flair_richtext',\n",
       " 'content_categories',\n",
       " 'is_self',\n",
       " 'mod_note',\n",
       " 'created',\n",
       " 'link_flair_type',\n",
       " 'wls',\n",
       " 'banned_by',\n",
       " 'author_flair_type',\n",
       " 'contest_mode',\n",
       " 'selftext_html',\n",
       " 'likes',\n",
       " 'suggested_sort',\n",
       " 'banned_at_utc',\n",
       " 'view_count',\n",
       " 'archived',\n",
       " 'no_follow',\n",
       " 'is_crosspostable',\n",
       " 'pinned',\n",
       " 'over_18',\n",
       " 'media_only',\n",
       " 'link_flair_template_id',\n",
       " 'can_gild',\n",
       " 'spoiler',\n",
       " 'locked',\n",
       " 'author_flair_text',\n",
       " 'visited',\n",
       " 'num_reports',\n",
       " 'distinguished',\n",
       " 'subreddit_id',\n",
       " 'mod_reason_by',\n",
       " 'removal_reason',\n",
       " 'link_flair_background_color',\n",
       " 'id',\n",
       " 'report_reasons',\n",
       " 'author',\n",
       " 'num_crossposts',\n",
       " 'num_comments',\n",
       " 'send_replies',\n",
       " 'mod_reports',\n",
       " 'author_flair_text_color',\n",
       " 'permalink',\n",
       " 'whitelist_status',\n",
       " 'stickied',\n",
       " 'url',\n",
       " 'subreddit_subscribers',\n",
       " 'created_utc',\n",
       " 'media',\n",
       " 'is_video']"
      ]
     },
     "execution_count": 14,
     "metadata": {},
     "output_type": "execute_result"
    }
   ],
   "source": [
    "x = json_sw['data']['children'][4]\n",
    "list(x['data'].keys())                       #  Look at the headers of the metadata for clues."
   ]
  },
  {
   "cell_type": "markdown",
   "metadata": {},
   "source": [
    "## One of the frequent sponsors on this Star-Wars subreddit is Grammarly.com, which asks, \"Want to write better?\""
   ]
  },
  {
   "cell_type": "code",
   "execution_count": 15,
   "metadata": {},
   "outputs": [
    {
     "data": {
      "text/plain": [
       "[]"
      ]
     },
     "execution_count": 15,
     "metadata": {},
     "output_type": "execute_result"
    }
   ],
   "source": [
    "[post['data']['title'] for post in json_sw['data']['children'] if 'Want to write better?' in post['data']['title']]"
   ]
  },
  {
   "cell_type": "markdown",
   "metadata": {},
   "source": [
    "### Although Grammarly was prominently featured among the first 25 posts on a given day, the words in their tagline were absent.  We might conclude that ads are not being pulled using the Reddit-API."
   ]
  },
  {
   "cell_type": "markdown",
   "metadata": {},
   "source": [
    "# Proceed to collect the allotted maximum of 1,000 daily posts:\n",
    "\n",
    "#### A loop with a throttling timer is used to collect posts, 25 at a time, in initially JSON-format."
   ]
  },
  {
   "cell_type": "markdown",
   "metadata": {},
   "source": [
    "### Collecting Star-Wars posts, in 25-post batches:"
   ]
  },
  {
   "cell_type": "code",
   "execution_count": 7,
   "metadata": {},
   "outputs": [
    {
     "name": "stdout",
     "output_type": "stream",
     "text": [
      "0\n",
      "1\n",
      "2\n",
      "3\n",
      "4\n",
      "5\n",
      "6\n",
      "7\n",
      "8\n",
      "9\n",
      "10\n",
      "11\n",
      "12\n",
      "13\n",
      "14\n",
      "15\n",
      "16\n",
      "17\n",
      "18\n",
      "19\n",
      "20\n",
      "21\n",
      "22\n",
      "23\n",
      "24\n",
      "25\n",
      "26\n",
      "27\n",
      "28\n",
      "29\n",
      "30\n",
      "31\n",
      "32\n",
      "33\n",
      "34\n",
      "35\n",
      "36\n",
      "37\n",
      "38\n",
      "39\n",
      "40\n",
      "41\n"
     ]
    }
   ],
   "source": [
    "posts_w02 = []\n",
    "after_w = None                        # The variable to store the id-code for the last post in a batch, is initialized.\n",
    "for i in range(42):\n",
    "    print(i)\n",
    "    if after_w == None:\n",
    "        params_w = {}                 \n",
    "    else:\n",
    "        params_w = {'after':after_w}\n",
    "    URL_w = \"http://www.reddit.com/r/StarWars.json\"\n",
    "    res_w = requests.get(URL_w, params=params_w, headers=headers_w)\n",
    "    if res_w.status_code == 200:      # Check for an error code when this loop fails.\n",
    "        json_sw = res_w.json()\n",
    "#         the_json_w.append(json_w)\n",
    "        posts_w02.extend(json_sw['data']['children'])       # Batch on batch is accumulated in the list, 'posts_w02'.\n",
    "        after_w = json_sw['data']['after']\n",
    "    else:\n",
    "        print(res_w.status_code)\n",
    "        break\n",
    "    time.sleep(1)                                           # Throttle the request rate down to one per second.\n",
    "                                                            # Throttling reduces the likelihood of request denial."
   ]
  },
  {
   "cell_type": "markdown",
   "metadata": {},
   "source": [
    "### Save the original data in JSON-files:"
   ]
  },
  {
   "cell_type": "code",
   "execution_count": 13,
   "metadata": {},
   "outputs": [],
   "source": [
    "# with open('../data/wars_0906.json', 'w+') as f:   \n",
    "#     json.dump(posts_w02, f)                   # Avoid writing over existing files"
   ]
  },
  {
   "cell_type": "code",
   "execution_count": null,
   "metadata": {},
   "outputs": [],
   "source": [
    "len(posts_w02)                                # Check how many total posts were collected."
   ]
  },
  {
   "cell_type": "markdown",
   "metadata": {},
   "source": [
    "# Loop through the JSON-file, building a dictionary of titles and text-bodies as a list, then into a data-frame."
   ]
  },
  {
   "cell_type": "code",
   "execution_count": 22,
   "metadata": {},
   "outputs": [
    {
     "data": {
      "text/html": [
       "<div>\n",
       "<style scoped>\n",
       "    .dataframe tbody tr th:only-of-type {\n",
       "        vertical-align: middle;\n",
       "    }\n",
       "\n",
       "    .dataframe tbody tr th {\n",
       "        vertical-align: top;\n",
       "    }\n",
       "\n",
       "    .dataframe thead th {\n",
       "        text-align: right;\n",
       "    }\n",
       "</style>\n",
       "<table border=\"1\" class=\"dataframe\">\n",
       "  <thead>\n",
       "    <tr style=\"text-align: right;\">\n",
       "      <th></th>\n",
       "      <th>text</th>\n",
       "      <th>title</th>\n",
       "    </tr>\n",
       "  </thead>\n",
       "  <tbody>\n",
       "    <tr>\n",
       "      <th>0</th>\n",
       "      <td>Things are getting out of hand when it comes t...</td>\n",
       "      <td>On opinions.</td>\n",
       "    </tr>\n",
       "    <tr>\n",
       "      <th>1</th>\n",
       "      <td></td>\n",
       "      <td>I couldn’t resist...</td>\n",
       "    </tr>\n",
       "    <tr>\n",
       "      <th>2</th>\n",
       "      <td></td>\n",
       "      <td>Fetch!</td>\n",
       "    </tr>\n",
       "    <tr>\n",
       "      <th>3</th>\n",
       "      <td></td>\n",
       "      <td>Got my first tattoo done yesterday, think this...</td>\n",
       "    </tr>\n",
       "    <tr>\n",
       "      <th>4</th>\n",
       "      <td></td>\n",
       "      <td>The Battle of Crait must have been a bit weird...</td>\n",
       "    </tr>\n",
       "    <tr>\n",
       "      <th>5</th>\n",
       "      <td></td>\n",
       "      <td>New apartment, new Star Wars setup!</td>\n",
       "    </tr>\n",
       "    <tr>\n",
       "      <th>6</th>\n",
       "      <td></td>\n",
       "      <td>A hand-embroidered travel poster for the fores...</td>\n",
       "    </tr>\n",
       "    <tr>\n",
       "      <th>7</th>\n",
       "      <td></td>\n",
       "      <td>Scoundrels</td>\n",
       "    </tr>\n",
       "    <tr>\n",
       "      <th>8</th>\n",
       "      <td></td>\n",
       "      <td>You have to believe...</td>\n",
       "    </tr>\n",
       "    <tr>\n",
       "      <th>9</th>\n",
       "      <td></td>\n",
       "      <td>LEGO Star Wars is my addiction!</td>\n",
       "    </tr>\n",
       "  </tbody>\n",
       "</table>\n",
       "</div>"
      ],
      "text/plain": [
       "                                                text  \\\n",
       "0  Things are getting out of hand when it comes t...   \n",
       "1                                                      \n",
       "2                                                      \n",
       "3                                                      \n",
       "4                                                      \n",
       "5                                                      \n",
       "6                                                      \n",
       "7                                                      \n",
       "8                                                      \n",
       "9                                                      \n",
       "\n",
       "                                               title  \n",
       "0                                       On opinions.  \n",
       "1                               I couldn’t resist...  \n",
       "2                                             Fetch!  \n",
       "3  Got my first tattoo done yesterday, think this...  \n",
       "4  The Battle of Crait must have been a bit weird...  \n",
       "5                New apartment, new Star Wars setup!  \n",
       "6  A hand-embroidered travel poster for the fores...  \n",
       "7                                         Scoundrels  \n",
       "8                             You have to believe...  \n",
       "9                    LEGO Star Wars is my addiction!  "
      ]
     },
     "execution_count": 22,
     "metadata": {},
     "output_type": "execute_result"
    }
   ],
   "source": [
    "posts_extracted_w = []                        # The title and text-body are pulled from each post in the list object. \n",
    "for post in posts_w02:\n",
    "    posts_extracted_w.append({'title': post['data']['title'], 'text': post['data']['selftext']})  # Keys are added...\n",
    "#                                               to embed a dictionary into each item of the list.                                                                                 \n",
    "df_sw=pd.DataFrame(posts_extracted_w)         # This dictionary-list is converted into a data-frame.\n",
    "df_sw.head(10)"
   ]
  },
  {
   "cell_type": "markdown",
   "metadata": {},
   "source": [
    "### Accumulate posts saved from a few days earlier:"
   ]
  },
  {
   "cell_type": "code",
   "execution_count": 3,
   "metadata": {},
   "outputs": [],
   "source": [
    "with open('../pickles/postsL_wars0830_2051.pkl', 'rb') as f:\n",
    "    posts_test_w1u = pickle.load(f)                         # Retrieve the JSON-data saved earlier in the week."
   ]
  },
  {
   "cell_type": "code",
   "execution_count": 4,
   "metadata": {},
   "outputs": [
    {
     "data": {
      "text/html": [
       "<div>\n",
       "<style scoped>\n",
       "    .dataframe tbody tr th:only-of-type {\n",
       "        vertical-align: middle;\n",
       "    }\n",
       "\n",
       "    .dataframe tbody tr th {\n",
       "        vertical-align: top;\n",
       "    }\n",
       "\n",
       "    .dataframe thead th {\n",
       "        text-align: right;\n",
       "    }\n",
       "</style>\n",
       "<table border=\"1\" class=\"dataframe\">\n",
       "  <thead>\n",
       "    <tr style=\"text-align: right;\">\n",
       "      <th></th>\n",
       "      <th>text</th>\n",
       "      <th>title</th>\n",
       "    </tr>\n",
       "  </thead>\n",
       "  <tbody>\n",
       "    <tr>\n",
       "      <th>0</th>\n",
       "      <td>Things are getting out of hand when it comes t...</td>\n",
       "      <td>On opinions.</td>\n",
       "    </tr>\n",
       "    <tr>\n",
       "      <th>1</th>\n",
       "      <td>Its been three weeks since the release of Thra...</td>\n",
       "      <td>Thrawn: Alliances by Timothy Zahn - Discussion...</td>\n",
       "    </tr>\n",
       "    <tr>\n",
       "      <th>2</th>\n",
       "      <td></td>\n",
       "      <td>Sith Acolyte I 3D printed and finished.</td>\n",
       "    </tr>\n",
       "    <tr>\n",
       "      <th>3</th>\n",
       "      <td></td>\n",
       "      <td>As promised the finished Executor (sorry about...</td>\n",
       "    </tr>\n",
       "    <tr>\n",
       "      <th>4</th>\n",
       "      <td></td>\n",
       "      <td>My son loves star wars but the real x-wing is ...</td>\n",
       "    </tr>\n",
       "    <tr>\n",
       "      <th>5</th>\n",
       "      <td></td>\n",
       "      <td>Action Figure Movie Poster</td>\n",
       "    </tr>\n",
       "    <tr>\n",
       "      <th>6</th>\n",
       "      <td></td>\n",
       "      <td>My company's camper van has been converted to ...</td>\n",
       "    </tr>\n",
       "    <tr>\n",
       "      <th>7</th>\n",
       "      <td></td>\n",
       "      <td>LEGO collection at nearby shop</td>\n",
       "    </tr>\n",
       "    <tr>\n",
       "      <th>8</th>\n",
       "      <td></td>\n",
       "      <td>Chillin’ in Bespin.</td>\n",
       "    </tr>\n",
       "    <tr>\n",
       "      <th>9</th>\n",
       "      <td></td>\n",
       "      <td>Draw me like one of your Scarif Girls</td>\n",
       "    </tr>\n",
       "  </tbody>\n",
       "</table>\n",
       "</div>"
      ],
      "text/plain": [
       "                                                text  \\\n",
       "0  Things are getting out of hand when it comes t...   \n",
       "1  Its been three weeks since the release of Thra...   \n",
       "2                                                      \n",
       "3                                                      \n",
       "4                                                      \n",
       "5                                                      \n",
       "6                                                      \n",
       "7                                                      \n",
       "8                                                      \n",
       "9                                                      \n",
       "\n",
       "                                               title  \n",
       "0                                       On opinions.  \n",
       "1  Thrawn: Alliances by Timothy Zahn - Discussion...  \n",
       "2            Sith Acolyte I 3D printed and finished.  \n",
       "3  As promised the finished Executor (sorry about...  \n",
       "4  My son loves star wars but the real x-wing is ...  \n",
       "5                         Action Figure Movie Poster  \n",
       "6  My company's camper van has been converted to ...  \n",
       "7                     LEGO collection at nearby shop  \n",
       "8                                Chillin’ in Bespin.  \n",
       "9              Draw me like one of your Scarif Girls  "
      ]
     },
     "execution_count": 4,
     "metadata": {},
     "output_type": "execute_result"
    }
   ],
   "source": [
    "posts_saved_w = []\n",
    "for post in posts_test_w1u:\n",
    "    posts_saved_w.append({'title': post['data']['title'], 'text': post['data']['selftext']})\n",
    "pd.DataFrame(posts_saved_w).head(10)"
   ]
  },
  {
   "cell_type": "code",
   "execution_count": 5,
   "metadata": {},
   "outputs": [
    {
     "data": {
      "text/plain": [
       "714"
      ]
     },
     "execution_count": 5,
     "metadata": {},
     "output_type": "execute_result"
    }
   ],
   "source": [
    "len(posts_saved_w)                                  # About 714 unique Star-Wars posts were already collected."
   ]
  },
  {
   "cell_type": "code",
   "execution_count": 6,
   "metadata": {},
   "outputs": [
    {
     "data": {
      "text/plain": [
       "{'title': 'Thrawn: Alliances by Timothy Zahn - Discussion Thread',\n",
       " 'text': \"Its been three weeks since the release of Thrawn: Alliances, so we figure its time to have a discussion.\\n\\nWhat did you like, what didn't you like.  Just how awesome is Timothy Zahn?  :)\\n\\nLets break down the book here and post your thoughts.  Thanks!\"}"
      ]
     },
     "execution_count": 6,
     "metadata": {},
     "output_type": "execute_result"
    }
   ],
   "source": [
    "posts_saved_w[1]                                    # Examine one of the posts saved."
   ]
  },
  {
   "cell_type": "code",
   "execution_count": 11,
   "metadata": {},
   "outputs": [
    {
     "data": {
      "text/plain": [
       "1038"
      ]
     },
     "execution_count": 11,
     "metadata": {},
     "output_type": "execute_result"
    }
   ],
   "source": [
    "len(posts_extracted_w)                              # Check how many posts are collected from the loop above."
   ]
  },
  {
   "cell_type": "code",
   "execution_count": 12,
   "metadata": {},
   "outputs": [
    {
     "data": {
      "text/plain": [
       "{'title': \"Dave Bautista Reveals He's Auditioned for a 'Couple' of 'Star Wars' Movies, Also reveals he loved 'Rogue One'\",\n",
       " 'text': ''}"
      ]
     },
     "execution_count": 12,
     "metadata": {},
     "output_type": "execute_result"
    }
   ],
   "source": [
    "posts_extracted_w[1037]                             # Examine one of the posts just collected."
   ]
  },
  {
   "cell_type": "code",
   "execution_count": 68,
   "metadata": {},
   "outputs": [],
   "source": [
    "for post in posts_saved_w:\n",
    "    posts_extracted_w.append(post)                  # Combine the saved posts to the cnew posts."
   ]
  },
  {
   "cell_type": "code",
   "execution_count": 69,
   "metadata": {},
   "outputs": [
    {
     "data": {
      "text/plain": [
       "1758"
      ]
     },
     "execution_count": 69,
     "metadata": {},
     "output_type": "execute_result"
    }
   ],
   "source": [
    "len(posts_extracted_w)"
   ]
  },
  {
   "cell_type": "code",
   "execution_count": 70,
   "metadata": {},
   "outputs": [],
   "source": [
    "df_sw = pd.DataFrame(posts_extracted_w)             # Convert the result into a data-frame."
   ]
  },
  {
   "cell_type": "code",
   "execution_count": 71,
   "metadata": {},
   "outputs": [
    {
     "data": {
      "text/html": [
       "<div>\n",
       "<style scoped>\n",
       "    .dataframe tbody tr th:only-of-type {\n",
       "        vertical-align: middle;\n",
       "    }\n",
       "\n",
       "    .dataframe tbody tr th {\n",
       "        vertical-align: top;\n",
       "    }\n",
       "\n",
       "    .dataframe thead th {\n",
       "        text-align: right;\n",
       "    }\n",
       "</style>\n",
       "<table border=\"1\" class=\"dataframe\">\n",
       "  <thead>\n",
       "    <tr style=\"text-align: right;\">\n",
       "      <th></th>\n",
       "      <th>text</th>\n",
       "      <th>title</th>\n",
       "    </tr>\n",
       "  </thead>\n",
       "  <tbody>\n",
       "    <tr>\n",
       "      <th>0</th>\n",
       "      <td>Things are getting out of hand when it comes t...</td>\n",
       "      <td>On opinions.</td>\n",
       "    </tr>\n",
       "    <tr>\n",
       "      <th>1</th>\n",
       "      <td>Its been three weeks since the release of Thra...</td>\n",
       "      <td>Thrawn: Alliances by Timothy Zahn - Discussion...</td>\n",
       "    </tr>\n",
       "    <tr>\n",
       "      <th>2</th>\n",
       "      <td></td>\n",
       "      <td>Wow, okay then.</td>\n",
       "    </tr>\n",
       "    <tr>\n",
       "      <th>3</th>\n",
       "      <td></td>\n",
       "      <td>Hot Take: R2-D2 is the most consistently best ...</td>\n",
       "    </tr>\n",
       "    <tr>\n",
       "      <th>4</th>\n",
       "      <td></td>\n",
       "      <td>Anakin vs Obiwan. Was the most anticipated lig...</td>\n",
       "    </tr>\n",
       "  </tbody>\n",
       "</table>\n",
       "</div>"
      ],
      "text/plain": [
       "                                                text  \\\n",
       "0  Things are getting out of hand when it comes t...   \n",
       "1  Its been three weeks since the release of Thra...   \n",
       "2                                                      \n",
       "3                                                      \n",
       "4                                                      \n",
       "\n",
       "                                               title  \n",
       "0                                       On opinions.  \n",
       "1  Thrawn: Alliances by Timothy Zahn - Discussion...  \n",
       "2                                    Wow, okay then.  \n",
       "3  Hot Take: R2-D2 is the most consistently best ...  \n",
       "4  Anakin vs Obiwan. Was the most anticipated lig...  "
      ]
     },
     "execution_count": 71,
     "metadata": {},
     "output_type": "execute_result"
    }
   ],
   "source": [
    "df_sw.head()                                        # Check the 'head' of the data-frame."
   ]
  },
  {
   "cell_type": "code",
   "execution_count": 72,
   "metadata": {},
   "outputs": [
    {
     "name": "stdout",
     "output_type": "stream",
     "text": [
      "Duplicated values: 897\n"
     ]
    }
   ],
   "source": [
    "print('Duplicated values:', df_sw.duplicated().sum())  # Count the number of overlapping duplicates."
   ]
  },
  {
   "cell_type": "code",
   "execution_count": 75,
   "metadata": {},
   "outputs": [],
   "source": [
    "df_sw.drop_duplicates(inplace=True)                    # Remove the duplicate posts."
   ]
  },
  {
   "cell_type": "code",
   "execution_count": 77,
   "metadata": {},
   "outputs": [
    {
     "name": "stdout",
     "output_type": "stream",
     "text": [
      "(861, 2)\n"
     ]
    },
    {
     "data": {
      "text/html": [
       "<div>\n",
       "<style scoped>\n",
       "    .dataframe tbody tr th:only-of-type {\n",
       "        vertical-align: middle;\n",
       "    }\n",
       "\n",
       "    .dataframe tbody tr th {\n",
       "        vertical-align: top;\n",
       "    }\n",
       "\n",
       "    .dataframe thead th {\n",
       "        text-align: right;\n",
       "    }\n",
       "</style>\n",
       "<table border=\"1\" class=\"dataframe\">\n",
       "  <thead>\n",
       "    <tr style=\"text-align: right;\">\n",
       "      <th></th>\n",
       "      <th>text</th>\n",
       "      <th>title</th>\n",
       "    </tr>\n",
       "  </thead>\n",
       "  <tbody>\n",
       "    <tr>\n",
       "      <th>0</th>\n",
       "      <td>Things are getting out of hand when it comes t...</td>\n",
       "      <td>On opinions.</td>\n",
       "    </tr>\n",
       "    <tr>\n",
       "      <th>1</th>\n",
       "      <td>Its been three weeks since the release of Thra...</td>\n",
       "      <td>Thrawn: Alliances by Timothy Zahn - Discussion...</td>\n",
       "    </tr>\n",
       "    <tr>\n",
       "      <th>2</th>\n",
       "      <td></td>\n",
       "      <td>Wow, okay then.</td>\n",
       "    </tr>\n",
       "    <tr>\n",
       "      <th>3</th>\n",
       "      <td></td>\n",
       "      <td>Hot Take: R2-D2 is the most consistently best ...</td>\n",
       "    </tr>\n",
       "    <tr>\n",
       "      <th>4</th>\n",
       "      <td></td>\n",
       "      <td>Anakin vs Obiwan. Was the most anticipated lig...</td>\n",
       "    </tr>\n",
       "    <tr>\n",
       "      <th>5</th>\n",
       "      <td></td>\n",
       "      <td>Well it wasn’t in Maz Kanata’s basement, but i...</td>\n",
       "    </tr>\n",
       "    <tr>\n",
       "      <th>6</th>\n",
       "      <td></td>\n",
       "      <td>Something I photoshopped together for fun, fig...</td>\n",
       "    </tr>\n",
       "    <tr>\n",
       "      <th>7</th>\n",
       "      <td></td>\n",
       "      <td>Finished cardboard Executor class super star d...</td>\n",
       "    </tr>\n",
       "    <tr>\n",
       "      <th>8</th>\n",
       "      <td>One of the best things I feel the Clone Wars d...</td>\n",
       "      <td>Anyone else love the scenes where Anakin and O...</td>\n",
       "    </tr>\n",
       "    <tr>\n",
       "      <th>9</th>\n",
       "      <td></td>\n",
       "      <td>Samurai Stormtrooper</td>\n",
       "    </tr>\n",
       "  </tbody>\n",
       "</table>\n",
       "</div>"
      ],
      "text/plain": [
       "                                                text  \\\n",
       "0  Things are getting out of hand when it comes t...   \n",
       "1  Its been three weeks since the release of Thra...   \n",
       "2                                                      \n",
       "3                                                      \n",
       "4                                                      \n",
       "5                                                      \n",
       "6                                                      \n",
       "7                                                      \n",
       "8  One of the best things I feel the Clone Wars d...   \n",
       "9                                                      \n",
       "\n",
       "                                               title  \n",
       "0                                       On opinions.  \n",
       "1  Thrawn: Alliances by Timothy Zahn - Discussion...  \n",
       "2                                    Wow, okay then.  \n",
       "3  Hot Take: R2-D2 is the most consistently best ...  \n",
       "4  Anakin vs Obiwan. Was the most anticipated lig...  \n",
       "5  Well it wasn’t in Maz Kanata’s basement, but i...  \n",
       "6  Something I photoshopped together for fun, fig...  \n",
       "7  Finished cardboard Executor class super star d...  \n",
       "8  Anyone else love the scenes where Anakin and O...  \n",
       "9                               Samurai Stormtrooper  "
      ]
     },
     "execution_count": 77,
     "metadata": {},
     "output_type": "execute_result"
    }
   ],
   "source": [
    "print(df_sw.shape)\n",
    "df_sw.head(10)"
   ]
  },
  {
   "cell_type": "code",
   "execution_count": 104,
   "metadata": {},
   "outputs": [],
   "source": [
    "df_sw.reset_index(inplace=True)"
   ]
  },
  {
   "cell_type": "markdown",
   "metadata": {},
   "source": [
    "### After removing the duplicate posts, reset the index to facilitate subsequent processing (without gaps).\n",
    "\n",
    "### Save the unique set of Star-Wars posts to a CSV-file."
   ]
  },
  {
   "cell_type": "code",
   "execution_count": 109,
   "metadata": {},
   "outputs": [],
   "source": [
    "# df_sw.to_csv('../data/posts_wars.csv', index=False)   # Commented-out here to avoid over-writing the posts."
   ]
  },
  {
   "cell_type": "markdown",
   "metadata": {},
   "source": [
    "#### (All done with the Star-Wars data collection of subreddit posts.  Time to move on to the next subreddit...)"
   ]
  },
  {
   "cell_type": "markdown",
   "metadata": {},
   "source": [
    "## Collecting Star-Trek posts (in a similar fashion):"
   ]
  },
  {
   "cell_type": "code",
   "execution_count": 14,
   "metadata": {},
   "outputs": [
    {
     "name": "stdout",
     "output_type": "stream",
     "text": [
      "0\n",
      "1\n",
      "2\n",
      "3\n",
      "4\n",
      "5\n",
      "6\n",
      "7\n",
      "8\n",
      "9\n",
      "10\n",
      "11\n",
      "12\n",
      "13\n",
      "14\n",
      "15\n",
      "16\n",
      "17\n",
      "18\n",
      "19\n",
      "20\n",
      "21\n",
      "22\n",
      "23\n",
      "24\n",
      "25\n",
      "26\n",
      "27\n",
      "28\n",
      "29\n",
      "30\n",
      "31\n",
      "32\n",
      "33\n",
      "34\n",
      "35\n",
      "36\n",
      "37\n",
      "38\n",
      "39\n",
      "40\n",
      "41\n"
     ]
    }
   ],
   "source": [
    "posts_t02 = []\n",
    "after_t = None                      # The variable to store the id-code for the last post in a batch, is initialized.\n",
    "for i in range(42):\n",
    "    print(i)\n",
    "    if after_t == None:\n",
    "        params_t = {}\n",
    "    else:\n",
    "        params_t = {'after':after_t}\n",
    "    URL_t = \"http://www.reddit.com/r/startrek.json\"\n",
    "    res_t = requests.get(URL_t, params=params_t, headers=headers_t)\n",
    "    if res_t.status_code == 200:    # Check for an error code when this loop fails.\n",
    "        json_st = res_t.json()\n",
    "        posts_t02.extend(json_st['data']['children'])      # Batch on batch is accumulated in the list, 'posts_t02'.\n",
    "        after_t = json_st['data']['after']\n",
    "    else:\n",
    "        print(res_t.status_code)\n",
    "        break\n",
    "    time.sleep(1)                                          # Throttle the request rate down to one per second.\n",
    "                                                           # Throttling reduces the likelihood of request denial."
   ]
  },
  {
   "cell_type": "code",
   "execution_count": 15,
   "metadata": {},
   "outputs": [
    {
     "data": {
      "text/plain": [
       "1049"
      ]
     },
     "execution_count": 15,
     "metadata": {},
     "output_type": "execute_result"
    }
   ],
   "source": [
    "len(posts_t02)"
   ]
  },
  {
   "cell_type": "markdown",
   "metadata": {},
   "source": [
    "# Save the raw data as a JSON-file, as soon as possible:"
   ]
  },
  {
   "cell_type": "code",
   "execution_count": 16,
   "metadata": {},
   "outputs": [],
   "source": [
    "with open('../data/trek_0906.json', 'w+') as f:             # Sep-06 is the latest date that posts were collected.\n",
    "    json.dump(posts_t02, f)"
   ]
  },
  {
   "cell_type": "markdown",
   "metadata": {},
   "source": [
    "# Loop through the JSON-file, building a dictionary of titles and text-bodies as a list, then into a data-frame."
   ]
  },
  {
   "cell_type": "code",
   "execution_count": 23,
   "metadata": {},
   "outputs": [
    {
     "data": {
      "text/html": [
       "<div>\n",
       "<style scoped>\n",
       "    .dataframe tbody tr th:only-of-type {\n",
       "        vertical-align: middle;\n",
       "    }\n",
       "\n",
       "    .dataframe tbody tr th {\n",
       "        vertical-align: top;\n",
       "    }\n",
       "\n",
       "    .dataframe thead th {\n",
       "        text-align: right;\n",
       "    }\n",
       "</style>\n",
       "<table border=\"1\" class=\"dataframe\">\n",
       "  <thead>\n",
       "    <tr style=\"text-align: right;\">\n",
       "      <th></th>\n",
       "      <th>text</th>\n",
       "      <th>title</th>\n",
       "    </tr>\n",
       "  </thead>\n",
       "  <tbody>\n",
       "    <tr>\n",
       "      <th>0</th>\n",
       "      <td>Well met, fellow Trekkies!\\n\\nIt's been a whil...</td>\n",
       "      <td>State of the Subreddit: Flairs, Spoilers and C...</td>\n",
       "    </tr>\n",
       "    <tr>\n",
       "      <th>1</th>\n",
       "      <td>I watched ENT, TNG, currently on DS9 season 2\\...</td>\n",
       "      <td>Thanks to Star Trek for making me feel like hu...</td>\n",
       "    </tr>\n",
       "    <tr>\n",
       "      <th>2</th>\n",
       "      <td></td>\n",
       "      <td>Chris Pine says he would love to do Star Trek ...</td>\n",
       "    </tr>\n",
       "    <tr>\n",
       "      <th>3</th>\n",
       "      <td>What impact do you think this will have on the...</td>\n",
       "      <td>CBS reportedly negotiating exit for CEO Les Mo...</td>\n",
       "    </tr>\n",
       "    <tr>\n",
       "      <th>4</th>\n",
       "      <td>I finally got around to watching Voyager and I...</td>\n",
       "      <td>Is it just me or does the Federation really ne...</td>\n",
       "    </tr>\n",
       "    <tr>\n",
       "      <th>5</th>\n",
       "      <td></td>\n",
       "      <td>Which captain would you feel the most comforta...</td>\n",
       "    </tr>\n",
       "    <tr>\n",
       "      <th>6</th>\n",
       "      <td>Let's keep it in-universe only</td>\n",
       "      <td>Besides \"JANEWAY MURDERED TUVIX\" what in-unive...</td>\n",
       "    </tr>\n",
       "    <tr>\n",
       "      <th>7</th>\n",
       "      <td>Using the Mobile Emitter tech that The Doctor ...</td>\n",
       "      <td>Do you think in the 29th Century that Professo...</td>\n",
       "    </tr>\n",
       "    <tr>\n",
       "      <th>8</th>\n",
       "      <td>So its been a while since I bought a new star ...</td>\n",
       "      <td>Recommendations on NX-01 model? What company i...</td>\n",
       "    </tr>\n",
       "    <tr>\n",
       "      <th>9</th>\n",
       "      <td>So I just rewatched Best of Both Worlds. And i...</td>\n",
       "      <td>Wolf 359: Voyager plothole</td>\n",
       "    </tr>\n",
       "  </tbody>\n",
       "</table>\n",
       "</div>"
      ],
      "text/plain": [
       "                                                text  \\\n",
       "0  Well met, fellow Trekkies!\\n\\nIt's been a whil...   \n",
       "1  I watched ENT, TNG, currently on DS9 season 2\\...   \n",
       "2                                                      \n",
       "3  What impact do you think this will have on the...   \n",
       "4  I finally got around to watching Voyager and I...   \n",
       "5                                                      \n",
       "6                     Let's keep it in-universe only   \n",
       "7  Using the Mobile Emitter tech that The Doctor ...   \n",
       "8  So its been a while since I bought a new star ...   \n",
       "9  So I just rewatched Best of Both Worlds. And i...   \n",
       "\n",
       "                                               title  \n",
       "0  State of the Subreddit: Flairs, Spoilers and C...  \n",
       "1  Thanks to Star Trek for making me feel like hu...  \n",
       "2  Chris Pine says he would love to do Star Trek ...  \n",
       "3  CBS reportedly negotiating exit for CEO Les Mo...  \n",
       "4  Is it just me or does the Federation really ne...  \n",
       "5  Which captain would you feel the most comforta...  \n",
       "6  Besides \"JANEWAY MURDERED TUVIX\" what in-unive...  \n",
       "7  Do you think in the 29th Century that Professo...  \n",
       "8  Recommendations on NX-01 model? What company i...  \n",
       "9                         Wolf 359: Voyager plothole  "
      ]
     },
     "execution_count": 23,
     "metadata": {},
     "output_type": "execute_result"
    }
   ],
   "source": [
    "posts_extracted_t = []\n",
    "for post in posts_t02:\n",
    "    posts_extracted_t.append({'title': post['data']['title'], 'text': post['data']['selftext']})\n",
    "df_st = pd.DataFrame(posts_extracted_t)\n",
    "df_st.head(10)"
   ]
  },
  {
   "cell_type": "code",
   "execution_count": 130,
   "metadata": {},
   "outputs": [
    {
     "name": "stdout",
     "output_type": "stream",
     "text": [
      "Duplicated values: 76\n"
     ]
    },
    {
     "data": {
      "text/plain": [
       "(1044, 2)"
      ]
     },
     "execution_count": 130,
     "metadata": {},
     "output_type": "execute_result"
    }
   ],
   "source": [
    "print('Duplicated values:', df_st.duplicated().sum())      # Count the number of repeated Star-Trek posts.\n",
    "df_st.shape"
   ]
  },
  {
   "cell_type": "code",
   "execution_count": 131,
   "metadata": {},
   "outputs": [],
   "source": [
    "df_st.drop_duplicates(inplace=True)                        # Remove the redundant posts."
   ]
  },
  {
   "cell_type": "code",
   "execution_count": 132,
   "metadata": {},
   "outputs": [
    {
     "name": "stdout",
     "output_type": "stream",
     "text": [
      "Duplicated values: 0\n"
     ]
    },
    {
     "data": {
      "text/plain": [
       "(968, 2)"
      ]
     },
     "execution_count": 132,
     "metadata": {},
     "output_type": "execute_result"
    }
   ],
   "source": [
    "print('Duplicated values:', df_st.duplicated().sum())      # Verify that the duplicate posts are removed.\n",
    "df_st.shape"
   ]
  },
  {
   "cell_type": "code",
   "execution_count": 136,
   "metadata": {},
   "outputs": [],
   "source": [
    "df_st.reset_index(inplace=True)                            # Re-sequence the indices for further processing."
   ]
  },
  {
   "cell_type": "markdown",
   "metadata": {},
   "source": [
    "### From one pull, we already have more posts on Star-Trek than that on Star-Wars.\n",
    "\n",
    "### Save the Star-Trek posts data-frame to a CSV-file."
   ]
  },
  {
   "cell_type": "code",
   "execution_count": 141,
   "metadata": {},
   "outputs": [],
   "source": [
    "# df_st.to_csv('../data/posts_trek.csv', index=False)    # Commented out to avoid over-writing the data files."
   ]
  },
  {
   "cell_type": "code",
   "execution_count": null,
   "metadata": {},
   "outputs": [],
   "source": []
  },
  {
   "cell_type": "markdown",
   "metadata": {},
   "source": [
    "# Finding fresh posts:\n",
    "\n",
    "### After the collection of the data to be used for modeling, I thought ahead about collecting even more unseen data to further test how our models perform.  I collect posts from both subreddits on Sep-06 for this purpose using the established loop above.  I start by retrieving data pegged for model training called 'combined.CSV,' with which I remove posts shared in common.  This leaves me with only posts from Sep-06, not repeated from the past."
   ]
  },
  {
   "cell_type": "code",
   "execution_count": 24,
   "metadata": {},
   "outputs": [],
   "source": [
    "df_combo = pd.read_csv('../data/combined.csv')"
   ]
  },
  {
   "cell_type": "code",
   "execution_count": 57,
   "metadata": {},
   "outputs": [
    {
     "data": {
      "text/html": [
       "<div>\n",
       "<style scoped>\n",
       "    .dataframe tbody tr th:only-of-type {\n",
       "        vertical-align: middle;\n",
       "    }\n",
       "\n",
       "    .dataframe tbody tr th {\n",
       "        vertical-align: top;\n",
       "    }\n",
       "\n",
       "    .dataframe thead th {\n",
       "        text-align: right;\n",
       "    }\n",
       "</style>\n",
       "<table border=\"1\" class=\"dataframe\">\n",
       "  <thead>\n",
       "    <tr style=\"text-align: right;\">\n",
       "      <th></th>\n",
       "      <th>text</th>\n",
       "      <th>title</th>\n",
       "      <th>is_trek</th>\n",
       "    </tr>\n",
       "  </thead>\n",
       "  <tbody>\n",
       "    <tr>\n",
       "      <th>0</th>\n",
       "      <td>Things are getting out of hand when it comes t...</td>\n",
       "      <td>On opinions.</td>\n",
       "      <td>0</td>\n",
       "    </tr>\n",
       "    <tr>\n",
       "      <th>1</th>\n",
       "      <td>Its been three weeks since the release of Thra...</td>\n",
       "      <td>Thrawn: Alliances by Timothy Zahn - Discussion...</td>\n",
       "      <td>0</td>\n",
       "    </tr>\n",
       "    <tr>\n",
       "      <th>2</th>\n",
       "      <td>NaN</td>\n",
       "      <td>Wow, okay then.</td>\n",
       "      <td>0</td>\n",
       "    </tr>\n",
       "    <tr>\n",
       "      <th>3</th>\n",
       "      <td>NaN</td>\n",
       "      <td>Hot Take: R2-D2 is the most consistently best ...</td>\n",
       "      <td>0</td>\n",
       "    </tr>\n",
       "    <tr>\n",
       "      <th>4</th>\n",
       "      <td>NaN</td>\n",
       "      <td>Anakin vs Obiwan. Was the most anticipated lig...</td>\n",
       "      <td>0</td>\n",
       "    </tr>\n",
       "  </tbody>\n",
       "</table>\n",
       "</div>"
      ],
      "text/plain": [
       "                                                text  \\\n",
       "0  Things are getting out of hand when it comes t...   \n",
       "1  Its been three weeks since the release of Thra...   \n",
       "2                                                NaN   \n",
       "3                                                NaN   \n",
       "4                                                NaN   \n",
       "\n",
       "                                               title  is_trek  \n",
       "0                                       On opinions.        0  \n",
       "1  Thrawn: Alliances by Timothy Zahn - Discussion...        0  \n",
       "2                                    Wow, okay then.        0  \n",
       "3  Hot Take: R2-D2 is the most consistently best ...        0  \n",
       "4  Anakin vs Obiwan. Was the most anticipated lig...        0  "
      ]
     },
     "execution_count": 57,
     "metadata": {},
     "output_type": "execute_result"
    }
   ],
   "source": [
    "df_combo.head()"
   ]
  },
  {
   "cell_type": "code",
   "execution_count": 42,
   "metadata": {},
   "outputs": [
    {
     "data": {
      "text/plain": [
       "(1038, 2)"
      ]
     },
     "execution_count": 42,
     "metadata": {},
     "output_type": "execute_result"
    }
   ],
   "source": [
    "df_sw.shape                                         # This object contained the Star-Wars posts collected on Sep-06."
   ]
  },
  {
   "cell_type": "code",
   "execution_count": 27,
   "metadata": {},
   "outputs": [
    {
     "data": {
      "text/html": [
       "<div>\n",
       "<style scoped>\n",
       "    .dataframe tbody tr th:only-of-type {\n",
       "        vertical-align: middle;\n",
       "    }\n",
       "\n",
       "    .dataframe tbody tr th {\n",
       "        vertical-align: top;\n",
       "    }\n",
       "\n",
       "    .dataframe thead th {\n",
       "        text-align: right;\n",
       "    }\n",
       "</style>\n",
       "<table border=\"1\" class=\"dataframe\">\n",
       "  <thead>\n",
       "    <tr style=\"text-align: right;\">\n",
       "      <th></th>\n",
       "      <th>text</th>\n",
       "      <th>title</th>\n",
       "    </tr>\n",
       "  </thead>\n",
       "  <tbody>\n",
       "    <tr>\n",
       "      <th>0</th>\n",
       "      <td>Well met, fellow Trekkies!\\n\\nIt's been a whil...</td>\n",
       "      <td>State of the Subreddit: Flairs, Spoilers and C...</td>\n",
       "    </tr>\n",
       "    <tr>\n",
       "      <th>1</th>\n",
       "      <td>I watched ENT, TNG, currently on DS9 season 2\\...</td>\n",
       "      <td>Thanks to Star Trek for making me feel like hu...</td>\n",
       "    </tr>\n",
       "    <tr>\n",
       "      <th>2</th>\n",
       "      <td></td>\n",
       "      <td>Chris Pine says he would love to do Star Trek ...</td>\n",
       "    </tr>\n",
       "    <tr>\n",
       "      <th>3</th>\n",
       "      <td>What impact do you think this will have on the...</td>\n",
       "      <td>CBS reportedly negotiating exit for CEO Les Mo...</td>\n",
       "    </tr>\n",
       "    <tr>\n",
       "      <th>4</th>\n",
       "      <td>I finally got around to watching Voyager and I...</td>\n",
       "      <td>Is it just me or does the Federation really ne...</td>\n",
       "    </tr>\n",
       "  </tbody>\n",
       "</table>\n",
       "</div>"
      ],
      "text/plain": [
       "                                                text  \\\n",
       "0  Well met, fellow Trekkies!\\n\\nIt's been a whil...   \n",
       "1  I watched ENT, TNG, currently on DS9 season 2\\...   \n",
       "2                                                      \n",
       "3  What impact do you think this will have on the...   \n",
       "4  I finally got around to watching Voyager and I...   \n",
       "\n",
       "                                               title  \n",
       "0  State of the Subreddit: Flairs, Spoilers and C...  \n",
       "1  Thanks to Star Trek for making me feel like hu...  \n",
       "2  Chris Pine says he would love to do Star Trek ...  \n",
       "3  CBS reportedly negotiating exit for CEO Les Mo...  \n",
       "4  Is it just me or does the Federation really ne...  "
      ]
     },
     "execution_count": 27,
     "metadata": {},
     "output_type": "execute_result"
    }
   ],
   "source": [
    "df_st.head()                                        # This object contained the Star-Trek posts collected on Sep-06."
   ]
  },
  {
   "cell_type": "code",
   "execution_count": null,
   "metadata": {},
   "outputs": [],
   "source": [
    "# posts_sw_0906 = [post for post in df_sw['title'] if post not in df_combo['title']]"
   ]
  },
  {
   "cell_type": "markdown",
   "metadata": {},
   "source": [
    "## The result is 289 Star-Wars posts ready for final testing."
   ]
  },
  {
   "cell_type": "code",
   "execution_count": 65,
   "metadata": {},
   "outputs": [
    {
     "data": {
      "text/html": [
       "<div>\n",
       "<style scoped>\n",
       "    .dataframe tbody tr th:only-of-type {\n",
       "        vertical-align: middle;\n",
       "    }\n",
       "\n",
       "    .dataframe tbody tr th {\n",
       "        vertical-align: top;\n",
       "    }\n",
       "\n",
       "    .dataframe thead th {\n",
       "        text-align: right;\n",
       "    }\n",
       "</style>\n",
       "<table border=\"1\" class=\"dataframe\">\n",
       "  <thead>\n",
       "    <tr style=\"text-align: right;\">\n",
       "      <th></th>\n",
       "      <th>test_titles</th>\n",
       "      <th>target</th>\n",
       "    </tr>\n",
       "  </thead>\n",
       "  <tbody>\n",
       "    <tr>\n",
       "      <th>284</th>\n",
       "      <td>Legend of Jedi Knight Shiin. Thank you for the...</td>\n",
       "      <td>0</td>\n",
       "    </tr>\n",
       "    <tr>\n",
       "      <th>285</th>\n",
       "      <td>Doing my daughters laundry tonight (11 years o...</td>\n",
       "      <td>0</td>\n",
       "    </tr>\n",
       "    <tr>\n",
       "      <th>286</th>\n",
       "      <td>Need a pepakura file!</td>\n",
       "      <td>0</td>\n",
       "    </tr>\n",
       "    <tr>\n",
       "      <th>287</th>\n",
       "      <td>Just trying to help...</td>\n",
       "      <td>0</td>\n",
       "    </tr>\n",
       "    <tr>\n",
       "      <th>288</th>\n",
       "      <td>A retrospective review celebrating the 10th an...</td>\n",
       "      <td>0</td>\n",
       "    </tr>\n",
       "  </tbody>\n",
       "</table>\n",
       "</div>"
      ],
      "text/plain": [
       "                                           test_titles  target\n",
       "284  Legend of Jedi Knight Shiin. Thank you for the...       0\n",
       "285  Doing my daughters laundry tonight (11 years o...       0\n",
       "286                              Need a pepakura file!       0\n",
       "287                             Just trying to help...       0\n",
       "288  A retrospective review celebrating the 10th an...       0"
      ]
     },
     "execution_count": 65,
     "metadata": {},
     "output_type": "execute_result"
    }
   ],
   "source": [
    "# new_sw = pd.DataFrame(list(df_sw_new), columns=['test_titles'])\n",
    "# new_sw['target'] = 0\n",
    "# new_sw.tail()"
   ]
  },
  {
   "cell_type": "code",
   "execution_count": null,
   "metadata": {},
   "outputs": [],
   "source": [
    "# new_sw.to_csv('../data/new_sw_0906.csv', index=False)       # Commented out to avoid overwriting the saved data."
   ]
  },
  {
   "cell_type": "code",
   "execution_count": null,
   "metadata": {},
   "outputs": [],
   "source": []
  },
  {
   "cell_type": "markdown",
   "metadata": {},
   "source": [
    "## I continue to collect this extra testing set of posts from 'r/startrek' on Sep-06 and create a column 'target' to record the source of the posts.  I set aside 152 Star-Trek posts ready for final testing."
   ]
  },
  {
   "cell_type": "code",
   "execution_count": 64,
   "metadata": {},
   "outputs": [
    {
     "data": {
      "text/html": [
       "<div>\n",
       "<style scoped>\n",
       "    .dataframe tbody tr th:only-of-type {\n",
       "        vertical-align: middle;\n",
       "    }\n",
       "\n",
       "    .dataframe tbody tr th {\n",
       "        vertical-align: top;\n",
       "    }\n",
       "\n",
       "    .dataframe thead th {\n",
       "        text-align: right;\n",
       "    }\n",
       "</style>\n",
       "<table border=\"1\" class=\"dataframe\">\n",
       "  <thead>\n",
       "    <tr style=\"text-align: right;\">\n",
       "      <th></th>\n",
       "      <th>test_titles</th>\n",
       "      <th>target</th>\n",
       "    </tr>\n",
       "  </thead>\n",
       "  <tbody>\n",
       "    <tr>\n",
       "      <th>147</th>\n",
       "      <td>\"Star Trek V: The Final Frontier\" (1989): God ...</td>\n",
       "      <td>1</td>\n",
       "    </tr>\n",
       "    <tr>\n",
       "      <th>148</th>\n",
       "      <td>Random DS9 questions</td>\n",
       "      <td>1</td>\n",
       "    </tr>\n",
       "    <tr>\n",
       "      <th>149</th>\n",
       "      <td>[video] \"Matters of internal security. The age...</td>\n",
       "      <td>1</td>\n",
       "    </tr>\n",
       "    <tr>\n",
       "      <th>150</th>\n",
       "      <td>Starting TOS for the very first time</td>\n",
       "      <td>1</td>\n",
       "    </tr>\n",
       "    <tr>\n",
       "      <th>151</th>\n",
       "      <td>Jammer:Pondering Patrick Stewart’s return to t...</td>\n",
       "      <td>1</td>\n",
       "    </tr>\n",
       "  </tbody>\n",
       "</table>\n",
       "</div>"
      ],
      "text/plain": [
       "                                           test_titles  target\n",
       "147  \"Star Trek V: The Final Frontier\" (1989): God ...       1\n",
       "148                               Random DS9 questions       1\n",
       "149  [video] \"Matters of internal security. The age...       1\n",
       "150               Starting TOS for the very first time       1\n",
       "151  Jammer:Pondering Patrick Stewart’s return to t...       1"
      ]
     },
     "execution_count": 64,
     "metadata": {},
     "output_type": "execute_result"
    }
   ],
   "source": [
    "# new_st = pd.DataFrame(list(df_st_new), columns=['test_titles'])\n",
    "# new_st['target'] = 1\n",
    "# new_st.tail()"
   ]
  },
  {
   "cell_type": "code",
   "execution_count": 63,
   "metadata": {},
   "outputs": [],
   "source": [
    "# new_st.to_csv('../data/new_st_0906.csv', index=False)       # Commented out to avoid overwriting the saved data."
   ]
  },
  {
   "cell_type": "code",
   "execution_count": null,
   "metadata": {},
   "outputs": [],
   "source": []
  },
  {
   "cell_type": "markdown",
   "metadata": {},
   "source": [
    "## Continue to Notebook-2."
   ]
  },
  {
   "cell_type": "code",
   "execution_count": null,
   "metadata": {},
   "outputs": [],
   "source": []
  }
 ],
 "metadata": {
  "anaconda-cloud": {},
  "kernelspec": {
   "display_name": "Python 3",
   "language": "python",
   "name": "python3"
  },
  "language_info": {
   "codemirror_mode": {
    "name": "ipython",
    "version": 3
   },
   "file_extension": ".py",
   "mimetype": "text/x-python",
   "name": "python",
   "nbconvert_exporter": "python",
   "pygments_lexer": "ipython3",
   "version": "3.6.5"
  },
  "varInspector": {
   "cols": {
    "lenName": 16,
    "lenType": 16,
    "lenVar": 40
   },
   "kernels_config": {
    "python": {
     "delete_cmd_postfix": "",
     "delete_cmd_prefix": "del ",
     "library": "var_list.py",
     "varRefreshCmd": "print(var_dic_list())"
    },
    "r": {
     "delete_cmd_postfix": ") ",
     "delete_cmd_prefix": "rm(",
     "library": "var_list.r",
     "varRefreshCmd": "cat(var_dic_list()) "
    }
   },
   "types_to_exclude": [
    "module",
    "function",
    "builtin_function_or_method",
    "instance",
    "_Feature"
   ],
   "window_display": false
  }
 },
 "nbformat": 4,
 "nbformat_minor": 1
}
