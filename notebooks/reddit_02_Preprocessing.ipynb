{
 "cells": [
  {
   "cell_type": "markdown",
   "metadata": {},
   "source": [
    "# Predict the Epic Sci-Fi Universe\n",
    "# Notebook-2 (Preprocessing)\n",
    "### Perry Shyr"
   ]
  },
  {
   "cell_type": "markdown",
   "metadata": {},
   "source": [
    "### This notebook covers the concatenation and data processing steps in preparation for modeling and analysis.  from the data collected in the first notebook the majority class (more active posts) came from the 'r/startrek' subreddit.  For model training purposes, both sets of posts from the two sources need to be combined.  It was determined that the \"Star/star\" from the two franchise titles would not contribute to the evaluation of the two main  models examined, so the \"Star/star\" of those bi-grams were removed.  An inelegant way to perform the removal is used pending a search for better code in the form of a function."
   ]
  },
  {
   "cell_type": "markdown",
   "metadata": {},
   "source": [
    "## Load libraries and data:"
   ]
  },
  {
   "cell_type": "code",
   "execution_count": 1,
   "metadata": {},
   "outputs": [],
   "source": [
    "import requests\n",
    "import json\n",
    "import time\n",
    "import numpy as np\n",
    "import pandas as pd\n",
    "import pickle\n",
    "import matplotlib.pyplot as plt\n",
    "import regex as re\n",
    "\n",
    "np.random.seed(42)\n",
    "\n",
    "%matplotlib inline"
   ]
  },
  {
   "cell_type": "code",
   "execution_count": 21,
   "metadata": {},
   "outputs": [],
   "source": [
    "posts_w1u = pd.read_csv('../data/posts_wars.csv')   # Unique Star-Wars posts loaded.\n",
    "posts_t1u = pd.read_csv('../data/posts_trek.csv')   # Unique Star-Trek posts loaded."
   ]
  },
  {
   "cell_type": "code",
   "execution_count": 22,
   "metadata": {},
   "outputs": [
    {
     "data": {
      "text/html": [
       "<div>\n",
       "<style scoped>\n",
       "    .dataframe tbody tr th:only-of-type {\n",
       "        vertical-align: middle;\n",
       "    }\n",
       "\n",
       "    .dataframe tbody tr th {\n",
       "        vertical-align: top;\n",
       "    }\n",
       "\n",
       "    .dataframe thead th {\n",
       "        text-align: right;\n",
       "    }\n",
       "</style>\n",
       "<table border=\"1\" class=\"dataframe\">\n",
       "  <thead>\n",
       "    <tr style=\"text-align: right;\">\n",
       "      <th></th>\n",
       "      <th>index</th>\n",
       "      <th>text</th>\n",
       "      <th>title</th>\n",
       "    </tr>\n",
       "  </thead>\n",
       "  <tbody>\n",
       "    <tr>\n",
       "      <th>0</th>\n",
       "      <td>0</td>\n",
       "      <td>Things are getting out of hand when it comes t...</td>\n",
       "      <td>On opinions.</td>\n",
       "    </tr>\n",
       "    <tr>\n",
       "      <th>1</th>\n",
       "      <td>1</td>\n",
       "      <td>Its been three weeks since the release of Thra...</td>\n",
       "      <td>Thrawn: Alliances by Timothy Zahn - Discussion...</td>\n",
       "    </tr>\n",
       "    <tr>\n",
       "      <th>2</th>\n",
       "      <td>2</td>\n",
       "      <td>NaN</td>\n",
       "      <td>Wow, okay then.</td>\n",
       "    </tr>\n",
       "    <tr>\n",
       "      <th>3</th>\n",
       "      <td>3</td>\n",
       "      <td>NaN</td>\n",
       "      <td>Hot Take: R2-D2 is the most consistently best ...</td>\n",
       "    </tr>\n",
       "    <tr>\n",
       "      <th>4</th>\n",
       "      <td>4</td>\n",
       "      <td>NaN</td>\n",
       "      <td>Anakin vs Obiwan. Was the most anticipated lig...</td>\n",
       "    </tr>\n",
       "  </tbody>\n",
       "</table>\n",
       "</div>"
      ],
      "text/plain": [
       "   index                                               text  \\\n",
       "0      0  Things are getting out of hand when it comes t...   \n",
       "1      1  Its been three weeks since the release of Thra...   \n",
       "2      2                                                NaN   \n",
       "3      3                                                NaN   \n",
       "4      4                                                NaN   \n",
       "\n",
       "                                               title  \n",
       "0                                       On opinions.  \n",
       "1  Thrawn: Alliances by Timothy Zahn - Discussion...  \n",
       "2                                    Wow, okay then.  \n",
       "3  Hot Take: R2-D2 is the most consistently best ...  \n",
       "4  Anakin vs Obiwan. Was the most anticipated lig...  "
      ]
     },
     "execution_count": 22,
     "metadata": {},
     "output_type": "execute_result"
    }
   ],
   "source": [
    "posts_w1u.head()                                    # Check the Star-Wars posts."
   ]
  },
  {
   "cell_type": "code",
   "execution_count": 23,
   "metadata": {},
   "outputs": [
    {
     "name": "stdout",
     "output_type": "stream",
     "text": [
      "62.48548199767712 % of Star-Wars texts are blank.\n"
     ]
    }
   ],
   "source": [
    "print(posts_w1u['text'].isnull().sum()*100./len(posts_w1u), '% of Star-Wars texts are blank.')"
   ]
  },
  {
   "cell_type": "code",
   "execution_count": 24,
   "metadata": {},
   "outputs": [
    {
     "data": {
      "text/html": [
       "<div>\n",
       "<style scoped>\n",
       "    .dataframe tbody tr th:only-of-type {\n",
       "        vertical-align: middle;\n",
       "    }\n",
       "\n",
       "    .dataframe tbody tr th {\n",
       "        vertical-align: top;\n",
       "    }\n",
       "\n",
       "    .dataframe thead th {\n",
       "        text-align: right;\n",
       "    }\n",
       "</style>\n",
       "<table border=\"1\" class=\"dataframe\">\n",
       "  <thead>\n",
       "    <tr style=\"text-align: right;\">\n",
       "      <th></th>\n",
       "      <th>index</th>\n",
       "      <th>text</th>\n",
       "      <th>title</th>\n",
       "    </tr>\n",
       "  </thead>\n",
       "  <tbody>\n",
       "    <tr>\n",
       "      <th>0</th>\n",
       "      <td>0</td>\n",
       "      <td>NaN</td>\n",
       "      <td>‘Star Trek: Discovery’ Cast Tease Juicy Storyl...</td>\n",
       "    </tr>\n",
       "    <tr>\n",
       "      <th>1</th>\n",
       "      <td>1</td>\n",
       "      <td>NaN</td>\n",
       "      <td>The Shuttlecraft Galileo NCC-1701/7 Blueprints...</td>\n",
       "    </tr>\n",
       "    <tr>\n",
       "      <th>2</th>\n",
       "      <td>2</td>\n",
       "      <td>NaN</td>\n",
       "      <td>If it's ever necessary to show young Picard, h...</td>\n",
       "    </tr>\n",
       "    <tr>\n",
       "      <th>3</th>\n",
       "      <td>3</td>\n",
       "      <td>NaN</td>\n",
       "      <td>Throwback to everythingisterrible discovering ...</td>\n",
       "    </tr>\n",
       "    <tr>\n",
       "      <th>4</th>\n",
       "      <td>4</td>\n",
       "      <td>NaN</td>\n",
       "      <td>Composers Ron Jones, Dennis McCarthy and Jay C...</td>\n",
       "    </tr>\n",
       "  </tbody>\n",
       "</table>\n",
       "</div>"
      ],
      "text/plain": [
       "   index text                                              title\n",
       "0      0  NaN  ‘Star Trek: Discovery’ Cast Tease Juicy Storyl...\n",
       "1      1  NaN  The Shuttlecraft Galileo NCC-1701/7 Blueprints...\n",
       "2      2  NaN  If it's ever necessary to show young Picard, h...\n",
       "3      3  NaN  Throwback to everythingisterrible discovering ...\n",
       "4      4  NaN  Composers Ron Jones, Dennis McCarthy and Jay C..."
      ]
     },
     "execution_count": 24,
     "metadata": {},
     "output_type": "execute_result"
    }
   ],
   "source": [
    "posts_t1u.head()                                    # Check the Star-Trek posts."
   ]
  },
  {
   "cell_type": "code",
   "execution_count": 25,
   "metadata": {},
   "outputs": [
    {
     "name": "stdout",
     "output_type": "stream",
     "text": [
      "28.40909090909091 % of Star-Trek texts are blank.\n"
     ]
    }
   ],
   "source": [
    "print(posts_t1u['text'].isnull().sum()*100./len(posts_t1u), '% of Star-Trek texts are blank.')"
   ]
  },
  {
   "cell_type": "code",
   "execution_count": 26,
   "metadata": {},
   "outputs": [
    {
     "name": "stdout",
     "output_type": "stream",
     "text": [
      "The number of unique Star-Wars posts is  861 .\n",
      "The number of unique Star-Trek posts is  968 .\n"
     ]
    }
   ],
   "source": [
    "print('The number of unique Star-Wars posts is ',len(posts_w1u), '.')\n",
    "print('The number of unique Star-Trek posts is ',len(posts_t1u), '.')"
   ]
  },
  {
   "cell_type": "markdown",
   "metadata": {},
   "source": [
    "### Identify the source of the posts here with \"0\" for 'r/startrek' and \"1\" for 'r/StarWars.'"
   ]
  },
  {
   "cell_type": "code",
   "execution_count": 27,
   "metadata": {},
   "outputs": [],
   "source": [
    "posts_w1u['is_trek'] = 0"
   ]
  },
  {
   "cell_type": "code",
   "execution_count": 28,
   "metadata": {},
   "outputs": [],
   "source": [
    "posts_t1u['is_trek'] = 1"
   ]
  },
  {
   "cell_type": "markdown",
   "metadata": {},
   "source": [
    "### Combine the posts from both subreddits here."
   ]
  },
  {
   "cell_type": "code",
   "execution_count": 29,
   "metadata": {},
   "outputs": [],
   "source": [
    "posts_df = pd.concat([posts_w1u,posts_t1u], axis=0, ignore_index=True)"
   ]
  },
  {
   "cell_type": "code",
   "execution_count": 30,
   "metadata": {},
   "outputs": [
    {
     "data": {
      "text/html": [
       "<div>\n",
       "<style scoped>\n",
       "    .dataframe tbody tr th:only-of-type {\n",
       "        vertical-align: middle;\n",
       "    }\n",
       "\n",
       "    .dataframe tbody tr th {\n",
       "        vertical-align: top;\n",
       "    }\n",
       "\n",
       "    .dataframe thead th {\n",
       "        text-align: right;\n",
       "    }\n",
       "</style>\n",
       "<table border=\"1\" class=\"dataframe\">\n",
       "  <thead>\n",
       "    <tr style=\"text-align: right;\">\n",
       "      <th></th>\n",
       "      <th>index</th>\n",
       "      <th>text</th>\n",
       "      <th>title</th>\n",
       "      <th>is_trek</th>\n",
       "    </tr>\n",
       "  </thead>\n",
       "  <tbody>\n",
       "    <tr>\n",
       "      <th>1824</th>\n",
       "      <td>964</td>\n",
       "      <td>NaN</td>\n",
       "      <td>Kate Mulgrew panel at the 2018 Star Trek Conve...</td>\n",
       "      <td>1</td>\n",
       "    </tr>\n",
       "    <tr>\n",
       "      <th>1825</th>\n",
       "      <td>965</td>\n",
       "      <td>How about show that the reason he never marrie...</td>\n",
       "      <td>Brilliant Idea for Star Trek: Picard</td>\n",
       "      <td>1</td>\n",
       "    </tr>\n",
       "    <tr>\n",
       "      <th>1826</th>\n",
       "      <td>966</td>\n",
       "      <td>NaN</td>\n",
       "      <td>The Trek Family Photo</td>\n",
       "      <td>1</td>\n",
       "    </tr>\n",
       "    <tr>\n",
       "      <th>1827</th>\n",
       "      <td>967</td>\n",
       "      <td>NaN</td>\n",
       "      <td>My inner thoughts when I heard the news</td>\n",
       "      <td>1</td>\n",
       "    </tr>\n",
       "    <tr>\n",
       "      <th>1828</th>\n",
       "      <td>968</td>\n",
       "      <td>http://i.imgur.com/Pf3HWEp.gifv\\n\\n/r/startrek...</td>\n",
       "      <td>When Patrick Stewart thought he was done with ...</td>\n",
       "      <td>1</td>\n",
       "    </tr>\n",
       "  </tbody>\n",
       "</table>\n",
       "</div>"
      ],
      "text/plain": [
       "      index                                               text  \\\n",
       "1824    964                                                NaN   \n",
       "1825    965  How about show that the reason he never marrie...   \n",
       "1826    966                                                NaN   \n",
       "1827    967                                                NaN   \n",
       "1828    968  http://i.imgur.com/Pf3HWEp.gifv\\n\\n/r/startrek...   \n",
       "\n",
       "                                                  title  is_trek  \n",
       "1824  Kate Mulgrew panel at the 2018 Star Trek Conve...        1  \n",
       "1825               Brilliant Idea for Star Trek: Picard        1  \n",
       "1826                              The Trek Family Photo        1  \n",
       "1827            My inner thoughts when I heard the news        1  \n",
       "1828  When Patrick Stewart thought he was done with ...        1  "
      ]
     },
     "execution_count": 30,
     "metadata": {},
     "output_type": "execute_result"
    }
   ],
   "source": [
    "posts_df.tail()                                  # Note the extra 'index' feature generated."
   ]
  },
  {
   "cell_type": "markdown",
   "metadata": {},
   "source": [
    "### Drop the index column created after the concatenation of the two groups of posts."
   ]
  },
  {
   "cell_type": "code",
   "execution_count": 31,
   "metadata": {},
   "outputs": [],
   "source": [
    "posts_df.drop('index', axis=1, inplace=True)"
   ]
  },
  {
   "cell_type": "code",
   "execution_count": 32,
   "metadata": {},
   "outputs": [
    {
     "data": {
      "text/html": [
       "<div>\n",
       "<style scoped>\n",
       "    .dataframe tbody tr th:only-of-type {\n",
       "        vertical-align: middle;\n",
       "    }\n",
       "\n",
       "    .dataframe tbody tr th {\n",
       "        vertical-align: top;\n",
       "    }\n",
       "\n",
       "    .dataframe thead th {\n",
       "        text-align: right;\n",
       "    }\n",
       "</style>\n",
       "<table border=\"1\" class=\"dataframe\">\n",
       "  <thead>\n",
       "    <tr style=\"text-align: right;\">\n",
       "      <th></th>\n",
       "      <th>text</th>\n",
       "      <th>title</th>\n",
       "      <th>is_trek</th>\n",
       "    </tr>\n",
       "  </thead>\n",
       "  <tbody>\n",
       "    <tr>\n",
       "      <th>0</th>\n",
       "      <td>Things are getting out of hand when it comes t...</td>\n",
       "      <td>On opinions.</td>\n",
       "      <td>0</td>\n",
       "    </tr>\n",
       "    <tr>\n",
       "      <th>1</th>\n",
       "      <td>Its been three weeks since the release of Thra...</td>\n",
       "      <td>Thrawn: Alliances by Timothy Zahn - Discussion...</td>\n",
       "      <td>0</td>\n",
       "    </tr>\n",
       "    <tr>\n",
       "      <th>2</th>\n",
       "      <td>NaN</td>\n",
       "      <td>Wow, okay then.</td>\n",
       "      <td>0</td>\n",
       "    </tr>\n",
       "    <tr>\n",
       "      <th>3</th>\n",
       "      <td>NaN</td>\n",
       "      <td>Hot Take: R2-D2 is the most consistently best ...</td>\n",
       "      <td>0</td>\n",
       "    </tr>\n",
       "    <tr>\n",
       "      <th>4</th>\n",
       "      <td>NaN</td>\n",
       "      <td>Anakin vs Obiwan. Was the most anticipated lig...</td>\n",
       "      <td>0</td>\n",
       "    </tr>\n",
       "    <tr>\n",
       "      <th>5</th>\n",
       "      <td>NaN</td>\n",
       "      <td>Well it wasn’t in Maz Kanata’s basement, but i...</td>\n",
       "      <td>0</td>\n",
       "    </tr>\n",
       "    <tr>\n",
       "      <th>6</th>\n",
       "      <td>NaN</td>\n",
       "      <td>Something I photoshopped together for fun, fig...</td>\n",
       "      <td>0</td>\n",
       "    </tr>\n",
       "    <tr>\n",
       "      <th>7</th>\n",
       "      <td>NaN</td>\n",
       "      <td>Finished cardboard Executor class super star d...</td>\n",
       "      <td>0</td>\n",
       "    </tr>\n",
       "    <tr>\n",
       "      <th>8</th>\n",
       "      <td>One of the best things I feel the Clone Wars d...</td>\n",
       "      <td>Anyone else love the scenes where Anakin and O...</td>\n",
       "      <td>0</td>\n",
       "    </tr>\n",
       "    <tr>\n",
       "      <th>9</th>\n",
       "      <td>NaN</td>\n",
       "      <td>Samurai Stormtrooper</td>\n",
       "      <td>0</td>\n",
       "    </tr>\n",
       "    <tr>\n",
       "      <th>10</th>\n",
       "      <td>&amp;amp;#x200B;</td>\n",
       "      <td>what's your favorite thing from disney canon s...</td>\n",
       "      <td>0</td>\n",
       "    </tr>\n",
       "    <tr>\n",
       "      <th>11</th>\n",
       "      <td>NaN</td>\n",
       "      <td>My sons Lego Star Wars collection...</td>\n",
       "      <td>0</td>\n",
       "    </tr>\n",
       "    <tr>\n",
       "      <th>12</th>\n",
       "      <td>NaN</td>\n",
       "      <td>Just watched ANH with a Live Concert!</td>\n",
       "      <td>0</td>\n",
       "    </tr>\n",
       "    <tr>\n",
       "      <th>13</th>\n",
       "      <td>September 5 - Star Wars #53  \\nSeptember 5 - D...</td>\n",
       "      <td>Upcoming Comic Book Release Dates</td>\n",
       "      <td>0</td>\n",
       "    </tr>\n",
       "    <tr>\n",
       "      <th>14</th>\n",
       "      <td>NaN</td>\n",
       "      <td>Wife bought us tickets for the Empire Strikes ...</td>\n",
       "      <td>0</td>\n",
       "    </tr>\n",
       "  </tbody>\n",
       "</table>\n",
       "</div>"
      ],
      "text/plain": [
       "                                                 text  \\\n",
       "0   Things are getting out of hand when it comes t...   \n",
       "1   Its been three weeks since the release of Thra...   \n",
       "2                                                 NaN   \n",
       "3                                                 NaN   \n",
       "4                                                 NaN   \n",
       "5                                                 NaN   \n",
       "6                                                 NaN   \n",
       "7                                                 NaN   \n",
       "8   One of the best things I feel the Clone Wars d...   \n",
       "9                                                 NaN   \n",
       "10                                       &amp;#x200B;   \n",
       "11                                                NaN   \n",
       "12                                                NaN   \n",
       "13  September 5 - Star Wars #53  \\nSeptember 5 - D...   \n",
       "14                                                NaN   \n",
       "\n",
       "                                                title  is_trek  \n",
       "0                                        On opinions.        0  \n",
       "1   Thrawn: Alliances by Timothy Zahn - Discussion...        0  \n",
       "2                                     Wow, okay then.        0  \n",
       "3   Hot Take: R2-D2 is the most consistently best ...        0  \n",
       "4   Anakin vs Obiwan. Was the most anticipated lig...        0  \n",
       "5   Well it wasn’t in Maz Kanata’s basement, but i...        0  \n",
       "6   Something I photoshopped together for fun, fig...        0  \n",
       "7   Finished cardboard Executor class super star d...        0  \n",
       "8   Anyone else love the scenes where Anakin and O...        0  \n",
       "9                                Samurai Stormtrooper        0  \n",
       "10  what's your favorite thing from disney canon s...        0  \n",
       "11               My sons Lego Star Wars collection...        0  \n",
       "12              Just watched ANH with a Live Concert!        0  \n",
       "13                  Upcoming Comic Book Release Dates        0  \n",
       "14  Wife bought us tickets for the Empire Strikes ...        0  "
      ]
     },
     "execution_count": 32,
     "metadata": {},
     "output_type": "execute_result"
    }
   ],
   "source": [
    "posts_df.head(15)                               # Verify that only three columns remain."
   ]
  },
  {
   "cell_type": "code",
   "execution_count": 33,
   "metadata": {},
   "outputs": [
    {
     "data": {
      "text/plain": [
       "(1829, 3)"
      ]
     },
     "execution_count": 33,
     "metadata": {},
     "output_type": "execute_result"
    }
   ],
   "source": [
    "posts_df.shape"
   ]
  },
  {
   "cell_type": "markdown",
   "metadata": {},
   "source": [
    "####  Save the resulting object (combined titles and selftexts of the posts, as well as their source) to a CSV-file here:"
   ]
  },
  {
   "cell_type": "code",
   "execution_count": 90,
   "metadata": {},
   "outputs": [],
   "source": [
    "# posts_df.to_csv('../data/combined.csv', index=False)"
   ]
  },
  {
   "cell_type": "markdown",
   "metadata": {},
   "source": [
    "### Note: The bi-grams for the franchise titles should be reduced to a meaningful uni-gram, here.  I use Regex in the replace-method to do this.\n",
    "#### (Using this series of replace-functions preserves all other references to \"Star\"/\"star\" in a way that using \"star\" as a stop-word, does not.  An example would be \"Death Star,\" not being reduced to simply \"Death.\")"
   ]
  },
  {
   "cell_type": "code",
   "execution_count": 8,
   "metadata": {},
   "outputs": [],
   "source": [
    "test_string = 'Wish upon a star.  A star is born.  Star that paper.  Did you see the new StarWars film.  What episode of Star Trek did you watch on TV.  My favorite Star Wars movie is Empire Strikes Back.  How big is the Death Star?  I navigated by starlight.  That is a bright star.  A Vulcan is an advanced race on StarTrek.  That star wars character is scary.  Is starwars a great saga?  My startrek toy is really cool.  That startrek weapon is so futuristic.'"
   ]
  },
  {
   "cell_type": "code",
   "execution_count": 9,
   "metadata": {},
   "outputs": [
    {
     "data": {
      "text/plain": [
       "'Wish upon a star.  A star is born.  Star that paper.  Did you see the new StarWars film.  What episode of Star Trek did you watch on TV.  My favorite Star Wars movie is Empire Strikes Back.  How big is the Death Star?  I navigated by starlight.  That is a bright star.  A Vulcan is an advanced race on StarTrek.  That star wars character is scary.  Is starwars a great saga?  My startrek toy is really cool.  That startrek weapon is so futuristic.'"
      ]
     },
     "execution_count": 9,
     "metadata": {},
     "output_type": "execute_result"
    }
   ],
   "source": [
    "test_string                         # This is the string used to test the Regex used."
   ]
  },
  {
   "cell_type": "code",
   "execution_count": 34,
   "metadata": {},
   "outputs": [],
   "source": [
    "posts_df['title'] = posts_df['title'].str.replace(r'(S|s)tar\\s?(T|t)rek','Trek')"
   ]
  },
  {
   "cell_type": "code",
   "execution_count": 35,
   "metadata": {},
   "outputs": [],
   "source": [
    "posts_df['title'] = posts_df['title'].str.replace(r'(S|s)tar\\s?(W|w)ars','Wars')"
   ]
  },
  {
   "cell_type": "code",
   "execution_count": 36,
   "metadata": {},
   "outputs": [
    {
     "data": {
      "text/plain": [
       "0                                            On opinions.\n",
       "1       Thrawn: Alliances by Timothy Zahn - Discussion...\n",
       "2                                         Wow, okay then.\n",
       "3       Hot Take: R2-D2 is the most consistently best ...\n",
       "4       Anakin vs Obiwan. Was the most anticipated lig...\n",
       "5       Well it wasn’t in Maz Kanata’s basement, but i...\n",
       "6       Something I photoshopped together for fun, fig...\n",
       "7       Finished cardboard Executor class super star d...\n",
       "8       Anyone else love the scenes where Anakin and O...\n",
       "9                                    Samurai Stormtrooper\n",
       "10      what's your favorite thing from disney canon s...\n",
       "11                        My sons Lego Wars collection...\n",
       "12                  Just watched ANH with a Live Concert!\n",
       "13                      Upcoming Comic Book Release Dates\n",
       "14      Wife bought us tickets for the Empire Strikes ...\n",
       "15                     What I want from a Boba Fett movie\n",
       "16                                     A little practice.\n",
       "17      Found this on Instagram, artist unknown. Look ...\n",
       "18      Found this today at OddOtter Brewing in Tacoma WA\n",
       "19                                     Looking for a game\n",
       "20                        Close enough for Imperial work!\n",
       "21      When I was 10 years old, I wrote a letter to G...\n",
       "22                            Judge me by my size do you?\n",
       "23      How did Palpatine force-choke Dooku from half ...\n",
       "24      Why I think The Last Jedi was so divisive and ...\n",
       "25      A New Hope: What were the trench run wingmen s...\n",
       "26        To be honest, I never understood this redesign.\n",
       "27      Throwback to when I met Jeremy Bulloch (Boba F...\n",
       "28      Just watched last Jedi with my dad, again. We ...\n",
       "29                       About to watch esb with concert!\n",
       "                              ...                        \n",
       "1799    With the Picard series news, anyone else feel ...\n",
       "1800    An interesting tidbit that is being overlooked...\n",
       "1801                            Watching 'True Q' again..\n",
       "1802    I got a very interesting new follower on YouTube.\n",
       "1803    I know it most likely won't happen, but I woul...\n",
       "1804    If you had to pick a position on a ship (ex: f...\n",
       "1805    Picard series: is anyone else concerned for th...\n",
       "1806    Theorizing: Picard's new direction in the upco...\n",
       "1807            Who plays Jira Narwani in Trek Discovery?\n",
       "1808    Do you think Picard will have started a family...\n",
       "1809           What would Picard's career be in our time?\n",
       "1810                                Pitch a Picard Series\n",
       "1811    NEW STAR TREK SERIES WITH PATRICK STEWART CONF...\n",
       "1812    Do I need to watch anything else before Discov...\n",
       "1813        I only hope for two things from the new show.\n",
       "1814    In honor of Picard's Return: A \"Tea, Earl Grey...\n",
       "1815            What’s the attraction of geriatric crews?\n",
       "1816    Glenn Hetrick confirms new look for Klingons i...\n",
       "1817                          How do you pronounce Uhura?\n",
       "1818    I just realized if disco runs concurrent with ...\n",
       "1819                      Is there a Trek TNG galaxy map?\n",
       "1820    New Picard series - he should be President of ...\n",
       "1821        First Contact and Insurrection: some thoughts\n",
       "1822                Picard’s new mission ideas! # * of *+\n",
       "1823    Blu-ray/DVD of Discovery S1 will have over 2 h...\n",
       "1824    Kate Mulgrew panel at the 2018 Trek Convention...\n",
       "1825                      Brilliant Idea for Trek: Picard\n",
       "1826                                The Trek Family Photo\n",
       "1827              My inner thoughts when I heard the news\n",
       "1828    When Patrick Stewart thought he was done with ...\n",
       "Name: title, Length: 1829, dtype: object"
      ]
     },
     "execution_count": 36,
     "metadata": {},
     "output_type": "execute_result"
    }
   ],
   "source": [
    "posts_df['title']"
   ]
  },
  {
   "cell_type": "markdown",
   "metadata": {},
   "source": [
    "#### The combined titles and selftexts of the posts without reference to the \"Star\" or \"star\" in the franchise bi-grams, as well as their source are saved here in a separate CSV-file named \"combined_no_star.CSV.\":"
   ]
  },
  {
   "cell_type": "code",
   "execution_count": 174,
   "metadata": {},
   "outputs": [],
   "source": [
    "posts_df.to_csv('../data/combined_no_star.csv', index=False)"
   ]
  },
  {
   "cell_type": "markdown",
   "metadata": {},
   "source": [
    "### Retrieve the fresh posts collected on Sep-06 and perform the same replacements.  This way the modeling will provide consistent results for direct comparison."
   ]
  },
  {
   "cell_type": "code",
   "execution_count": 43,
   "metadata": {},
   "outputs": [],
   "source": [
    "new_test_sw = pd.read_csv('../data/new_sw_0906.csv')\n",
    "new_test_st = pd.read_csv('../data/new_st_0906.csv')"
   ]
  },
  {
   "cell_type": "code",
   "execution_count": 44,
   "metadata": {},
   "outputs": [
    {
     "data": {
      "text/html": [
       "<div>\n",
       "<style scoped>\n",
       "    .dataframe tbody tr th:only-of-type {\n",
       "        vertical-align: middle;\n",
       "    }\n",
       "\n",
       "    .dataframe tbody tr th {\n",
       "        vertical-align: top;\n",
       "    }\n",
       "\n",
       "    .dataframe thead th {\n",
       "        text-align: right;\n",
       "    }\n",
       "</style>\n",
       "<table border=\"1\" class=\"dataframe\">\n",
       "  <thead>\n",
       "    <tr style=\"text-align: right;\">\n",
       "      <th></th>\n",
       "      <th>test_titles</th>\n",
       "      <th>target</th>\n",
       "    </tr>\n",
       "  </thead>\n",
       "  <tbody>\n",
       "    <tr>\n",
       "      <th>0</th>\n",
       "      <td>I drew darth vader!and i need opinions.</td>\n",
       "      <td>0</td>\n",
       "    </tr>\n",
       "    <tr>\n",
       "      <th>1</th>\n",
       "      <td>Should TIE/D automated starfighters become can...</td>\n",
       "      <td>0</td>\n",
       "    </tr>\n",
       "    <tr>\n",
       "      <th>2</th>\n",
       "      <td>Fulfill your destiny</td>\n",
       "      <td>0</td>\n",
       "    </tr>\n",
       "    <tr>\n",
       "      <th>3</th>\n",
       "      <td>Sweet cufflinks I found at Fan Expo</td>\n",
       "      <td>0</td>\n",
       "    </tr>\n",
       "    <tr>\n",
       "      <th>4</th>\n",
       "      <td>🤦🏼‍♂️</td>\n",
       "      <td>0</td>\n",
       "    </tr>\n",
       "  </tbody>\n",
       "</table>\n",
       "</div>"
      ],
      "text/plain": [
       "                                         test_titles  target\n",
       "0            I drew darth vader!and i need opinions.       0\n",
       "1  Should TIE/D automated starfighters become can...       0\n",
       "2                               Fulfill your destiny       0\n",
       "3                Sweet cufflinks I found at Fan Expo       0\n",
       "4                                              🤦🏼‍♂️       0"
      ]
     },
     "execution_count": 44,
     "metadata": {},
     "output_type": "execute_result"
    }
   ],
   "source": [
    "new_test_sw.head()                                  # Note that just the titles were saved during the later collection."
   ]
  },
  {
   "cell_type": "code",
   "execution_count": 45,
   "metadata": {},
   "outputs": [
    {
     "name": "stdout",
     "output_type": "stream",
     "text": [
      "The number of fresh unique Star-Wars posts set aside for testing is  289 .\n",
      "The number of fresh unique Star-Trek posts set aside for testing is  152 .\n"
     ]
    }
   ],
   "source": [
    "print('The number of fresh unique Star-Wars posts set aside for testing is ',len(new_test_sw), '.')\n",
    "print('The number of fresh unique Star-Trek posts set aside for testing is ',len(new_test_st), '.')"
   ]
  },
  {
   "cell_type": "markdown",
   "metadata": {},
   "source": [
    "#### Concatenate the fresher sets of posts together for a total of 441 posts that can be used for testing.  For some reason the 'r/StarWars' source was more active than the 'r/startrek' subreddit.  As a result, about 65% of the 441 posts were from Star-Wars fans and become the majority class."
   ]
  },
  {
   "cell_type": "code",
   "execution_count": 46,
   "metadata": {},
   "outputs": [],
   "source": [
    "new_test_df = pd.concat([new_test_sw,new_test_st], axis=0, ignore_index=True)"
   ]
  },
  {
   "cell_type": "code",
   "execution_count": 47,
   "metadata": {},
   "outputs": [],
   "source": [
    "new_test_df['test_titles'] = new_test_df['test_titles'].replace(r'(S|s)tar\\s?(T|t)rek','Trek')"
   ]
  },
  {
   "cell_type": "code",
   "execution_count": null,
   "metadata": {},
   "outputs": [],
   "source": [
    "new_test_df['test_titles'] = new_test_df['test_titles'].replace(r'(S|s)tar\\s?(W|w)ars','Wars')"
   ]
  },
  {
   "cell_type": "markdown",
   "metadata": {},
   "source": [
    "### The same removal of the strings \"Star\" and \"star\" from bi-gram references to the franchise title was performed with the modified posts saved to a separate-CSV file named \"combined_new_test_no_star.CSV.\""
   ]
  },
  {
   "cell_type": "code",
   "execution_count": 21,
   "metadata": {},
   "outputs": [],
   "source": [
    "new_test_df.to_csv('../data/combined_new_test_no_star.csv', index=False)"
   ]
  },
  {
   "cell_type": "markdown",
   "metadata": {},
   "source": [
    "## Continue to Notebook-3, for the modeling steps. > > > > > > >"
   ]
  },
  {
   "cell_type": "markdown",
   "metadata": {},
   "source": [
    "### The next notebook fits five separate classification models to our data, including logistic-regression, multinomial Naive-Bayes, k-Nearest Neighbors, Random-forests (ensemble method) and Support-vector machines models.  I feed a TF-IDF-vextorized dataset into each model and search for the best hyperparameters to use in the modeling.  The accuracy scores and the degree of overfitting is compared before narrowing the list to the two best models for more detailed evaluation."
   ]
  }
 ],
 "metadata": {
  "kernelspec": {
   "display_name": "Python 3",
   "language": "python",
   "name": "python3"
  },
  "language_info": {
   "codemirror_mode": {
    "name": "ipython",
    "version": 3
   },
   "file_extension": ".py",
   "mimetype": "text/x-python",
   "name": "python",
   "nbconvert_exporter": "python",
   "pygments_lexer": "ipython3",
   "version": "3.6.5"
  }
 },
 "nbformat": 4,
 "nbformat_minor": 2
}
