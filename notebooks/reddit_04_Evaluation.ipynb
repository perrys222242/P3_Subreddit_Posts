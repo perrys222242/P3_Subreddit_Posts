{
 "cells": [
  {
   "cell_type": "markdown",
   "metadata": {},
   "source": [
    "# Predict the Epic Sci-Fi Universe\n",
    "# Notebook-4 (Model Evaluation)\n",
    "### Perry Shyr"
   ]
  },
  {
   "cell_type": "markdown",
   "metadata": {},
   "source": [
    "### This notebook covers the two best models found in the previous notebook.  I use confusion matrices and run new unseen data through my models to generate direct comparisons.  I also look at the misclassified posts from the new test data to glean differences between the logistic regression and random-forests models. "
   ]
  },
  {
   "cell_type": "markdown",
   "metadata": {},
   "source": [
    "## Load libraries"
   ]
  },
  {
   "cell_type": "code",
   "execution_count": 163,
   "metadata": {},
   "outputs": [],
   "source": [
    "import numpy as np\n",
    "import pandas as pd\n",
    "import pickle\n",
    "import matplotlib.pyplot as plt\n",
    "import seaborn as sns\n",
    "\n",
    "from sklearn.model_selection import train_test_split, cross_val_score\n",
    "from sklearn.feature_extraction.text import TfidfVectorizer\n",
    "from sklearn.linear_model import LogisticRegression\n",
    "from sklearn.ensemble import RandomForestClassifier\n",
    "\n",
    "from sklearn.metrics import confusion_matrix\n",
    "from sklearn.metrics import recall_score, make_scorer, f1_score, precision_score\n",
    "from sklearn.metrics import classification_report, roc_curve\n",
    "\n",
    "np.random.seed(42)\n",
    "\n",
    "%matplotlib inline"
   ]
  },
  {
   "cell_type": "markdown",
   "metadata": {},
   "source": [
    "## Load data\n",
    "\n",
    "#### Let's take a closer look at two of the models fitted in Notebook-3, namely the Logistic-regression and Random-forests models.  We have 'new data' collected a few days after the data used to train/test our models.  Both datasets need to be imported to perform our evaluations and new testing."
   ]
  },
  {
   "cell_type": "code",
   "execution_count": 164,
   "metadata": {},
   "outputs": [],
   "source": [
    "data        = pd.read_csv('../data/combined_no_star.csv')           #  Original dataset from both subreddits\n",
    "new_test_df = pd.read_csv('../data/combined_new_test_no_star.csv')  #  New posts collected from both subreddits"
   ]
  },
  {
   "cell_type": "markdown",
   "metadata": {},
   "source": [
    "#### Let's check that we are looking at the desired datasets."
   ]
  },
  {
   "cell_type": "code",
   "execution_count": 165,
   "metadata": {},
   "outputs": [
    {
     "name": "stdout",
     "output_type": "stream",
     "text": [
      "(1829, 3)\n",
      "968 posts are from the Star-Trek subreddit.\n"
     ]
    },
    {
     "data": {
      "text/html": [
       "<div>\n",
       "<style scoped>\n",
       "    .dataframe tbody tr th:only-of-type {\n",
       "        vertical-align: middle;\n",
       "    }\n",
       "\n",
       "    .dataframe tbody tr th {\n",
       "        vertical-align: top;\n",
       "    }\n",
       "\n",
       "    .dataframe thead th {\n",
       "        text-align: right;\n",
       "    }\n",
       "</style>\n",
       "<table border=\"1\" class=\"dataframe\">\n",
       "  <thead>\n",
       "    <tr style=\"text-align: right;\">\n",
       "      <th></th>\n",
       "      <th>text</th>\n",
       "      <th>title</th>\n",
       "      <th>is_trek</th>\n",
       "    </tr>\n",
       "  </thead>\n",
       "  <tbody>\n",
       "    <tr>\n",
       "      <th>1824</th>\n",
       "      <td>NaN</td>\n",
       "      <td>Kate Mulgrew panel at the 2018 Trek Convention...</td>\n",
       "      <td>1</td>\n",
       "    </tr>\n",
       "    <tr>\n",
       "      <th>1825</th>\n",
       "      <td>How about show that the reason he never marrie...</td>\n",
       "      <td>Brilliant Idea for Trek: Picard</td>\n",
       "      <td>1</td>\n",
       "    </tr>\n",
       "    <tr>\n",
       "      <th>1826</th>\n",
       "      <td>NaN</td>\n",
       "      <td>The Trek Family Photo</td>\n",
       "      <td>1</td>\n",
       "    </tr>\n",
       "    <tr>\n",
       "      <th>1827</th>\n",
       "      <td>NaN</td>\n",
       "      <td>My inner thoughts when I heard the news</td>\n",
       "      <td>1</td>\n",
       "    </tr>\n",
       "    <tr>\n",
       "      <th>1828</th>\n",
       "      <td>http://i.imgur.com/Pf3HWEp.gifv\\n\\n/r/startrek...</td>\n",
       "      <td>When Patrick Stewart thought he was done with ...</td>\n",
       "      <td>1</td>\n",
       "    </tr>\n",
       "  </tbody>\n",
       "</table>\n",
       "</div>"
      ],
      "text/plain": [
       "                                                   text  \\\n",
       "1824                                                NaN   \n",
       "1825  How about show that the reason he never marrie...   \n",
       "1826                                                NaN   \n",
       "1827                                                NaN   \n",
       "1828  http://i.imgur.com/Pf3HWEp.gifv\\n\\n/r/startrek...   \n",
       "\n",
       "                                                  title  is_trek  \n",
       "1824  Kate Mulgrew panel at the 2018 Trek Convention...        1  \n",
       "1825                    Brilliant Idea for Trek: Picard        1  \n",
       "1826                              The Trek Family Photo        1  \n",
       "1827            My inner thoughts when I heard the news        1  \n",
       "1828  When Patrick Stewart thought he was done with ...        1  "
      ]
     },
     "execution_count": 165,
     "metadata": {},
     "output_type": "execute_result"
    }
   ],
   "source": [
    "print(data.shape)\n",
    "print(data['is_trek'].sum(), 'posts are from the Star-Trek subreddit.')\n",
    "data.tail()"
   ]
  },
  {
   "cell_type": "code",
   "execution_count": 166,
   "metadata": {},
   "outputs": [
    {
     "name": "stdout",
     "output_type": "stream",
     "text": [
      "(441, 2)\n",
      "152 posts are from the Star-Trek subreddit.\n"
     ]
    },
    {
     "data": {
      "text/html": [
       "<div>\n",
       "<style scoped>\n",
       "    .dataframe tbody tr th:only-of-type {\n",
       "        vertical-align: middle;\n",
       "    }\n",
       "\n",
       "    .dataframe tbody tr th {\n",
       "        vertical-align: top;\n",
       "    }\n",
       "\n",
       "    .dataframe thead th {\n",
       "        text-align: right;\n",
       "    }\n",
       "</style>\n",
       "<table border=\"1\" class=\"dataframe\">\n",
       "  <thead>\n",
       "    <tr style=\"text-align: right;\">\n",
       "      <th></th>\n",
       "      <th>test_titles</th>\n",
       "      <th>target</th>\n",
       "    </tr>\n",
       "  </thead>\n",
       "  <tbody>\n",
       "    <tr>\n",
       "      <th>436</th>\n",
       "      <td>\"Trek V: The Final Frontier\" (1989): God only ...</td>\n",
       "      <td>1</td>\n",
       "    </tr>\n",
       "    <tr>\n",
       "      <th>437</th>\n",
       "      <td>Random DS9 questions</td>\n",
       "      <td>1</td>\n",
       "    </tr>\n",
       "    <tr>\n",
       "      <th>438</th>\n",
       "      <td>[video] \"Matters of internal security. The age...</td>\n",
       "      <td>1</td>\n",
       "    </tr>\n",
       "    <tr>\n",
       "      <th>439</th>\n",
       "      <td>Starting TOS for the very first time</td>\n",
       "      <td>1</td>\n",
       "    </tr>\n",
       "    <tr>\n",
       "      <th>440</th>\n",
       "      <td>Jammer:Pondering Patrick Stewart’s return to t...</td>\n",
       "      <td>1</td>\n",
       "    </tr>\n",
       "  </tbody>\n",
       "</table>\n",
       "</div>"
      ],
      "text/plain": [
       "                                           test_titles  target\n",
       "436  \"Trek V: The Final Frontier\" (1989): God only ...       1\n",
       "437                               Random DS9 questions       1\n",
       "438  [video] \"Matters of internal security. The age...       1\n",
       "439               Starting TOS for the very first time       1\n",
       "440  Jammer:Pondering Patrick Stewart’s return to t...       1"
      ]
     },
     "execution_count": 166,
     "metadata": {},
     "output_type": "execute_result"
    }
   ],
   "source": [
    "print(new_test_df.shape)\n",
    "print(new_test_df['target'].sum(), 'posts are from the Star-Trek subreddit.')\n",
    "new_test_df.tail()"
   ]
  },
  {
   "cell_type": "markdown",
   "metadata": {},
   "source": [
    "## Load sparse-matrices and models:\n",
    "\n",
    "#### After loading the data, we can retrieve the models saved for the two models (Logistic-regression and Random-forests) as well as the model inputs from vectorizer and splits.  These model and inputs retain the hyperparameter settings used previously."
   ]
  },
  {
   "cell_type": "code",
   "execution_count": 167,
   "metadata": {},
   "outputs": [],
   "source": [
    "with open('../pickles/tfidf.pkl', 'rb') as f:                 #  Vectorized data.\n",
    "    tfidf = pickle.load(f)"
   ]
  },
  {
   "cell_type": "code",
   "execution_count": 168,
   "metadata": {},
   "outputs": [],
   "source": [
    "with open('../pickles/p3_xtrain_transform.pkl', 'rb') as f:   #  Training-split data in sparse matrix.\n",
    "    X_train_transform = pickle.load(f)"
   ]
  },
  {
   "cell_type": "code",
   "execution_count": 169,
   "metadata": {},
   "outputs": [],
   "source": [
    "with open('../pickles/p3_xtest_transform.pkl', 'rb') as f:    #  Test-split data in sparse matrix.\n",
    "    X_test_transform = pickle.load(f)"
   ]
  },
  {
   "cell_type": "code",
   "execution_count": 170,
   "metadata": {},
   "outputs": [],
   "source": [
    "with open('../pickles/p3_log_reg_MinDF2.pkl', 'rb') as f:     #  Logistic-regression model.     \n",
    "    model_logreg = pickle.load(f)"
   ]
  },
  {
   "cell_type": "code",
   "execution_count": 171,
   "metadata": {},
   "outputs": [],
   "source": [
    "with open('../pickles/p3_randomforests.pkl', 'rb') as f:      #  Random-forests model.\n",
    "    model_rf = pickle.load(f)"
   ]
  },
  {
   "cell_type": "markdown",
   "metadata": {},
   "source": [
    "### We split the data to give us the remaining model inputs."
   ]
  },
  {
   "cell_type": "code",
   "execution_count": 172,
   "metadata": {},
   "outputs": [],
   "source": [
    "X=data['title']\n",
    "y=data['is_trek']"
   ]
  },
  {
   "cell_type": "code",
   "execution_count": 173,
   "metadata": {},
   "outputs": [],
   "source": [
    "X_train, X_test, y_train, y_test = train_test_split(X,\n",
    "                                                    y, \n",
    "                                                    random_state = 42)"
   ]
  },
  {
   "cell_type": "markdown",
   "metadata": {},
   "source": [
    "## Evaluation\n",
    "\n",
    "#### We can use metrics based on the confusion matrices for each model, including the calculation of accuracy/misclassification.  From this we can generate plots that convey how our model are performing for comparison purposes."
   ]
  },
  {
   "cell_type": "markdown",
   "metadata": {},
   "source": [
    "### First, for the Logistic-regression model...\n",
    "#### We break out the True-Positives ('tn'), False-Negatives ('fn'), False-Positives ('fp') and True-negatives ('tn') to derive the metrics that we can display."
   ]
  },
  {
   "cell_type": "code",
   "execution_count": 200,
   "metadata": {},
   "outputs": [],
   "source": [
    "predictions_logreg = model_logreg.predict(X_test_transform)"
   ]
  },
  {
   "cell_type": "code",
   "execution_count": 201,
   "metadata": {},
   "outputs": [
    {
     "name": "stdout",
     "output_type": "stream",
     "text": [
      "244 of the 458 test samples are from the Star-Trek subreddit.\n"
     ]
    }
   ],
   "source": [
    "tn, fp, fn, tp = confusion_matrix(y_test, predictions_logreg).ravel()\n",
    "print(y_test.sum(), 'of the', len(y_test), 'test samples are from the Star-Trek subreddit.')"
   ]
  },
  {
   "cell_type": "code",
   "execution_count": 202,
   "metadata": {},
   "outputs": [],
   "source": [
    "df_cm1 = pd.DataFrame(confusion_matrix(y_test, predictions_logreg), \n",
    "                      columns=[\"\",\"True Star-Trek\"])"
   ]
  },
  {
   "cell_type": "code",
   "execution_count": 203,
   "metadata": {},
   "outputs": [
    {
     "data": {
      "text/plain": [
       "<matplotlib.axes._subplots.AxesSubplot at 0x1a23505e10>"
      ]
     },
     "execution_count": 203,
     "metadata": {},
     "output_type": "execute_result"
    },
    {
     "data": {
      "image/png": "[encoded data removed]",
      "text/plain": [
       "<Figure size 216x216 with 1 Axes>"
      ]
     },
     "metadata": {},
     "output_type": "display_data"
    }
   ],
   "source": [
    "fig, ax = plt.subplots(figsize=(3,3))\n",
    "title= \"Confusion Matrix - LogReg (Score=.886)\"\n",
    "plt.title(title, fontsize=18)\n",
    "sns.heatmap(df_cm1, \n",
    "            annot=True, \n",
    "            annot_kws={\"size\": 30}, \n",
    "            linewidths=.5, \n",
    "            fmt=\"g\", \n",
    "            cmap=\"YlGnBu\", \n",
    "            cbar=False,\n",
    "            xticklabels=False,\n",
    "            yticklabels=False)"
   ]
  },
  {
   "cell_type": "code",
   "execution_count": 204,
   "metadata": {},
   "outputs": [
    {
     "data": {
      "text/plain": [
       "<matplotlib.legend.Legend at 0x1a235aac88>"
      ]
     },
     "execution_count": 204,
     "metadata": {},
     "output_type": "execute_result"
    },
    {
     "data": {
      "image/png": "[encoded data removed]",
      "text/plain": [
       "<Figure size 432x288 with 1 Axes>"
      ]
     },
     "metadata": {},
     "output_type": "display_data"
    }
   ],
   "source": [
    "N = 2\n",
    "pred_right = (tn, tp)\n",
    "pred_wrong = (fp, fn)\n",
    "ind = np.arange(N)    \n",
    "width = 0.35       \n",
    "\n",
    "p1 = plt.bar(ind, pred_right, width)\n",
    "p2 = plt.bar(ind, pred_wrong, width, color='c',\n",
    "             bottom=pred_right)\n",
    "\n",
    "plt.title('Log-Reg Classification Test-counts')\n",
    "plt.xticks(ind, ('Star Wars', 'Star Trek'))\n",
    "plt.yticks(np.arange(0, 250, 40))\n",
    "plt.legend((p2[0], p1[0]), ('Predicted-incorrect', 'Predicted-correct'))"
   ]
  },
  {
   "cell_type": "markdown",
   "metadata": {},
   "source": [
    "#### From the plot above we can see that the logistic-regression model does a good job of predicting the source of the subreddit-posts.  This model does a better of classifying the Star-Wars post-titles."
   ]
  },
  {
   "cell_type": "markdown",
   "metadata": {},
   "source": [
    "### Next, for the Random-forests model ...\n",
    "#### We find comparable metrics."
   ]
  },
  {
   "cell_type": "code",
   "execution_count": 205,
   "metadata": {},
   "outputs": [],
   "source": [
    "predictions_rf = model_rf.predict(X_test_transform)"
   ]
  },
  {
   "cell_type": "code",
   "execution_count": 206,
   "metadata": {},
   "outputs": [],
   "source": [
    "tn, fp, fn, tp = confusion_matrix(y_test, predictions_rf).ravel()"
   ]
  },
  {
   "cell_type": "code",
   "execution_count": 207,
   "metadata": {},
   "outputs": [],
   "source": [
    "df_cm2 = pd.DataFrame(confusion_matrix(y_test, predictions_rf), columns=[\"\",\"True Star-Trek\"])"
   ]
  },
  {
   "cell_type": "code",
   "execution_count": 208,
   "metadata": {},
   "outputs": [
    {
     "data": {
      "text/plain": [
       "<matplotlib.axes._subplots.AxesSubplot at 0x1a24120908>"
      ]
     },
     "execution_count": 208,
     "metadata": {},
     "output_type": "execute_result"
    },
    {
     "data": {
      "image/png": "[encoded data removed]",
      "text/plain": [
       "<Figure size 216x216 with 1 Axes>"
      ]
     },
     "metadata": {},
     "output_type": "display_data"
    }
   ],
   "source": [
    "fig, ax = plt.subplots(figsize=(3,3))\n",
    "title= \"Confusion Matrix - RanFor (Score=.832)\"\n",
    "plt.title(title, fontsize=18)\n",
    "sns.heatmap(df_cm2, \n",
    "            annot=True, \n",
    "            annot_kws={\"size\": 30}, \n",
    "            linewidths=.5, \n",
    "            fmt=\"g\", \n",
    "            cmap=\"BuGn\", \n",
    "            cbar=False,\n",
    "            xticklabels=False,\n",
    "            yticklabels=False)"
   ]
  },
  {
   "cell_type": "code",
   "execution_count": 209,
   "metadata": {},
   "outputs": [
    {
     "data": {
      "text/plain": [
       "<matplotlib.legend.Legend at 0x1a2804b9e8>"
      ]
     },
     "execution_count": 209,
     "metadata": {},
     "output_type": "execute_result"
    },
    {
     "data": {
      "image/png": "[encoded data removed]",
      "text/plain": [
       "<Figure size 432x288 with 1 Axes>"
      ]
     },
     "metadata": {},
     "output_type": "display_data"
    }
   ],
   "source": [
    "N = 2\n",
    "pred_right = (tn, tp)\n",
    "pred_wrong = (fp, fn)\n",
    "ind = np.arange(N)    # the x locations for the groups\n",
    "width = 0.35       # the width of the bars: can also be len(x) sequence\n",
    "\n",
    "p1 = plt.bar(ind, pred_right, width, color='g')\n",
    "p2 = plt.bar(ind, pred_wrong, width, color='y',\n",
    "             bottom=pred_right)\n",
    "\n",
    "plt.title('Random-forests Classification Test-counts')\n",
    "plt.xticks(ind, ('Star Wars', 'Star Trek'))\n",
    "plt.yticks(np.arange(0, 250, 40))\n",
    "plt.legend((p2[0], p1[0]), ('Predicted-incorrect', 'Predicted-correct'))"
   ]
  },
  {
   "cell_type": "markdown",
   "metadata": {},
   "source": [
    "#### At a glance, we can see that the Random-forests classifier is more accurate for Star-Trek post-titles than the Logistic-regression model, but much less accurate for Star-Wars post-titles compared to the first model.  We might explore the feature importances for each of these models for a possible explanation."
   ]
  },
  {
   "cell_type": "markdown",
   "metadata": {},
   "source": [
    "## Features importances:\n",
    "#### These importances suggest how the respective models account for certain word-features."
   ]
  },
  {
   "cell_type": "markdown",
   "metadata": {},
   "source": [
    "### For the Logistic-regression model ...\n",
    "#### We look at the natural-log exponent 'loadings' and see a clear separation between the strongest features for each class.  That is, the model appears to recognize the absences of words in the positive class as predictive. "
   ]
  },
  {
   "cell_type": "code",
   "execution_count": 210,
   "metadata": {},
   "outputs": [
    {
     "data": {
      "text/html": [
       "<div>\n",
       "<style scoped>\n",
       "    .dataframe tbody tr th:only-of-type {\n",
       "        vertical-align: middle;\n",
       "    }\n",
       "\n",
       "    .dataframe tbody tr th {\n",
       "        vertical-align: top;\n",
       "    }\n",
       "\n",
       "    .dataframe thead th {\n",
       "        text-align: right;\n",
       "    }\n",
       "</style>\n",
       "<table border=\"1\" class=\"dataframe\">\n",
       "  <thead>\n",
       "    <tr style=\"text-align: right;\">\n",
       "      <th></th>\n",
       "      <th>is_trek_loading</th>\n",
       "    </tr>\n",
       "  </thead>\n",
       "  <tbody>\n",
       "    <tr>\n",
       "      <th>trek</th>\n",
       "      <td>6.108114</td>\n",
       "    </tr>\n",
       "    <tr>\n",
       "      <th>picard</th>\n",
       "      <td>3.271791</td>\n",
       "    </tr>\n",
       "    <tr>\n",
       "      <th>tng</th>\n",
       "      <td>2.953499</td>\n",
       "    </tr>\n",
       "    <tr>\n",
       "      <th>discovery</th>\n",
       "      <td>2.691126</td>\n",
       "    </tr>\n",
       "    <tr>\n",
       "      <th>ds9</th>\n",
       "      <td>2.342044</td>\n",
       "    </tr>\n",
       "  </tbody>\n",
       "</table>\n",
       "</div>"
      ],
      "text/plain": [
       "           is_trek_loading\n",
       "trek              6.108114\n",
       "picard            3.271791\n",
       "tng               2.953499\n",
       "discovery         2.691126\n",
       "ds9               2.342044"
      ]
     },
     "execution_count": 210,
     "metadata": {},
     "output_type": "execute_result"
    }
   ],
   "source": [
    "df_loadings = pd.DataFrame(model_logreg.coef_, columns=tfidf.get_feature_names(), index=['is_trek_loading']).T\n",
    "feat_st = df_loadings.sort_values('is_trek_loading',ascending=False).head()\n",
    "feat_st"
   ]
  },
  {
   "cell_type": "code",
   "execution_count": 211,
   "metadata": {},
   "outputs": [
    {
     "data": {
      "text/html": [
       "<div>\n",
       "<style scoped>\n",
       "    .dataframe tbody tr th:only-of-type {\n",
       "        vertical-align: middle;\n",
       "    }\n",
       "\n",
       "    .dataframe tbody tr th {\n",
       "        vertical-align: top;\n",
       "    }\n",
       "\n",
       "    .dataframe thead th {\n",
       "        text-align: right;\n",
       "    }\n",
       "</style>\n",
       "<table border=\"1\" class=\"dataframe\">\n",
       "  <thead>\n",
       "    <tr style=\"text-align: right;\">\n",
       "      <th></th>\n",
       "      <th>is_trek_loading</th>\n",
       "    </tr>\n",
       "  </thead>\n",
       "  <tbody>\n",
       "    <tr>\n",
       "      <th>vader</th>\n",
       "      <td>-1.418155</td>\n",
       "    </tr>\n",
       "    <tr>\n",
       "      <th>luke</th>\n",
       "      <td>-1.465894</td>\n",
       "    </tr>\n",
       "    <tr>\n",
       "      <th>force</th>\n",
       "      <td>-1.504496</td>\n",
       "    </tr>\n",
       "    <tr>\n",
       "      <th>jedi</th>\n",
       "      <td>-2.402390</td>\n",
       "    </tr>\n",
       "    <tr>\n",
       "      <th>wars</th>\n",
       "      <td>-4.349937</td>\n",
       "    </tr>\n",
       "  </tbody>\n",
       "</table>\n",
       "</div>"
      ],
      "text/plain": [
       "       is_trek_loading\n",
       "vader        -1.418155\n",
       "luke         -1.465894\n",
       "force        -1.504496\n",
       "jedi         -2.402390\n",
       "wars         -4.349937"
      ]
     },
     "execution_count": 211,
     "metadata": {},
     "output_type": "execute_result"
    }
   ],
   "source": [
    "feat_sw = df_loadings.sort_values('is_trek_loading',ascending=False).tail()\n",
    "feat_sw"
   ]
  },
  {
   "cell_type": "code",
   "execution_count": 212,
   "metadata": {},
   "outputs": [
    {
     "data": {
      "image/png": "[encoded data removed]",
      "text/plain": [
       "<Figure size 720x432 with 1 Axes>"
      ]
     },
     "metadata": {},
     "output_type": "display_data"
    }
   ],
   "source": [
    "plt.figure(figsize=(10,6))\n",
    "locs, labels = plt.xticks(fontsize=15)\n",
    "plt.setp(labels, rotation=0)\n",
    "plt.title('End-member LogReg-Model Features')\n",
    "plt.bar(feat_st.index, \n",
    "        feat_st[['is_trek_loading']].T.values[0], \n",
    "        alpha=1, align='center', width=-.6, ec='k', color='olive')\n",
    "plt.bar(feat_sw.index, \n",
    "        feat_sw[['is_trek_loading']].T.values[0], \n",
    "        alpha=1, align='center', width=.6, ec='k', color='pink')\n",
    "plt.legend(['Natural-Log(Star Trek)','Natural-Log(Star Wars)'])\n",
    "plt.tight_layout();"
   ]
  },
  {
   "cell_type": "markdown",
   "metadata": {},
   "source": [
    "### For the Random-forests model ...\n",
    "#### There is a relatively stronger 'signal' from the positive class (r/startrek post-titles), which happens to also be the majority class.  On the absolute scale of Random-forests importances, only two of the top-10 word-features (\"wars\" and \"jedi\") ranked by loadings, comes from the negative/minority class.  This might be the trade-off for a classifier that is not overfit (has low-variance), but more bias."
   ]
  },
  {
   "cell_type": "code",
   "execution_count": 213,
   "metadata": {},
   "outputs": [
    {
     "data": {
      "text/html": [
       "<div>\n",
       "<style scoped>\n",
       "    .dataframe tbody tr th:only-of-type {\n",
       "        vertical-align: middle;\n",
       "    }\n",
       "\n",
       "    .dataframe tbody tr th {\n",
       "        vertical-align: top;\n",
       "    }\n",
       "\n",
       "    .dataframe thead th {\n",
       "        text-align: right;\n",
       "    }\n",
       "</style>\n",
       "<table border=\"1\" class=\"dataframe\">\n",
       "  <thead>\n",
       "    <tr style=\"text-align: right;\">\n",
       "      <th></th>\n",
       "      <th>is_trek_loading</th>\n",
       "    </tr>\n",
       "  </thead>\n",
       "  <tbody>\n",
       "    <tr>\n",
       "      <th>trek</th>\n",
       "      <td>0.103428</td>\n",
       "    </tr>\n",
       "    <tr>\n",
       "      <th>wars</th>\n",
       "      <td>0.052620</td>\n",
       "    </tr>\n",
       "    <tr>\n",
       "      <th>picard</th>\n",
       "      <td>0.031138</td>\n",
       "    </tr>\n",
       "    <tr>\n",
       "      <th>tng</th>\n",
       "      <td>0.026870</td>\n",
       "    </tr>\n",
       "    <tr>\n",
       "      <th>discovery</th>\n",
       "      <td>0.023037</td>\n",
       "    </tr>\n",
       "    <tr>\n",
       "      <th>jedi</th>\n",
       "      <td>0.019217</td>\n",
       "    </tr>\n",
       "    <tr>\n",
       "      <th>ds9</th>\n",
       "      <td>0.016794</td>\n",
       "    </tr>\n",
       "    <tr>\n",
       "      <th>enterprise</th>\n",
       "      <td>0.015647</td>\n",
       "    </tr>\n",
       "    <tr>\n",
       "      <th>series</th>\n",
       "      <td>0.014122</td>\n",
       "    </tr>\n",
       "    <tr>\n",
       "      <th>voyager</th>\n",
       "      <td>0.012567</td>\n",
       "    </tr>\n",
       "  </tbody>\n",
       "</table>\n",
       "</div>"
      ],
      "text/plain": [
       "            is_trek_loading\n",
       "trek               0.103428\n",
       "wars               0.052620\n",
       "picard             0.031138\n",
       "tng                0.026870\n",
       "discovery          0.023037\n",
       "jedi               0.019217\n",
       "ds9                0.016794\n",
       "enterprise         0.015647\n",
       "series             0.014122\n",
       "voyager            0.012567"
      ]
     },
     "execution_count": 213,
     "metadata": {},
     "output_type": "execute_result"
    }
   ],
   "source": [
    "df_loads = pd.DataFrame(model_rf.feature_importances_.reshape(model_rf.feature_importances_.shape[0],-1).T, \n",
    "                           columns=tfidf.get_feature_names(), index=['is_trek_loading']).T\n",
    "df_loads = df_loads.sort_values('is_trek_loading',ascending=False).head(10)\n",
    "df_loads"
   ]
  },
  {
   "cell_type": "code",
   "execution_count": 214,
   "metadata": {},
   "outputs": [
    {
     "data": {
      "image/png": "[encoded data removed]",
      "text/plain": [
       "<Figure size 720x432 with 1 Axes>"
      ]
     },
     "metadata": {},
     "output_type": "display_data"
    }
   ],
   "source": [
    "plt.figure(figsize=(10,6))\n",
    "locs, labels = plt.xticks(fontsize=15)\n",
    "plt.setp(labels, rotation=0)\n",
    "plt.title('Top Random-Forests Model Features')\n",
    "plt.bar(df_loads.index, \n",
    "        df_loads[['is_trek_loading']].T.values[0], \n",
    "        alpha=1, align='center', width=.6, ec='k', color='gray')\n",
    "plt.tight_layout();"
   ]
  },
  {
   "cell_type": "markdown",
   "metadata": {},
   "source": [
    "### Now, let's see how the models perform on separate and unique data gathered from a completely different period."
   ]
  },
  {
   "cell_type": "markdown",
   "metadata": {},
   "source": [
    "## Prediction on New Data:\n",
    "\n",
    "### 441 post-titles collected on Sep-06 included 289 Star-wars and 152 Star-Trek unique post-titles, not found in the training data.  This is almost too unbalanced (about 65% to 35%) a dataset to consider testing with, but let's go ahead a evaluate the two models of interest against it."
   ]
  },
  {
   "cell_type": "markdown",
   "metadata": {},
   "source": [
    "### For Logistic regression..."
   ]
  },
  {
   "cell_type": "code",
   "execution_count": 215,
   "metadata": {},
   "outputs": [],
   "source": [
    "X_new = new_test_df['test_titles']\n",
    "y_new=new_test_df['target']"
   ]
  },
  {
   "cell_type": "code",
   "execution_count": 216,
   "metadata": {},
   "outputs": [],
   "source": [
    "X_new_transform = tfidf.transform(X_new)"
   ]
  },
  {
   "cell_type": "code",
   "execution_count": 217,
   "metadata": {},
   "outputs": [
    {
     "data": {
      "text/plain": [
       "0.8934240362811792"
      ]
     },
     "execution_count": 217,
     "metadata": {},
     "output_type": "execute_result"
    }
   ],
   "source": [
    "model_logreg.score(X_new_transform, y_new)"
   ]
  },
  {
   "cell_type": "markdown",
   "metadata": {},
   "source": [
    "#### We see the test score as comparably high, which is an encouraging sign."
   ]
  },
  {
   "cell_type": "code",
   "execution_count": 218,
   "metadata": {},
   "outputs": [],
   "source": [
    "predictions_logreg_new = model_logreg.predict(X_new_transform)"
   ]
  },
  {
   "cell_type": "code",
   "execution_count": 193,
   "metadata": {},
   "outputs": [],
   "source": [
    "probas_logreg_new = model_logreg.predict_proba(X_new_transform)"
   ]
  },
  {
   "cell_type": "markdown",
   "metadata": {},
   "source": [
    "#### Here, we flatten the confusion-matrix and present the precision and recall (sensitivity) metrics.  The average scores as shown on this classification report below, are quite consistent.  We do see lower (0.83 and 0.85) metrics results for the positive/minority class, likely due to the inbalance."
   ]
  },
  {
   "cell_type": "code",
   "execution_count": 219,
   "metadata": {},
   "outputs": [
    {
     "name": "stdout",
     "output_type": "stream",
     "text": [
      "             precision    recall  f1-score   support\n",
      "\n",
      "          0       0.93      0.90      0.92       289\n",
      "          1       0.83      0.88      0.85       152\n",
      "\n",
      "avg / total       0.90      0.89      0.89       441\n",
      "\n"
     ]
    }
   ],
   "source": [
    "tn, fp, fn, tp = confusion_matrix(y_new, predictions_logreg_new).ravel()\n",
    "print(classification_report(y_new, predictions_logreg_new))"
   ]
  },
  {
   "cell_type": "code",
   "execution_count": 220,
   "metadata": {},
   "outputs": [],
   "source": [
    "df_cm3 = pd.DataFrame(confusion_matrix(y_new, predictions_logreg_new), columns=[\"\",\"True Star-Trek\"])"
   ]
  },
  {
   "cell_type": "code",
   "execution_count": 221,
   "metadata": {},
   "outputs": [
    {
     "data": {
      "text/plain": [
       "<matplotlib.axes._subplots.AxesSubplot at 0x1a28372470>"
      ]
     },
     "execution_count": 221,
     "metadata": {},
     "output_type": "execute_result"
    },
    {
     "data": {
      "image/png": "[encoded data removed]",
      "text/plain": [
       "<Figure size 216x216 with 1 Axes>"
      ]
     },
     "metadata": {},
     "output_type": "display_data"
    }
   ],
   "source": [
    "fig, ax = plt.subplots(figsize=(3,3))\n",
    "title= \"Confusion Matrix - LogReg_test (Score=.893)\"\n",
    "plt.title(title, fontsize=18)\n",
    "sns.heatmap(df_cm3, \n",
    "            annot=True, \n",
    "            annot_kws={\"size\": 30}, \n",
    "            linewidths=.5, \n",
    "            fmt=\"g\", \n",
    "            cmap=\"YlGnBu\", \n",
    "            cbar=False,\n",
    "            xticklabels=False,\n",
    "            yticklabels=False)"
   ]
  },
  {
   "cell_type": "code",
   "execution_count": 222,
   "metadata": {},
   "outputs": [
    {
     "data": {
      "text/plain": [
       "<matplotlib.legend.Legend at 0x1a284d2240>"
      ]
     },
     "execution_count": 222,
     "metadata": {},
     "output_type": "execute_result"
    },
    {
     "data": {
      "image/png": "[encoded data removed]",
      "text/plain": [
       "<Figure size 432x288 with 1 Axes>"
      ]
     },
     "metadata": {},
     "output_type": "display_data"
    }
   ],
   "source": [
    "N = 2\n",
    "pred_right = (tn, tp)\n",
    "pred_wrong = (fp, fn)\n",
    "ind = np.arange(N)    \n",
    "width = 0.35       \n",
    "\n",
    "p1 = plt.bar(ind, pred_right, width, color='.3')\n",
    "p2 = plt.bar(ind, pred_wrong, width, color='.6',\n",
    "             bottom=pred_right)\n",
    "\n",
    "plt.title('Log-reg Classification, New-Data Test-counts')\n",
    "plt.xticks(ind, ('Star Wars', 'Star Trek'))\n",
    "plt.yticks(np.arange(0, 300, 40))\n",
    "plt.legend((p2[0], p1[0]), ('Predicted-incorrect', 'Predicted-correct'))"
   ]
  },
  {
   "cell_type": "code",
   "execution_count": 248,
   "metadata": {},
   "outputs": [
    {
     "name": "stdout",
     "output_type": "stream",
     "text": [
      "Logistic-regression Model with New Data:\n",
      "\n",
      "Ct|false-Prediction|   Confidence  | Post-title\n",
      "\n",
      "1 false-Trek [0.48450756 0.51549244] Fulfill your destiny\n",
      "2 false-Trek [0.38189911 0.61810089] Any good books set in the OT without any of the main characters\n",
      "3 false-Trek [0.43215753 0.56784247] Hailfire droid vs AT-AT: Which would win?\n",
      "4 false-Trek [0.23231479 0.76768521] Is there anyone that knows the name of this ship?\n",
      "5 false-Trek [0.31593039 0.68406961] Episodes I-VI Bonus Features\n",
      "6 false-Trek [0.37713163 0.62286837] Was watching Evolution on Amazon when I saw a trivia popup about David Duchovny. Big mistake David.\n",
      "7 false-Trek [0.44935641 0.55064359] Box set for episodes 7-9? (See text) (Movies)\n",
      "8 false-Trek [0.43452567 0.56547433] I was rewatching season 1 of Rebels and a line from Tarken stood out to me\n",
      "9 false-Trek [0.48468879 0.51531121] This label maker knows what it’s doing\n",
      "10 false-Trek [0.39555927 0.60444073] Are there any intelligent aquatic species that can't breathe on land?\n",
      "11 false-Trek [0.35926076 0.64073924] 1000 Storm Troopers vs 2000 Nazi Zombies - Ultimate epic simulator\n",
      "12 false-Trek [0.46825792 0.53174208] What should I read or watch before reading Timothy Zahn Thrawn ?\n",
      "13 false-Trek [0.30471023 0.69528977] Can lightning be summoned in space?\n",
      "14 false-Trek [0.47853553 0.52146447] Just traveling through Dingle, Ireland and found this masterpiece.\n",
      "15 false-Trek [0.49251128 0.50748872] Married my forever nerd last week\n",
      "16 false-Trek [0.44209761 0.55790239] Lightsabers You Can Hug: An Interview with Softsabers Creator Michelle Sharp\n",
      "17 false-Trek [0.46067283 0.53932717] The guy who plays jeremiah in gotham would make a really good young thrawn\n",
      "18 false-Trek [0.42376778 0.57623222] All the hate for BFII aside - I REALLY enjoyed..\n",
      "19 false-Trek [0.47583298 0.52416702] My husband suggested we should remove Admiral Akbar from the toilet seat when we renovated our bathroom. But I’d already designed the entire space taking the good Admiral’s bold black and white silhouette as the main inspiration and focal point.\n",
      "20 false-Trek [0.46984276 0.53015724] Come to the dark side, we have cookies.\n",
      "21 false-Trek [0.47179164 0.52820836] Who would you spend 3 hours with alone in a room?\n",
      "22 false-Trek [0.47235881 0.52764119] Just a small sample of 70’s and 80’s figures I sell\n",
      "23 false-Trek [0.46345028 0.53654972] [ThePruld] Ewok (0:33, make sure you turn the subtitles on!)\n",
      "24 false-Trek [0.42311894 0.57688106] Never too late to learn!\n",
      "25 false-Trek [0.41340253 0.58659747] Let’s talk cross fire. Why isn’t it really an issue in any of the live action or animated series?\n",
      "26 false-Trek [0.47838336 0.52161664] I couldn’t resist...\n",
      "27 false-Trek [0.40241056 0.59758944] Need a pepakura file!\n",
      "28 false-Trek [0.44980705 0.55019295] Just trying to help...\n",
      "29 false-Wars [0.59197174 0.40802826] How a scene in “Bloodlines” should have gone\n",
      "30 false-Wars [0.50692581 0.49307419] I just thought of a great idea (I think so, at least)\n",
      "31 false-Wars [0.72092739 0.27907261] How did you fall in love?\n",
      "32 false-Wars [0.65642395 0.34357605] Is there something that a show or movie did wrong, but you don't think could've ever been done right?\n",
      "33 false-Wars [0.61691536 0.38308464] Shop LLAP is having a Labor Day sale.\n",
      "34 false-Wars [0.59400028 0.40599972] Taking Memory Beta out of context is fun\n",
      "35 false-Wars [0.63806754 0.36193246] Here's a thought: what would they keep in their pockets? (If they had them?)\n",
      "36 false-Wars [0.5574527 0.4425473] I made this dumb little thing a while back. Maybe you guys will like it and get a chuckle.\n",
      "37 false-Wars [0.52886878 0.47113122] Wolf 359\n",
      "38 false-Wars [0.52886878 0.47113122] Trival Pursuit commercial with McCoy\n",
      "39 false-Wars [0.52016725 0.47983275] What would Quark think if he saw The Wolf of Wall Street?\n",
      "40 false-Wars [0.62886917 0.37113083] Anyone for a good old sing-song?\n",
      "41 false-Wars [0.52804944 0.47195056] I am wondering if the \"Short Treks\" are starting this month\n",
      "42 false-Wars [0.54975428 0.45024572] Has there been any word on when the Short Treks show is supposed to premiere?\n",
      "43 false-Wars [0.52886878 0.47113122] Bloopers\n",
      "44 false-Wars [0.68607967 0.31392033] What are your favorite Enterprises?\n",
      "45 false-Wars [0.64624895 0.35375105] Which movie had the best (and worst) music?\n",
      "46 false-Wars [0.59559296 0.40440704] Unsettling/Creepy Episode Reccomendations\n",
      "47 false-Wars [0.64313964 0.35686036] [video] \"Matters of internal security. The age-old cry of the Oppressor\"\n"
     ]
    }
   ],
   "source": [
    "print('Logistic-regression Model with New Data:')\n",
    "print('')\n",
    "print('Ct|false-Prediction|   Confidence  | Post-title')\n",
    "print('')\n",
    "ct_logreg=0\n",
    "for i in range(len(X_new)):\n",
    "    if list(predictions_logreg_new)[i] != y_new[i]:\n",
    "        ct_logreg += 1\n",
    "        if list(predictions_logreg_new)[i] == 0:\n",
    "            print(ct_logreg, 'false-Wars',probas_logreg_new[i],X_new[i])\n",
    "        else:\n",
    "            print(ct_logreg, 'false-Trek',probas_logreg_new[i], X_new[i])"
   ]
  },
  {
   "cell_type": "markdown",
   "metadata": {},
   "source": [
    "### Misclassified posts (about 10.7% on average for logistic-regression):\n",
    "#### Let us look at how confidently this model incorrectly predicted the subreddit source.  The highest confidences (greater than 69% or less than 31%) for wrong predictions are listed below:\n",
    "\n",
    "| Log-Reg False-Predictions | Unseen Post-titles |\n",
    "| --- | --- |\n",
    "| False-StarTrek | Is there anyone that knows the name of this ship? |\n",
    "| False-StarTrek | Can lightning be summoned in space? |\n",
    "| False-StarWars | How did you fall in love? |\n",
    "| False-StarWars | What are your favorite Enterprises? |\n",
    "#### The most confident errors contained \"ship\" and \"love\" features that are understandably ambiguous, but clearly the word \"enterprise\" was not trained well by my model.\n",
    "#### For all the other false-positives/-negatives, the logistic-regression model was not relatively confident in its prediction.  This might be fixed my training on a more extensive set of 2,000 or 3,000 post-titles from each subreddit."
   ]
  },
  {
   "cell_type": "markdown",
   "metadata": {},
   "source": [
    "### Can word frequency in model training explain the false predictions?\n",
    "#### We can use the Count-Vectorized data to help answer this question."
   ]
  },
  {
   "cell_type": "code",
   "execution_count": 224,
   "metadata": {},
   "outputs": [],
   "source": [
    "df_cvec = pd.read_csv('../data/cvec.csv')"
   ]
  },
  {
   "cell_type": "code",
   "execution_count": 225,
   "metadata": {},
   "outputs": [],
   "source": [
    "def get_posts_for_feat(df, word):\n",
    "    count =[df.iloc[:,i].sum() for i in range(len(df.T)) if df.columns[i] == word]\n",
    "    col = [i for i in range(len(df.T)) if df.columns[i] == word]\n",
    "    rows = []\n",
    "    for i in range(len(df)):\n",
    "        if df.iloc[i,col[0]]==1:\n",
    "            rows.append(i) \n",
    "    return count, rows"
   ]
  },
  {
   "cell_type": "code",
   "execution_count": 226,
   "metadata": {},
   "outputs": [
    {
     "name": "stdout",
     "output_type": "stream",
     "text": [
      "The word \" ship \" is found [18] times, on rows [590, 871, 889, 1021, 1064, 1137, 1178, 1380, 1407, 1447, 1482, 1537, 1655, 1685, 1701, 1715, 1741, 1804]\n",
      "\n",
      "The word \" lightning \" is found [1] times, on rows [220]\n",
      "\n",
      "The word \" space \" is found [35] times, on rows [595, 765, 815, 853, 895, 909, 915, 936, 942, 954, 979, 992, 1004, 1013, 1073, 1100, 1146, 1152, 1183, 1192, 1200, 1280, 1305, 1329, 1415, 1423, 1525, 1544, 1578, 1586, 1614, 1727, 1757, 1762, 1800]\n",
      "\n",
      "The word \" fall \" is found [2] times, on rows [1575, 1721]\n",
      "\n",
      "The word \" love \" is found [27] times, on rows [8, 141, 310, 409, 431, 444, 507, 515, 617, 634, 641, 693, 726, 728, 836, 852, 1001, 1194, 1294, 1461, 1486, 1504, 1532, 1705, 1715, 1721, 1803]\n",
      "\n",
      "The word \" favorite \" is found [28] times, on rows [10, 30, 120, 148, 218, 250, 296, 311, 318, 343, 429, 493, 618, 642, 657, 729, 750, 787, 901, 953, 954, 1069, 1125, 1155, 1426, 1483, 1712, 1752]\n"
     ]
    }
   ],
   "source": [
    "my_word = 'ship'\n",
    "print('The word \"', my_word, '\" is found', get_posts_for_feat(df_cvec,my_word)[0],\n",
    "      'times, on rows', get_posts_for_feat(df_cvec,my_word)[1])\n",
    "my_word = 'lightning'\n",
    "print('')\n",
    "print('The word \"', my_word, '\" is found', get_posts_for_feat(df_cvec,my_word)[0],\n",
    "      'times, on rows', get_posts_for_feat(df_cvec,my_word)[1])\n",
    "my_word = 'space'\n",
    "print('')\n",
    "print('The word \"', my_word, '\" is found', get_posts_for_feat(df_cvec,my_word)[0],\n",
    "      'times, on rows', get_posts_for_feat(df_cvec,my_word)[1])\n",
    "my_word = 'fall'\n",
    "print('')\n",
    "print('The word \"', my_word, '\" is found', get_posts_for_feat(df_cvec,my_word)[0],\n",
    "      'times, on rows', get_posts_for_feat(df_cvec,my_word)[1])\n",
    "my_word = 'love'\n",
    "print('')\n",
    "print('The word \"', my_word, '\" is found', get_posts_for_feat(df_cvec,my_word)[0],\n",
    "      'times, on rows', get_posts_for_feat(df_cvec,my_word)[1])\n",
    "my_word = 'favorite'\n",
    "print('')\n",
    "print('The word \"', my_word, '\" is found', get_posts_for_feat(df_cvec,my_word)[0],\n",
    "      'times, on rows', get_posts_for_feat(df_cvec,my_word)[1])"
   ]
  },
  {
   "cell_type": "markdown",
   "metadata": {},
   "source": [
    "#### Looking at the words \"ship,\" \"lightning\" and \"space,\" I found that \"ship\" and \"space\" were found more frqeuently in the training data for Star-Trek post-titles.  (I know this from the row numbers; rows 1-858 were from 'r/StarWars.')  This explains why the training would lead these to be classified incorrectly.\n",
    "\n",
    "#### A similar explanation might explain the wildly-incorrect prediction on the third problem post-title, where \"love\" is found more frequently in Star-Wars post-titles in training.  For the last problem post-title it appears that \"favorite\" might be the explanation for the confusion leading to a prediction of a Star-Wars post-title, because it clearly hasn't learned of the significance of \"enterprise\".\n",
    "#### Maybe lemmatizing or stemming would have solved this problem."
   ]
  },
  {
   "cell_type": "markdown",
   "metadata": {},
   "source": [
    "### For testing of my Random-forests model on separate/unique unseen data from a later period ...\n",
    "#### The test score was about 5% lower compared to the earlier test."
   ]
  },
  {
   "cell_type": "code",
   "execution_count": 227,
   "metadata": {},
   "outputs": [
    {
     "data": {
      "text/plain": [
       "0.81859410430839"
      ]
     },
     "execution_count": 227,
     "metadata": {},
     "output_type": "execute_result"
    }
   ],
   "source": [
    "model_rf.score(X_new_transform, y_new)"
   ]
  },
  {
   "cell_type": "code",
   "execution_count": 228,
   "metadata": {},
   "outputs": [],
   "source": [
    "predictions_rf_new = model_rf.predict(X_new_transform)"
   ]
  },
  {
   "cell_type": "code",
   "execution_count": 229,
   "metadata": {},
   "outputs": [],
   "source": [
    "probas_rf_new = model_rf.predict_proba(X_new_transform)"
   ]
  },
  {
   "cell_type": "code",
   "execution_count": 230,
   "metadata": {},
   "outputs": [
    {
     "name": "stdout",
     "output_type": "stream",
     "text": [
      "             precision    recall  f1-score   support\n",
      "\n",
      "          0       0.93      0.79      0.85       289\n",
      "          1       0.68      0.88      0.77       152\n",
      "\n",
      "avg / total       0.84      0.82      0.82       441\n",
      "\n"
     ]
    }
   ],
   "source": [
    "tn, fp, fn, tp = confusion_matrix(y_new, predictions_rf_new).ravel()\n",
    "print(classification_report(y_new, predictions_rf_new))"
   ]
  },
  {
   "cell_type": "markdown",
   "metadata": {},
   "source": [
    "#### The average metric scores reflect the lower predictive results."
   ]
  },
  {
   "cell_type": "code",
   "execution_count": 231,
   "metadata": {},
   "outputs": [],
   "source": [
    "df_cm4 = pd.DataFrame(confusion_matrix(y_new, predictions_rf_new), columns=[\"\",\"True Star-Trek\"])"
   ]
  },
  {
   "cell_type": "code",
   "execution_count": 232,
   "metadata": {},
   "outputs": [
    {
     "data": {
      "text/plain": [
       "<matplotlib.axes._subplots.AxesSubplot at 0x1a28d5dd68>"
      ]
     },
     "execution_count": 232,
     "metadata": {},
     "output_type": "execute_result"
    },
    {
     "data": {
      "image/png": "[encoded data removed]",
      "text/plain": [
       "<Figure size 216x216 with 1 Axes>"
      ]
     },
     "metadata": {},
     "output_type": "display_data"
    }
   ],
   "source": [
    "fig, ax = plt.subplots(figsize=(3,3))\n",
    "title= \"Confusion Matrix - RanFor_test (Score=.819)\"\n",
    "plt.title(title, fontsize=18)\n",
    "sns.heatmap(df_cm4, \n",
    "            annot=True, \n",
    "            annot_kws={\"size\": 30}, \n",
    "            linewidths=.5, \n",
    "            fmt=\"g\", \n",
    "            cmap=\"BuGn\", \n",
    "            cbar=False,\n",
    "            xticklabels=False,\n",
    "            yticklabels=False)"
   ]
  },
  {
   "cell_type": "code",
   "execution_count": 233,
   "metadata": {},
   "outputs": [
    {
     "data": {
      "text/plain": [
       "<matplotlib.legend.Legend at 0x1a2a132e48>"
      ]
     },
     "execution_count": 233,
     "metadata": {},
     "output_type": "execute_result"
    },
    {
     "data": {
      "image/png": "[encoded data removed]",
      "text/plain": [
       "<Figure size 432x288 with 1 Axes>"
      ]
     },
     "metadata": {},
     "output_type": "display_data"
    }
   ],
   "source": [
    "N = 2\n",
    "pred_right = (tn, tp)\n",
    "pred_wrong = (fp, fn)\n",
    "ind = np.arange(N)    \n",
    "width = 0.35       \n",
    "\n",
    "p1 = plt.bar(ind, pred_right, width, color='0.5')\n",
    "p2 = plt.bar(ind, pred_wrong, width, color='0.7',\n",
    "             bottom=pred_right)\n",
    "\n",
    "plt.title('Random-forests Classification, New-Data Test-counts')\n",
    "plt.xticks(ind, ('Star Wars', 'Star Trek'))\n",
    "plt.yticks(np.arange(0, 300, 40))\n",
    "plt.legend((p2[0], p1[0]), ('Predicted-incorrect', 'Predicted-correct'))"
   ]
  },
  {
   "cell_type": "markdown",
   "metadata": {},
   "source": [
    "#### Compared to the logistic-regression predictions on the new-test data directly above, there was slightly better accuracy for the positive-minority class and much worse accuracy for the negative/majority class, surprisingly enough.  It seems as though the balance of the classes, or lack thereof, is not a factor in the test of the newer data.  \n",
    "\n",
    "#### Again, the logistic-regressor learned the uniqueness of the Star-Wars/Star-Trek language well, while the random-forests ensemble approach learned the positive class based on the relative strength of the feature importances."
   ]
  },
  {
   "cell_type": "markdown",
   "metadata": {},
   "source": [
    "### Misclassified posts (about 18% on average for random-forests):\n",
    "#### We can look at how confidently this model incorrectly predicted the subreddit source, as we did above.  The highest confidences (greater than 69% or less than 31%) for wrong predictions are listed below:\n",
    "\n",
    "| Random-forests False-Predictions | Unseen Post-titles |\n",
    "| --- | --- |\n",
    "| False-StarTrek | Any good books set in the OT without any of the main characters |\n",
    "| False-StarTrek | Hailfire droid vs AT-AT: Which would win? |\n",
    "| False-StarTrek | Is there anyone that knows the name of this ship? |\n",
    "| False-StarTrek | Episodes I-VI Bonus Features |\n",
    "| False-StarTrek | Box set for episodes 7-9? (See text) (Movies) |\n",
    "| False-StarTrek | I was rewatching season 1 of Rebels and a line from Tarken stood out to me |\n",
    "| False-StarTrek | Are there any intelligent aquatic species that can't breathe on land? |\n",
    "| False-StarTrek | 1000 Storm Troopers vs 2000 Nazi Zombies - Ultimate epic simulator |\n",
    "| False-StarTrek | Can lightning be summoned in space? |\n",
    "| False-StarTrek | All the hate for BFII aside - I REALLY enjoyed.. |\n",
    "| False-StarTrek |  Let’s talk cross fire. Why isn’t it really an issue in any of the live action or animated series? |\n",
    "| False-StarTrek | Need a pepakura file! |\n",
    "| False-StarWars | How did you fall in love? |\n",
    "| False-StarWars | Is there something that a show or movie did wrong, but you don't think could've ever been done right? |\n",
    "| False-StarWars | Taking Memory Beta out of context is fun |\n",
    "| False-StarWars | Here's a thought: what would they keep in their pockets? (If they had them?) |\n",
    "| False-StarWars | What are your favorite Enterprises? |\n",
    "| False-StarWars | Anyone for a good old sing-song? |\n",
    "| False-StarWars | [video] \"Matters of internal security. The age-old cry of the Oppressor\" |\n",
    "#### There were many more confident errors including the errors made by the logistic-regression model, but the level of confidence was markedly higher.  What is interesting is that the missclassification of the four post-titles by logistic-regression model, were also wildly misclassified by the random-forests model."
   ]
  },
  {
   "cell_type": "code",
   "execution_count": 249,
   "metadata": {
    "scrolled": false
   },
   "outputs": [
    {
     "name": "stdout",
     "output_type": "stream",
     "text": [
      "Random-forests Model with New Data:\n",
      "\n",
      "Ct|false-Prediction|   Confidence  | Post-title\n",
      "\n",
      "1 false-Trek [0.46524996 0.53475004] Fulfill your destiny\n",
      "2 false-Trek [0.41775494 0.58224506] Sweet cufflinks I found at Fan Expo\n",
      "3 false-Trek [0.46524996 0.53475004] 🤦🏼‍♂️\n",
      "4 false-Trek [0.13777034 0.86222966] Any good books set in the OT without any of the main characters\n",
      "5 false-Trek [0.19741625 0.80258375] Hailfire droid vs AT-AT: Which would win?\n",
      "6 false-Trek [0.44113663 0.55886337] Amazing looking shoretrooper at Dragon con in Atlanta.\n",
      "7 false-Trek [0.46524996 0.53475004] Jyn Erso, by Tomas Overbai\n",
      "8 false-Trek [0.47527496 0.52472504] Jeremy Bulloch Grabs Leia?\n",
      "9 false-Trek [0.46524996 0.53475004] Grandma Tarkin\n",
      "10 false-Trek [0.46524996 0.53475004] You have to believe...\n",
      "11 false-Trek [0.48215472 0.51784528] Was the prequel government a theocracy?\n",
      "12 false-Trek [0.08374025 0.91625975] Is there anyone that knows the name of this ship?\n",
      "13 false-Trek [0.46524996 0.53475004] LoL\n",
      "14 false-Trek [0.06823652 0.93176348] Episodes I-VI Bonus Features\n",
      "15 false-Trek [0.4926134 0.5073866] In the description of the sub \"subreddit\" is written \"sub reddit\", why?\n",
      "16 false-Trek [0.32437519 0.67562481] Was watching Evolution on Amazon when I saw a trivia popup about David Duchovny. Big mistake David.\n",
      "17 false-Trek [0.22352941 0.77647059] Box set for episodes 7-9? (See text) (Movies)\n",
      "18 false-Trek [0.46524996 0.53475004] Rian Johnson subverted the expectations of mathematics.\n",
      "19 false-Trek [0.46524996 0.53475004] Smooth Criminal\n",
      "20 false-Trek [0.43584355 0.56415645] So I was in the Space Mountain gift shop...\n",
      "21 false-Trek [0.20244583 0.79755417] I was rewatching season 1 of Rebels and a line from Tarken stood out to me\n",
      "22 false-Trek [0.47630786 0.52369214] Was there ever an explanation why noone noticed for 10 years the production of the GAR and especially the equipment?\n",
      "23 false-Trek [0.33438972 0.66561028] Theory: Ben \"Lies\"\n",
      "24 false-Trek [0.46548437 0.53451563] ST scale comparison from BB-8 to the Supremacy\n",
      "25 false-Trek [0.46524996 0.53475004] Fetch!\n",
      "26 false-Trek [0.11365254 0.88634746] Are there any intelligent aquatic species that can't breathe on land?\n",
      "27 false-Trek [0.38119359 0.61880641] First set I bought in months\n",
      "28 false-Trek [0.476 0.524] This is the first time I've seen Amazon packed book like this...With a little big box.\n",
      "29 false-Trek [0.46524996 0.53475004] Someone at the DHS is one of us.\n",
      "30 false-Trek [0.13945977 0.86054023] 1000 Storm Troopers vs 2000 Nazi Zombies - Ultimate epic simulator\n",
      "31 false-Trek [0.46524996 0.53475004] My Mara Jade Skywalker from DragonCon\n",
      "32 false-Trek [0.46524996 0.53475004] TIE Silencer variants by Matty Devin Brown\n",
      "33 false-Trek [0.46524996 0.53475004] No, Leave them to me, I will deal with them myself..\n",
      "34 false-Trek [0.36992101 0.63007899] What should I read or watch before reading Timothy Zahn Thrawn ?\n",
      "35 false-Trek [0.49259432 0.50740568] There should be a messenger app stylized like opening text crawl\n",
      "36 false-Trek [0.46524996 0.53475004] My pride and joy.\n",
      "37 false-Trek [0.32998972 0.67001028] My headcanon theory on the Nebulon B frigate\n",
      "38 false-Trek [0.46454085 0.53545915] Hope for the Galaxy.\n",
      "39 false-Trek [0.13210976 0.86789024] Can lightning be summoned in space?\n",
      "40 false-Trek [0.46524996 0.53475004] Scoundrels\n",
      "41 false-Trek [0.46524996 0.53475004] Bail Organa\n",
      "42 false-Trek [0.46524996 0.53475004] Unexpected Naboo N-1 Starfighter in a physics textbook\n",
      "43 false-Trek [0.47105641 0.52894359] Married my forever nerd last week\n",
      "44 false-Trek [0.40244271 0.59755729] Lightsabers You Can Hug: An Interview with Softsabers Creator Michelle Sharp\n",
      "45 false-Trek [0.46524996 0.53475004] Outnumbered.\n",
      "46 false-Trek [0.36664688 0.63335312] The guy who plays jeremiah in gotham would make a really good young thrawn\n",
      "47 false-Trek [0.29585856 0.70414144] All the hate for BFII aside - I REALLY enjoyed..\n",
      "48 false-Trek [0.3313942 0.6686058] My husband suggested we should remove Admiral Akbar from the toilet seat when we renovated our bathroom. But I’d already designed the entire space taking the good Admiral’s bold black and white silhouette as the main inspiration and focal point.\n",
      "49 false-Trek [0.46524996 0.53475004] Wookiee cookies\n",
      "50 false-Trek [0.46524996 0.53475004] Inoo shatta bonka shada mooli raaa\n",
      "51 false-Trek [0.46524996 0.53475004] On hold until Thanksgiving. Also here for 2 karma\n",
      "52 false-Trek [0.48964099 0.51035901] Who would you spend 3 hours with alone in a room?\n",
      "53 false-Trek [0.46524996 0.53475004] Sweet Airbrushed T-Shirt?\n",
      "54 false-Trek [0.37821046 0.62178954] [ThePruld] Ewok (0:33, make sure you turn the subtitles on!)\n",
      "55 false-Trek [0.49271743 0.50728257] Our General Grievous (x-post r/WhatsWrongWithYourDog)\n",
      "56 false-Trek [0.49370458 0.50629542] Two of my band mates released this with their other project. Had no idea where to post it, but I thought it might have you guys' interest. Enjoy!\n",
      "57 false-Trek [0.37049825 0.62950175] Never too late to learn!\n",
      "58 false-Trek [0.300539 0.699461] Let’s talk cross fire. Why isn’t it really an issue in any of the live action or animated series?\n",
      "59 false-Trek [0.45232785 0.54767215] I couldn’t resist...\n",
      "60 false-Trek [0.46524996 0.53475004] Hmmm\n",
      "61 false-Trek [0.46524996 0.53475004] Youtuber CaptainShack recreated a classic.\n",
      "62 false-Trek [0.22091204 0.77908796] Need a pepakura file!\n",
      "63 false-Wars [0.56627423 0.43372577] Spore drive: dumb idea, or dumbest idea?\n",
      "64 false-Wars [0.58203785 0.41796215] Which quadrant would you prefer a new show take place in?\n",
      "65 false-Wars [0.68664974 0.31335026] How a scene in “Bloodlines” should have gone\n",
      "66 false-Wars [0.65349952 0.34650048] I just thought of a great idea (I think so, at least)\n",
      "67 false-Wars [0.92120225 0.07879775] How did you fall in love?\n",
      "68 false-Wars [0.76634875 0.23365125] Is there something that a show or movie did wrong, but you don't think could've ever been done right?\n",
      "69 false-Wars [0.64394918 0.35605082] Shop LLAP is having a Labor Day sale.\n",
      "70 false-Wars [0.78592284 0.21407716] Taking Memory Beta out of context is fun\n",
      "71 false-Wars [0.50212001 0.49787999] Recommendations on NX-01 model? What company is making the best models lately or in the past?\n",
      "72 false-Wars [0.89246024 0.10753976] Here's a thought: what would they keep in their pockets? (If they had them?)\n",
      "73 false-Wars [0.5105 0.4895] Watching \"Time Squared\" for the upteenth time, and I'm still confused as balls.\n",
      "74 false-Wars [0.60788394 0.39211606] What would Quark think if he saw The Wolf of Wall Street?\n",
      "75 false-Wars [0.7170074 0.2829926] Anyone for a good old sing-song?\n",
      "76 false-Wars [0.89559987 0.10440013] What are your favorite Enterprises?\n",
      "77 false-Wars [0.54457795 0.45542205] Okudagrams Part 1: How one man designed the future we all love\n",
      "78 false-Wars [0.58043393 0.41956607] Which movie had the best (and worst) music?\n",
      "79 false-Wars [0.63217157 0.36782843] Unsettling/Creepy Episode Reccomendations\n",
      "80 false-Wars [0.82524089 0.17475911] [video] \"Matters of internal security. The age-old cry of the Oppressor\"\n"
     ]
    }
   ],
   "source": [
    "print('Random-forests Model with New Data:')\n",
    "print('')\n",
    "print('Ct|false-Prediction|   Confidence  | Post-title')\n",
    "print('')\n",
    "ct_rf=0\n",
    "for i in range(len(X_new)):\n",
    "    if list(predictions_rf_new)[i] != y_new[i]:\n",
    "        ct_rf += 1\n",
    "        if list(predictions_rf_new)[i] == 0:\n",
    "            print(ct_rf, 'false-Wars',probas_rf_new[i],X_new[i])\n",
    "        else:\n",
    "            print(ct_rf, 'false-Trek',probas_rf_new[i],X_new[i])"
   ]
  },
  {
   "cell_type": "markdown",
   "metadata": {},
   "source": [
    "#### There were many more wildly incorrect Star-Trek predictions.  The model was trained to focus better on Star-Trek post-titles, so this might explain the false-positives."
   ]
  },
  {
   "cell_type": "markdown",
   "metadata": {},
   "source": [
    "# Conclusion"
   ]
  },
  {
   "cell_type": "markdown",
   "metadata": {},
   "source": [
    "### Based on the lower misclassification rate and higher accuracy, the logistic-regression model appears to be the superior classifier.  The logistic-regression model also seems to slightly more accurate in generalizing Star-Wars posts, while the random-forests model is more accurate for predicting Star-Trek posts.\n",
    "\n",
    "### It makes sense that training with more data would only improve the accuracy of each of the models.  There were wildly-confident misclassifications where lemmatizing or stemming would have been effective.  The reason for the generally high predictability of the model may lie in the rich distinctiveness of the language built in each franchise.\n",
    "\n",
    "### Our best models beat our baseline model without a doubt.  They provide a means to identify 'r/startrek' post-titles and a more tempered Sci-Fi universe with compelling stories as well as balanced character diversity."
   ]
  },
  {
   "cell_type": "markdown",
   "metadata": {},
   "source": [
    "# Executive Summary"
   ]
  },
  {
   "cell_type": "markdown",
   "metadata": {},
   "source": [
    "###  The Social-Justice Warriors are taking a bashing among fans of the post-Lucas Star-Wars-Extended-Universe.  On the other hand, all is relatively quiet on the Star-Trek-Extended-Universe front.  The average Sci-Fi enthusiast would do well to avoid the toxic tension of the former fandom in the media.\n",
    "\n",
    "### There’s a huge bummer associated with encountering a spoiler.  Whether it be in sports of movies, wouldn’t it be great to avoid that algorithmicly?  We need a reliable way to identify if a post or media article is talking about Star Wars and what are the most important words to look for to make that identification.\n",
    "\n",
    "### My model can generalize new posts for the source and thereby the expected level of tameness in the contents.  Trained from the titles of about 900 posts, one can be almost 90% sure which flavor of the galactic genres one is about to read.\n",
    "\n",
    "### There are distinct collections of words that make the separation between the two subjects possible, such that only 10-15% of posts are truly ambiguous.  This can be done using one for two classifier models.\n",
    "\n",
    "### Don’t wait.  Subscribe to our filtering guide today and save yourself the aggravation of reading another SJW-battering comment.  Get out of the Dark Side, once and for all."
   ]
  },
  {
   "cell_type": "markdown",
   "metadata": {},
   "source": [
    "## Thank you!"
   ]
  }
 ],
 "metadata": {
  "kernelspec": {
   "display_name": "Python 3",
   "language": "python",
   "name": "python3"
  },
  "language_info": {
   "codemirror_mode": {
    "name": "ipython",
    "version": 3
   },
   "file_extension": ".py",
   "mimetype": "text/x-python",
   "name": "python",
   "nbconvert_exporter": "python",
   "pygments_lexer": "ipython3",
   "version": "3.6.5"
  }
 },
 "nbformat": 4,
 "nbformat_minor": 2
}
